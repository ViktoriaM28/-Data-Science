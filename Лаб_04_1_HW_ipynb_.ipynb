{
  "cells": [
    {
      "cell_type": "markdown",
      "metadata": {
        "id": "Mxb1uU1IW6CY"
      },
      "source": [
        "\n",
        "# Задание к лекции 04-1: Линейная регрессия 1\n",
        "\n",
        "Name: Макарова Виктория\n",
        "\n",
        "Email: makarova_vs@mgpu.ru\n",
        "\n",
        "\n"
      ]
    },
    {
      "cell_type": "markdown",
      "metadata": {
        "collapsed": true,
        "id": "rI9XGWEBW6CZ"
      },
      "source": [
        "## Упражнение: амфетамин и аппетит\n",
        "\n",
        "Амфетамин – препарат, подавляющий аппетит. В исследовании этого эффекта фармаколог случайным образом распределил 24 крысы на три группы лечения, которым вводили инъекцию амфетамина в одной из двух дозировок (2,5 мг/кг или 5,0 мг/кг) или инъекцию физиологического раствора (0 мг). /кг). Он измерил количество пищи, потребляемой каждым животным (в г/кг) в течение 3-часового периода после инъекции. Результаты (граммы потребляемой пищи на кг массы тела) показаны ниже.\n"
      ]
    },
    {
      "cell_type": "code",
      "execution_count": null,
      "metadata": {
        "id": "aDLbdbROW6Ca"
      },
      "outputs": [],
      "source": [
        "# imports and setup\n",
        "\n",
        "import scipy as sc\n",
        "import numpy as np\n",
        "\n",
        "import pandas as pd\n",
        "import statsmodels.formula.api as sm\n",
        "from sklearn import linear_model\n",
        "\n",
        "import matplotlib.pyplot as plt\n",
        "%matplotlib inline\n",
        "plt.rcParams['figure.figsize'] = (10, 6)\n",
        "\n",
        "from mpl_toolkits.mplot3d import Axes3D\n",
        "from matplotlib import cm\n",
        "\n",
        "# Experiment results:\n",
        "\n",
        "food_consump_dose0 = [112.6, 102.1, 90.2, 81.5, 105.6, 93.0, 106.6, 108.3]\n",
        "food_consump_dose2p5 = [73.3, 84.8, 67.3, 55.3, 80.7, 90.0, 75.5, 77.1]\n",
        "food_consump_dose5 = [38.5, 81.3, 57.1, 62.3, 51.5, 48.3, 42.7, 57.9]\n"
      ]
    },
    {
      "cell_type": "markdown",
      "source": [
        "Создадим датафрейм"
      ],
      "metadata": {
        "id": "TyxkVGsA9G7w"
      }
    },
    {
      "cell_type": "code",
      "source": [
        "doses = [0,0,0,0,0,0,0,0,2.5,2.5,2.5,2.5,2.5,2.5,2.5,2.5,5,5,5,5,5,5,5,5]\n",
        "food = food_consump_dose0 + food_consump_dose2p5 + food_consump_dose5\n",
        "dt = pd.DataFrame({'Dose': doses, 'Food': food})\n",
        "dt"
      ],
      "metadata": {
        "colab": {
          "base_uri": "https://localhost:8080/",
          "height": 802
        },
        "id": "55DNWzVI9L8l",
        "outputId": "c5d11a31-59ae-4810-a149-480a7247e40c"
      },
      "execution_count": null,
      "outputs": [
        {
          "output_type": "execute_result",
          "data": {
            "text/plain": [
              "    Dose   Food\n",
              "0    0.0  112.6\n",
              "1    0.0  102.1\n",
              "2    0.0   90.2\n",
              "3    0.0   81.5\n",
              "4    0.0  105.6\n",
              "5    0.0   93.0\n",
              "6    0.0  106.6\n",
              "7    0.0  108.3\n",
              "8    2.5   73.3\n",
              "9    2.5   84.8\n",
              "10   2.5   67.3\n",
              "11   2.5   55.3\n",
              "12   2.5   80.7\n",
              "13   2.5   90.0\n",
              "14   2.5   75.5\n",
              "15   2.5   77.1\n",
              "16   5.0   38.5\n",
              "17   5.0   81.3\n",
              "18   5.0   57.1\n",
              "19   5.0   62.3\n",
              "20   5.0   51.5\n",
              "21   5.0   48.3\n",
              "22   5.0   42.7\n",
              "23   5.0   57.9"
            ],
            "text/html": [
              "\n",
              "  <div id=\"df-348d8307-e795-40ed-afec-8919264a6e5c\" class=\"colab-df-container\">\n",
              "    <div>\n",
              "<style scoped>\n",
              "    .dataframe tbody tr th:only-of-type {\n",
              "        vertical-align: middle;\n",
              "    }\n",
              "\n",
              "    .dataframe tbody tr th {\n",
              "        vertical-align: top;\n",
              "    }\n",
              "\n",
              "    .dataframe thead th {\n",
              "        text-align: right;\n",
              "    }\n",
              "</style>\n",
              "<table border=\"1\" class=\"dataframe\">\n",
              "  <thead>\n",
              "    <tr style=\"text-align: right;\">\n",
              "      <th></th>\n",
              "      <th>Dose</th>\n",
              "      <th>Food</th>\n",
              "    </tr>\n",
              "  </thead>\n",
              "  <tbody>\n",
              "    <tr>\n",
              "      <th>0</th>\n",
              "      <td>0.0</td>\n",
              "      <td>112.6</td>\n",
              "    </tr>\n",
              "    <tr>\n",
              "      <th>1</th>\n",
              "      <td>0.0</td>\n",
              "      <td>102.1</td>\n",
              "    </tr>\n",
              "    <tr>\n",
              "      <th>2</th>\n",
              "      <td>0.0</td>\n",
              "      <td>90.2</td>\n",
              "    </tr>\n",
              "    <tr>\n",
              "      <th>3</th>\n",
              "      <td>0.0</td>\n",
              "      <td>81.5</td>\n",
              "    </tr>\n",
              "    <tr>\n",
              "      <th>4</th>\n",
              "      <td>0.0</td>\n",
              "      <td>105.6</td>\n",
              "    </tr>\n",
              "    <tr>\n",
              "      <th>5</th>\n",
              "      <td>0.0</td>\n",
              "      <td>93.0</td>\n",
              "    </tr>\n",
              "    <tr>\n",
              "      <th>6</th>\n",
              "      <td>0.0</td>\n",
              "      <td>106.6</td>\n",
              "    </tr>\n",
              "    <tr>\n",
              "      <th>7</th>\n",
              "      <td>0.0</td>\n",
              "      <td>108.3</td>\n",
              "    </tr>\n",
              "    <tr>\n",
              "      <th>8</th>\n",
              "      <td>2.5</td>\n",
              "      <td>73.3</td>\n",
              "    </tr>\n",
              "    <tr>\n",
              "      <th>9</th>\n",
              "      <td>2.5</td>\n",
              "      <td>84.8</td>\n",
              "    </tr>\n",
              "    <tr>\n",
              "      <th>10</th>\n",
              "      <td>2.5</td>\n",
              "      <td>67.3</td>\n",
              "    </tr>\n",
              "    <tr>\n",
              "      <th>11</th>\n",
              "      <td>2.5</td>\n",
              "      <td>55.3</td>\n",
              "    </tr>\n",
              "    <tr>\n",
              "      <th>12</th>\n",
              "      <td>2.5</td>\n",
              "      <td>80.7</td>\n",
              "    </tr>\n",
              "    <tr>\n",
              "      <th>13</th>\n",
              "      <td>2.5</td>\n",
              "      <td>90.0</td>\n",
              "    </tr>\n",
              "    <tr>\n",
              "      <th>14</th>\n",
              "      <td>2.5</td>\n",
              "      <td>75.5</td>\n",
              "    </tr>\n",
              "    <tr>\n",
              "      <th>15</th>\n",
              "      <td>2.5</td>\n",
              "      <td>77.1</td>\n",
              "    </tr>\n",
              "    <tr>\n",
              "      <th>16</th>\n",
              "      <td>5.0</td>\n",
              "      <td>38.5</td>\n",
              "    </tr>\n",
              "    <tr>\n",
              "      <th>17</th>\n",
              "      <td>5.0</td>\n",
              "      <td>81.3</td>\n",
              "    </tr>\n",
              "    <tr>\n",
              "      <th>18</th>\n",
              "      <td>5.0</td>\n",
              "      <td>57.1</td>\n",
              "    </tr>\n",
              "    <tr>\n",
              "      <th>19</th>\n",
              "      <td>5.0</td>\n",
              "      <td>62.3</td>\n",
              "    </tr>\n",
              "    <tr>\n",
              "      <th>20</th>\n",
              "      <td>5.0</td>\n",
              "      <td>51.5</td>\n",
              "    </tr>\n",
              "    <tr>\n",
              "      <th>21</th>\n",
              "      <td>5.0</td>\n",
              "      <td>48.3</td>\n",
              "    </tr>\n",
              "    <tr>\n",
              "      <th>22</th>\n",
              "      <td>5.0</td>\n",
              "      <td>42.7</td>\n",
              "    </tr>\n",
              "    <tr>\n",
              "      <th>23</th>\n",
              "      <td>5.0</td>\n",
              "      <td>57.9</td>\n",
              "    </tr>\n",
              "  </tbody>\n",
              "</table>\n",
              "</div>\n",
              "    <div class=\"colab-df-buttons\">\n",
              "\n",
              "  <div class=\"colab-df-container\">\n",
              "    <button class=\"colab-df-convert\" onclick=\"convertToInteractive('df-348d8307-e795-40ed-afec-8919264a6e5c')\"\n",
              "            title=\"Convert this dataframe to an interactive table.\"\n",
              "            style=\"display:none;\">\n",
              "\n",
              "  <svg xmlns=\"http://www.w3.org/2000/svg\" height=\"24px\" viewBox=\"0 -960 960 960\">\n",
              "    <path d=\"M120-120v-720h720v720H120Zm60-500h600v-160H180v160Zm220 220h160v-160H400v160Zm0 220h160v-160H400v160ZM180-400h160v-160H180v160Zm440 0h160v-160H620v160ZM180-180h160v-160H180v160Zm440 0h160v-160H620v160Z\"/>\n",
              "  </svg>\n",
              "    </button>\n",
              "\n",
              "  <style>\n",
              "    .colab-df-container {\n",
              "      display:flex;\n",
              "      gap: 12px;\n",
              "    }\n",
              "\n",
              "    .colab-df-convert {\n",
              "      background-color: #E8F0FE;\n",
              "      border: none;\n",
              "      border-radius: 50%;\n",
              "      cursor: pointer;\n",
              "      display: none;\n",
              "      fill: #1967D2;\n",
              "      height: 32px;\n",
              "      padding: 0 0 0 0;\n",
              "      width: 32px;\n",
              "    }\n",
              "\n",
              "    .colab-df-convert:hover {\n",
              "      background-color: #E2EBFA;\n",
              "      box-shadow: 0px 1px 2px rgba(60, 64, 67, 0.3), 0px 1px 3px 1px rgba(60, 64, 67, 0.15);\n",
              "      fill: #174EA6;\n",
              "    }\n",
              "\n",
              "    .colab-df-buttons div {\n",
              "      margin-bottom: 4px;\n",
              "    }\n",
              "\n",
              "    [theme=dark] .colab-df-convert {\n",
              "      background-color: #3B4455;\n",
              "      fill: #D2E3FC;\n",
              "    }\n",
              "\n",
              "    [theme=dark] .colab-df-convert:hover {\n",
              "      background-color: #434B5C;\n",
              "      box-shadow: 0px 1px 3px 1px rgba(0, 0, 0, 0.15);\n",
              "      filter: drop-shadow(0px 1px 2px rgba(0, 0, 0, 0.3));\n",
              "      fill: #FFFFFF;\n",
              "    }\n",
              "  </style>\n",
              "\n",
              "    <script>\n",
              "      const buttonEl =\n",
              "        document.querySelector('#df-348d8307-e795-40ed-afec-8919264a6e5c button.colab-df-convert');\n",
              "      buttonEl.style.display =\n",
              "        google.colab.kernel.accessAllowed ? 'block' : 'none';\n",
              "\n",
              "      async function convertToInteractive(key) {\n",
              "        const element = document.querySelector('#df-348d8307-e795-40ed-afec-8919264a6e5c');\n",
              "        const dataTable =\n",
              "          await google.colab.kernel.invokeFunction('convertToInteractive',\n",
              "                                                    [key], {});\n",
              "        if (!dataTable) return;\n",
              "\n",
              "        const docLinkHtml = 'Like what you see? Visit the ' +\n",
              "          '<a target=\"_blank\" href=https://colab.research.google.com/notebooks/data_table.ipynb>data table notebook</a>'\n",
              "          + ' to learn more about interactive tables.';\n",
              "        element.innerHTML = '';\n",
              "        dataTable['output_type'] = 'display_data';\n",
              "        await google.colab.output.renderOutput(dataTable, element);\n",
              "        const docLink = document.createElement('div');\n",
              "        docLink.innerHTML = docLinkHtml;\n",
              "        element.appendChild(docLink);\n",
              "      }\n",
              "    </script>\n",
              "  </div>\n",
              "\n",
              "\n",
              "<div id=\"df-30a23f7e-a987-41c6-92ff-032d0bee359a\">\n",
              "  <button class=\"colab-df-quickchart\" onclick=\"quickchart('df-30a23f7e-a987-41c6-92ff-032d0bee359a')\"\n",
              "            title=\"Suggest charts\"\n",
              "            style=\"display:none;\">\n",
              "\n",
              "<svg xmlns=\"http://www.w3.org/2000/svg\" height=\"24px\"viewBox=\"0 0 24 24\"\n",
              "     width=\"24px\">\n",
              "    <g>\n",
              "        <path d=\"M19 3H5c-1.1 0-2 .9-2 2v14c0 1.1.9 2 2 2h14c1.1 0 2-.9 2-2V5c0-1.1-.9-2-2-2zM9 17H7v-7h2v7zm4 0h-2V7h2v10zm4 0h-2v-4h2v4z\"/>\n",
              "    </g>\n",
              "</svg>\n",
              "  </button>\n",
              "\n",
              "<style>\n",
              "  .colab-df-quickchart {\n",
              "      --bg-color: #E8F0FE;\n",
              "      --fill-color: #1967D2;\n",
              "      --hover-bg-color: #E2EBFA;\n",
              "      --hover-fill-color: #174EA6;\n",
              "      --disabled-fill-color: #AAA;\n",
              "      --disabled-bg-color: #DDD;\n",
              "  }\n",
              "\n",
              "  [theme=dark] .colab-df-quickchart {\n",
              "      --bg-color: #3B4455;\n",
              "      --fill-color: #D2E3FC;\n",
              "      --hover-bg-color: #434B5C;\n",
              "      --hover-fill-color: #FFFFFF;\n",
              "      --disabled-bg-color: #3B4455;\n",
              "      --disabled-fill-color: #666;\n",
              "  }\n",
              "\n",
              "  .colab-df-quickchart {\n",
              "    background-color: var(--bg-color);\n",
              "    border: none;\n",
              "    border-radius: 50%;\n",
              "    cursor: pointer;\n",
              "    display: none;\n",
              "    fill: var(--fill-color);\n",
              "    height: 32px;\n",
              "    padding: 0;\n",
              "    width: 32px;\n",
              "  }\n",
              "\n",
              "  .colab-df-quickchart:hover {\n",
              "    background-color: var(--hover-bg-color);\n",
              "    box-shadow: 0 1px 2px rgba(60, 64, 67, 0.3), 0 1px 3px 1px rgba(60, 64, 67, 0.15);\n",
              "    fill: var(--button-hover-fill-color);\n",
              "  }\n",
              "\n",
              "  .colab-df-quickchart-complete:disabled,\n",
              "  .colab-df-quickchart-complete:disabled:hover {\n",
              "    background-color: var(--disabled-bg-color);\n",
              "    fill: var(--disabled-fill-color);\n",
              "    box-shadow: none;\n",
              "  }\n",
              "\n",
              "  .colab-df-spinner {\n",
              "    border: 2px solid var(--fill-color);\n",
              "    border-color: transparent;\n",
              "    border-bottom-color: var(--fill-color);\n",
              "    animation:\n",
              "      spin 1s steps(1) infinite;\n",
              "  }\n",
              "\n",
              "  @keyframes spin {\n",
              "    0% {\n",
              "      border-color: transparent;\n",
              "      border-bottom-color: var(--fill-color);\n",
              "      border-left-color: var(--fill-color);\n",
              "    }\n",
              "    20% {\n",
              "      border-color: transparent;\n",
              "      border-left-color: var(--fill-color);\n",
              "      border-top-color: var(--fill-color);\n",
              "    }\n",
              "    30% {\n",
              "      border-color: transparent;\n",
              "      border-left-color: var(--fill-color);\n",
              "      border-top-color: var(--fill-color);\n",
              "      border-right-color: var(--fill-color);\n",
              "    }\n",
              "    40% {\n",
              "      border-color: transparent;\n",
              "      border-right-color: var(--fill-color);\n",
              "      border-top-color: var(--fill-color);\n",
              "    }\n",
              "    60% {\n",
              "      border-color: transparent;\n",
              "      border-right-color: var(--fill-color);\n",
              "    }\n",
              "    80% {\n",
              "      border-color: transparent;\n",
              "      border-right-color: var(--fill-color);\n",
              "      border-bottom-color: var(--fill-color);\n",
              "    }\n",
              "    90% {\n",
              "      border-color: transparent;\n",
              "      border-bottom-color: var(--fill-color);\n",
              "    }\n",
              "  }\n",
              "</style>\n",
              "\n",
              "  <script>\n",
              "    async function quickchart(key) {\n",
              "      const quickchartButtonEl =\n",
              "        document.querySelector('#' + key + ' button');\n",
              "      quickchartButtonEl.disabled = true;  // To prevent multiple clicks.\n",
              "      quickchartButtonEl.classList.add('colab-df-spinner');\n",
              "      try {\n",
              "        const charts = await google.colab.kernel.invokeFunction(\n",
              "            'suggestCharts', [key], {});\n",
              "      } catch (error) {\n",
              "        console.error('Error during call to suggestCharts:', error);\n",
              "      }\n",
              "      quickchartButtonEl.classList.remove('colab-df-spinner');\n",
              "      quickchartButtonEl.classList.add('colab-df-quickchart-complete');\n",
              "    }\n",
              "    (() => {\n",
              "      let quickchartButtonEl =\n",
              "        document.querySelector('#df-30a23f7e-a987-41c6-92ff-032d0bee359a button');\n",
              "      quickchartButtonEl.style.display =\n",
              "        google.colab.kernel.accessAllowed ? 'block' : 'none';\n",
              "    })();\n",
              "  </script>\n",
              "</div>\n",
              "    </div>\n",
              "  </div>\n"
            ],
            "application/vnd.google.colaboratory.intrinsic+json": {
              "type": "dataframe",
              "variable_name": "dt",
              "summary": "{\n  \"name\": \"dt\",\n  \"rows\": 24,\n  \"fields\": [\n    {\n      \"column\": \"Dose\",\n      \"properties\": {\n        \"dtype\": \"number\",\n        \"std\": 2.0851441405707476,\n        \"min\": 0.0,\n        \"max\": 5.0,\n        \"num_unique_values\": 3,\n        \"samples\": [\n          0.0,\n          2.5,\n          5.0\n        ],\n        \"semantic_type\": \"\",\n        \"description\": \"\"\n      }\n    },\n    {\n      \"column\": \"Food\",\n      \"properties\": {\n        \"dtype\": \"number\",\n        \"std\": 21.84268482661375,\n        \"min\": 38.5,\n        \"max\": 112.6,\n        \"num_unique_values\": 24,\n        \"samples\": [\n          73.3,\n          38.5,\n          112.6\n        ],\n        \"semantic_type\": \"\",\n        \"description\": \"\"\n      }\n    }\n  ]\n}"
            }
          },
          "metadata": {},
          "execution_count": 7
        }
      ]
    },
    {
      "cell_type": "markdown",
      "metadata": {
        "id": "GecNbZN6W6Ca"
      },
      "source": [
        "## Упражнение 4-1.1: Диаграмма рассеяния и линейная регрессия\n",
        "\n",
        "**Упражнение:** Постройте диаграмму рассеяния, указав дозу в качестве переменной $x$ и потребление пищи в качестве переменной $y$. Затем запустите линейную регрессию данных, используя функцию `ols` из библиотеки `Python statsmodels`, чтобы связать переменные по\n",
        "\n",
        "$$\n",
        "\\text{Потребление пищи} = \\beta_0 + \\beta_1 \\text{Доза}.\n",
        "$$\n",
        "\n",
        "Какое получается линейное уравнение? Каково значение $R^2$? Считаете ли вы, что переменные имеют сильную линейную связь? Добавьте линию тренда к диаграмме рассеяния."
      ]
    },
    {
      "cell_type": "code",
      "source": [
        "plt.scatter(x=dt['Dose'],y=dt['Food'],c='r',marker='s',label='dose0')\n",
        "\n",
        "\n",
        "plt.legend(loc=4)\n",
        "plt.xlabel('Количество дозы в (г.)')\n",
        "plt.ylabel('Кол-во потребляемой пиши в (г.)')\n",
        "plt.show()"
      ],
      "metadata": {
        "colab": {
          "base_uri": "https://localhost:8080/",
          "height": 542
        },
        "id": "d5yp03PwSqB5",
        "outputId": "129a0bc8-8034-4587-8f9a-5023289ceb88"
      },
      "execution_count": null,
      "outputs": [
        {
          "output_type": "display_data",
          "data": {
            "text/plain": [
              "<Figure size 1000x600 with 1 Axes>"
            ],
            "image/png": "[encoded data removed]"
          },
          "metadata": {}
        }
      ]
    },
    {
      "cell_type": "markdown",
      "source": [
        "Из анализа видно, что существует взаимосвязь между дозами и потреблением пищи. Чем больше доза амфитамина, тем меньше количество потребляемой пищи."
      ],
      "metadata": {
        "id": "OoXfuljcmF2Z"
      }
    },
    {
      "cell_type": "code",
      "source": [
        "r_food = sm.ols(formula=\"Dose ~ Food\", data=dt).fit()\n",
        "r_food.summary()"
      ],
      "metadata": {
        "colab": {
          "base_uri": "https://localhost:8080/",
          "height": 451
        },
        "id": "edkLorP6-dym",
        "outputId": "94e8c660-e1d8-4faf-b8d4-e5f842dd3c23"
      },
      "execution_count": null,
      "outputs": [
        {
          "output_type": "execute_result",
          "data": {
            "text/plain": [
              "<class 'statsmodels.iolib.summary.Summary'>\n",
              "\"\"\"\n",
              "                            OLS Regression Results                            \n",
              "==============================================================================\n",
              "Dep. Variable:                   Dose   R-squared:                       0.739\n",
              "Model:                            OLS   Adj. R-squared:                  0.728\n",
              "Method:                 Least Squares   F-statistic:                     62.41\n",
              "Date:                Thu, 16 May 2024   Prob (F-statistic):           7.27e-08\n",
              "Time:                        10:37:14   Log-Likelihood:                -35.044\n",
              "No. Observations:                  24   AIC:                             74.09\n",
              "Df Residuals:                      22   BIC:                             76.44\n",
              "Df Model:                           1                                         \n",
              "Covariance Type:            nonrobust                                         \n",
              "==============================================================================\n",
              "                 coef    std err          t      P>|t|      [0.025      0.975]\n",
              "------------------------------------------------------------------------------\n",
              "Intercept      8.8052      0.828     10.629      0.000       7.087      10.523\n",
              "Food          -0.0821      0.010     -7.900      0.000      -0.104      -0.061\n",
              "==============================================================================\n",
              "Omnibus:                        2.704   Durbin-Watson:                   1.474\n",
              "Prob(Omnibus):                  0.259   Jarque-Bera (JB):                1.202\n",
              "Skew:                           0.328   Prob(JB):                        0.548\n",
              "Kurtosis:                       3.878   Cond. No.                         297.\n",
              "==============================================================================\n",
              "\n",
              "Notes:\n",
              "[1] Standard Errors assume that the covariance matrix of the errors is correctly specified.\n",
              "\"\"\""
            ],
            "text/html": [
              "<table class=\"simpletable\">\n",
              "<caption>OLS Regression Results</caption>\n",
              "<tr>\n",
              "  <th>Dep. Variable:</th>          <td>Dose</td>       <th>  R-squared:         </th> <td>   0.739</td>\n",
              "</tr>\n",
              "<tr>\n",
              "  <th>Model:</th>                   <td>OLS</td>       <th>  Adj. R-squared:    </th> <td>   0.728</td>\n",
              "</tr>\n",
              "<tr>\n",
              "  <th>Method:</th>             <td>Least Squares</td>  <th>  F-statistic:       </th> <td>   62.41</td>\n",
              "</tr>\n",
              "<tr>\n",
              "  <th>Date:</th>             <td>Thu, 16 May 2024</td> <th>  Prob (F-statistic):</th> <td>7.27e-08</td>\n",
              "</tr>\n",
              "<tr>\n",
              "  <th>Time:</th>                 <td>10:37:14</td>     <th>  Log-Likelihood:    </th> <td> -35.044</td>\n",
              "</tr>\n",
              "<tr>\n",
              "  <th>No. Observations:</th>      <td>    24</td>      <th>  AIC:               </th> <td>   74.09</td>\n",
              "</tr>\n",
              "<tr>\n",
              "  <th>Df Residuals:</th>          <td>    22</td>      <th>  BIC:               </th> <td>   76.44</td>\n",
              "</tr>\n",
              "<tr>\n",
              "  <th>Df Model:</th>              <td>     1</td>      <th>                     </th>     <td> </td>   \n",
              "</tr>\n",
              "<tr>\n",
              "  <th>Covariance Type:</th>      <td>nonrobust</td>    <th>                     </th>     <td> </td>   \n",
              "</tr>\n",
              "</table>\n",
              "<table class=\"simpletable\">\n",
              "<tr>\n",
              "      <td></td>         <th>coef</th>     <th>std err</th>      <th>t</th>      <th>P>|t|</th>  <th>[0.025</th>    <th>0.975]</th>  \n",
              "</tr>\n",
              "<tr>\n",
              "  <th>Intercept</th> <td>    8.8052</td> <td>    0.828</td> <td>   10.629</td> <td> 0.000</td> <td>    7.087</td> <td>   10.523</td>\n",
              "</tr>\n",
              "<tr>\n",
              "  <th>Food</th>      <td>   -0.0821</td> <td>    0.010</td> <td>   -7.900</td> <td> 0.000</td> <td>   -0.104</td> <td>   -0.061</td>\n",
              "</tr>\n",
              "</table>\n",
              "<table class=\"simpletable\">\n",
              "<tr>\n",
              "  <th>Omnibus:</th>       <td> 2.704</td> <th>  Durbin-Watson:     </th> <td>   1.474</td>\n",
              "</tr>\n",
              "<tr>\n",
              "  <th>Prob(Omnibus):</th> <td> 0.259</td> <th>  Jarque-Bera (JB):  </th> <td>   1.202</td>\n",
              "</tr>\n",
              "<tr>\n",
              "  <th>Skew:</th>          <td> 0.328</td> <th>  Prob(JB):          </th> <td>   0.548</td>\n",
              "</tr>\n",
              "<tr>\n",
              "  <th>Kurtosis:</th>      <td> 3.878</td> <th>  Cond. No.          </th> <td>    297.</td>\n",
              "</tr>\n",
              "</table><br/><br/>Notes:<br/>[1] Standard Errors assume that the covariance matrix of the errors is correctly specified."
            ],
            "text/latex": "\\begin{center}\n\\begin{tabular}{lclc}\n\\toprule\n\\textbf{Dep. Variable:}    &       Dose       & \\textbf{  R-squared:         } &     0.739   \\\\\n\\textbf{Model:}            &       OLS        & \\textbf{  Adj. R-squared:    } &     0.728   \\\\\n\\textbf{Method:}           &  Least Squares   & \\textbf{  F-statistic:       } &     62.41   \\\\\n\\textbf{Date:}             & Thu, 16 May 2024 & \\textbf{  Prob (F-statistic):} &  7.27e-08   \\\\\n\\textbf{Time:}             &     10:37:14     & \\textbf{  Log-Likelihood:    } &   -35.044   \\\\\n\\textbf{No. Observations:} &          24      & \\textbf{  AIC:               } &     74.09   \\\\\n\\textbf{Df Residuals:}     &          22      & \\textbf{  BIC:               } &     76.44   \\\\\n\\textbf{Df Model:}         &           1      & \\textbf{                     } &             \\\\\n\\textbf{Covariance Type:}  &    nonrobust     & \\textbf{                     } &             \\\\\n\\bottomrule\n\\end{tabular}\n\\begin{tabular}{lcccccc}\n                   & \\textbf{coef} & \\textbf{std err} & \\textbf{t} & \\textbf{P$> |$t$|$} & \\textbf{[0.025} & \\textbf{0.975]}  \\\\\n\\midrule\n\\textbf{Intercept} &       8.8052  &        0.828     &    10.629  &         0.000        &        7.087    &       10.523     \\\\\n\\textbf{Food}      &      -0.0821  &        0.010     &    -7.900  &         0.000        &       -0.104    &       -0.061     \\\\\n\\bottomrule\n\\end{tabular}\n\\begin{tabular}{lclc}\n\\textbf{Omnibus:}       &  2.704 & \\textbf{  Durbin-Watson:     } &    1.474  \\\\\n\\textbf{Prob(Omnibus):} &  0.259 & \\textbf{  Jarque-Bera (JB):  } &    1.202  \\\\\n\\textbf{Skew:}          &  0.328 & \\textbf{  Prob(JB):          } &    0.548  \\\\\n\\textbf{Kurtosis:}      &  3.878 & \\textbf{  Cond. No.          } &     297.  \\\\\n\\bottomrule\n\\end{tabular}\n%\\caption{OLS Regression Results}\n\\end{center}\n\nNotes: \\newline\n [1] Standard Errors assume that the covariance matrix of the errors is correctly specified."
          },
          "metadata": {},
          "execution_count": 9
        }
      ]
    },
    {
      "cell_type": "markdown",
      "source": [
        "Линейное уравнение:  y=8,8052-0,0821*Food\n",
        "Коэффициент детерминации равен 74%, что говорит данная модель учивает такой процент изменчивости данных. Значение p < 0.005."
      ],
      "metadata": {
        "id": "mclqdzAN-06g"
      }
    },
    {
      "cell_type": "code",
      "source": [
        "df2 = sm.ols(formula=\"Food ~ Dose \", data=dt).fit()\n",
        "df2.summary()"
      ],
      "metadata": {
        "colab": {
          "base_uri": "https://localhost:8080/",
          "height": 451
        },
        "id": "C-bKejJr_9ih",
        "outputId": "b941eb50-fc6b-40eb-e0a9-07c9795ec7e1"
      },
      "execution_count": null,
      "outputs": [
        {
          "output_type": "execute_result",
          "data": {
            "text/plain": [
              "<class 'statsmodels.iolib.summary.Summary'>\n",
              "\"\"\"\n",
              "                            OLS Regression Results                            \n",
              "==============================================================================\n",
              "Dep. Variable:                   Food   R-squared:                       0.739\n",
              "Model:                            OLS   Adj. R-squared:                  0.728\n",
              "Method:                 Least Squares   F-statistic:                     62.41\n",
              "Date:                Thu, 16 May 2024   Prob (F-statistic):           7.27e-08\n",
              "Time:                        10:46:52   Log-Likelihood:                -91.420\n",
              "No. Observations:                  24   AIC:                             186.8\n",
              "Df Residuals:                      22   BIC:                             189.2\n",
              "Df Model:                           1                                         \n",
              "Covariance Type:            nonrobust                                         \n",
              "==============================================================================\n",
              "                 coef    std err          t      P>|t|      [0.025      0.975]\n",
              "------------------------------------------------------------------------------\n",
              "Intercept     99.3313      3.680     26.994      0.000      91.700     106.963\n",
              "Dose          -9.0075      1.140     -7.900      0.000     -11.372      -6.643\n",
              "==============================================================================\n",
              "Omnibus:                        0.409   Durbin-Watson:                   2.109\n",
              "Prob(Omnibus):                  0.815   Jarque-Bera (JB):                0.052\n",
              "Skew:                           0.114   Prob(JB):                        0.974\n",
              "Kurtosis:                       3.012   Cond. No.                         5.41\n",
              "==============================================================================\n",
              "\n",
              "Notes:\n",
              "[1] Standard Errors assume that the covariance matrix of the errors is correctly specified.\n",
              "\"\"\""
            ],
            "text/html": [
              "<table class=\"simpletable\">\n",
              "<caption>OLS Regression Results</caption>\n",
              "<tr>\n",
              "  <th>Dep. Variable:</th>          <td>Food</td>       <th>  R-squared:         </th> <td>   0.739</td>\n",
              "</tr>\n",
              "<tr>\n",
              "  <th>Model:</th>                   <td>OLS</td>       <th>  Adj. R-squared:    </th> <td>   0.728</td>\n",
              "</tr>\n",
              "<tr>\n",
              "  <th>Method:</th>             <td>Least Squares</td>  <th>  F-statistic:       </th> <td>   62.41</td>\n",
              "</tr>\n",
              "<tr>\n",
              "  <th>Date:</th>             <td>Thu, 16 May 2024</td> <th>  Prob (F-statistic):</th> <td>7.27e-08</td>\n",
              "</tr>\n",
              "<tr>\n",
              "  <th>Time:</th>                 <td>10:46:52</td>     <th>  Log-Likelihood:    </th> <td> -91.420</td>\n",
              "</tr>\n",
              "<tr>\n",
              "  <th>No. Observations:</th>      <td>    24</td>      <th>  AIC:               </th> <td>   186.8</td>\n",
              "</tr>\n",
              "<tr>\n",
              "  <th>Df Residuals:</th>          <td>    22</td>      <th>  BIC:               </th> <td>   189.2</td>\n",
              "</tr>\n",
              "<tr>\n",
              "  <th>Df Model:</th>              <td>     1</td>      <th>                     </th>     <td> </td>   \n",
              "</tr>\n",
              "<tr>\n",
              "  <th>Covariance Type:</th>      <td>nonrobust</td>    <th>                     </th>     <td> </td>   \n",
              "</tr>\n",
              "</table>\n",
              "<table class=\"simpletable\">\n",
              "<tr>\n",
              "      <td></td>         <th>coef</th>     <th>std err</th>      <th>t</th>      <th>P>|t|</th>  <th>[0.025</th>    <th>0.975]</th>  \n",
              "</tr>\n",
              "<tr>\n",
              "  <th>Intercept</th> <td>   99.3313</td> <td>    3.680</td> <td>   26.994</td> <td> 0.000</td> <td>   91.700</td> <td>  106.963</td>\n",
              "</tr>\n",
              "<tr>\n",
              "  <th>Dose</th>      <td>   -9.0075</td> <td>    1.140</td> <td>   -7.900</td> <td> 0.000</td> <td>  -11.372</td> <td>   -6.643</td>\n",
              "</tr>\n",
              "</table>\n",
              "<table class=\"simpletable\">\n",
              "<tr>\n",
              "  <th>Omnibus:</th>       <td> 0.409</td> <th>  Durbin-Watson:     </th> <td>   2.109</td>\n",
              "</tr>\n",
              "<tr>\n",
              "  <th>Prob(Omnibus):</th> <td> 0.815</td> <th>  Jarque-Bera (JB):  </th> <td>   0.052</td>\n",
              "</tr>\n",
              "<tr>\n",
              "  <th>Skew:</th>          <td> 0.114</td> <th>  Prob(JB):          </th> <td>   0.974</td>\n",
              "</tr>\n",
              "<tr>\n",
              "  <th>Kurtosis:</th>      <td> 3.012</td> <th>  Cond. No.          </th> <td>    5.41</td>\n",
              "</tr>\n",
              "</table><br/><br/>Notes:<br/>[1] Standard Errors assume that the covariance matrix of the errors is correctly specified."
            ],
            "text/latex": "\\begin{center}\n\\begin{tabular}{lclc}\n\\toprule\n\\textbf{Dep. Variable:}    &       Food       & \\textbf{  R-squared:         } &     0.739   \\\\\n\\textbf{Model:}            &       OLS        & \\textbf{  Adj. R-squared:    } &     0.728   \\\\\n\\textbf{Method:}           &  Least Squares   & \\textbf{  F-statistic:       } &     62.41   \\\\\n\\textbf{Date:}             & Thu, 16 May 2024 & \\textbf{  Prob (F-statistic):} &  7.27e-08   \\\\\n\\textbf{Time:}             &     10:46:52     & \\textbf{  Log-Likelihood:    } &   -91.420   \\\\\n\\textbf{No. Observations:} &          24      & \\textbf{  AIC:               } &     186.8   \\\\\n\\textbf{Df Residuals:}     &          22      & \\textbf{  BIC:               } &     189.2   \\\\\n\\textbf{Df Model:}         &           1      & \\textbf{                     } &             \\\\\n\\textbf{Covariance Type:}  &    nonrobust     & \\textbf{                     } &             \\\\\n\\bottomrule\n\\end{tabular}\n\\begin{tabular}{lcccccc}\n                   & \\textbf{coef} & \\textbf{std err} & \\textbf{t} & \\textbf{P$> |$t$|$} & \\textbf{[0.025} & \\textbf{0.975]}  \\\\\n\\midrule\n\\textbf{Intercept} &      99.3313  &        3.680     &    26.994  &         0.000        &       91.700    &      106.963     \\\\\n\\textbf{Dose}      &      -9.0075  &        1.140     &    -7.900  &         0.000        &      -11.372    &       -6.643     \\\\\n\\bottomrule\n\\end{tabular}\n\\begin{tabular}{lclc}\n\\textbf{Omnibus:}       &  0.409 & \\textbf{  Durbin-Watson:     } &    2.109  \\\\\n\\textbf{Prob(Omnibus):} &  0.815 & \\textbf{  Jarque-Bera (JB):  } &    0.052  \\\\\n\\textbf{Skew:}          &  0.114 & \\textbf{  Prob(JB):          } &    0.974  \\\\\n\\textbf{Kurtosis:}      &  3.012 & \\textbf{  Cond. No.          } &     5.41  \\\\\n\\bottomrule\n\\end{tabular}\n%\\caption{OLS Regression Results}\n\\end{center}\n\nNotes: \\newline\n [1] Standard Errors assume that the covariance matrix of the errors is correctly specified."
          },
          "metadata": {},
          "execution_count": 13
        }
      ]
    },
    {
      "cell_type": "code",
      "source": [
        "plt.scatter(x=dt['Dose'],y=dt['Food'],c='k',marker='*')\n",
        "plt.plot(dt['Dose'],df2.predict(),color='blue',linewidth=3)\n",
        "\n",
        "plt.xlabel('Кол-во дозы')\n",
        "plt.ylabel('Потребление пищи в граммах')\n",
        "plt.show()"
      ],
      "metadata": {
        "colab": {
          "base_uri": "https://localhost:8080/",
          "height": 542
        },
        "id": "Y8i_C--8xvCp",
        "outputId": "66f53aa8-162f-4551-f85a-297c39711d59"
      },
      "execution_count": null,
      "outputs": [
        {
          "output_type": "display_data",
          "data": {
            "text/plain": [
              "<Figure size 1000x600 with 1 Axes>"
            ],
            "image/png": "[encoded data removed]"
          },
          "metadata": {}
        }
      ]
    },
    {
      "cell_type": "markdown",
      "source": [
        "Линия тренда убывает, это говорит о том, что при увеличении дозы амфетамина аппетит подавляется. Следовательно зависимость прослеживается. Линейное уравнение: 99.3313-9.0075*Dose."
      ],
      "metadata": {
        "id": "pFyjWEtwtLss"
      }
    },
    {
      "cell_type": "markdown",
      "metadata": {
        "id": "AnBDDleCW6Cb"
      },
      "source": [
        "**Ваш ответ:**"
      ]
    },
    {
      "cell_type": "markdown",
      "metadata": {
        "id": "x2_ApfRIW6Cb"
      },
      "source": [
        "## Задание 4-1.2: Невязка(остатки) значения\n",
        "\n",
        "Регрессия в Упражнении 4-1.1 на самом деле валидна, даже несмотря на то, что предиктор $x$ имеет только 3 различных значения; для каждого фиксированного значения $x$ исследователь собрал случайную выборку значений $y$.\n",
        "\n",
        "Однако одно предположение, которое делается с помощью простой линейной регрессии, заключается в том, что остатки имеют примерно нормальное распределение.\n",
        "\n",
        "**Упражнение:** Вычислите остатки для приведенной выше регрессии и постройте нормальный вероятностный график остатков. Как вы думаете, они нормально распределены?\n",
        "\n"
      ]
    },
    {
      "cell_type": "code",
      "execution_count": null,
      "metadata": {
        "id": "3sDzUnn5W6Cb",
        "colab": {
          "base_uri": "https://localhost:8080/"
        },
        "outputId": "20b052a1-695f-4ccb-dba4-10d5175021bc"
      },
      "outputs": [
        {
          "output_type": "stream",
          "name": "stdout",
          "text": [
            "0     13.26875\n",
            "1      2.76875\n",
            "2     -9.13125\n",
            "3    -17.83125\n",
            "4      6.26875\n",
            "5     -6.33125\n",
            "6      7.26875\n",
            "7      8.96875\n",
            "8     -3.51250\n",
            "9      7.98750\n",
            "10    -9.51250\n",
            "11   -21.51250\n",
            "12     3.88750\n",
            "13    13.18750\n",
            "14    -1.31250\n",
            "15     0.28750\n",
            "16   -15.79375\n",
            "17    27.00625\n",
            "18     2.80625\n",
            "19     8.00625\n",
            "20    -2.79375\n",
            "21    -5.99375\n",
            "22   -11.59375\n",
            "23     3.60625\n",
            "dtype: float64\n"
          ]
        }
      ],
      "source": [
        "residuals = df2.resid\n",
        "print(df2.resid)"
      ]
    },
    {
      "cell_type": "markdown",
      "metadata": {
        "id": "w1O6RYDRW6Cb"
      },
      "source": [
        "**Ваш ответ:**\n"
      ]
    },
    {
      "cell_type": "code",
      "source": [
        "import scipy.stats as stats"
      ],
      "metadata": {
        "id": "E-eZ7TuuFuDg"
      },
      "execution_count": null,
      "outputs": []
    },
    {
      "cell_type": "code",
      "source": [
        "stats.probplot(residuals, dist=\"norm\", plot=plt)\n",
        "plt.title('Нормальный вероятностный график остатков')\n",
        "plt.xlabel('Теоретические Квантили')\n",
        "plt.ylabel('Простые Квантили')\n",
        "plt.show()"
      ],
      "metadata": {
        "colab": {
          "base_uri": "https://localhost:8080/",
          "height": 564
        },
        "id": "ahF9RMV5H3TZ",
        "outputId": "337c2b77-236a-4814-8eda-3de53a7d9155"
      },
      "execution_count": null,
      "outputs": [
        {
          "output_type": "display_data",
          "data": {
            "text/plain": [
              "<Figure size 1000x600 with 1 Axes>"
            ],
            "image/png": "[encoded data removed]"
          },
          "metadata": {}
        }
      ]
    },
    {
      "cell_type": "markdown",
      "source": [
        "Из графика видно, что остатки приближенно нормально распределены, поэтому предположение выше подтверждается."
      ],
      "metadata": {
        "id": "GhSgAdJ_JDlM"
      }
    }
  ],
  "metadata": {
    "anaconda-cloud": {},
    "celltoolbar": "Slideshow",
    "kernelspec": {
      "display_name": "Python 3 (ipykernel)",
      "language": "python",
      "name": "python3"
    },
    "language_info": {
      "codemirror_mode": {
        "name": "ipython",
        "version": 3
      },
      "file_extension": ".py",
      "mimetype": "text/x-python",
      "name": "python",
      "nbconvert_exporter": "python",
      "pygments_lexer": "ipython3",
      "version": "3.9.16"
    },
    "colab": {
      "provenance": []
    }
  },
  "nbformat": 4,
  "nbformat_minor": 0
}