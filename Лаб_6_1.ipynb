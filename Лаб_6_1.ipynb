{
  "nbformat": 4,
  "nbformat_minor": 0,
  "metadata": {
    "colab": {
      "provenance": [],
      "authorship_tag": "ABX9TyNV9tGcqNOP1c299j7W/rxM",
      "include_colab_link": true
    },
    "kernelspec": {
      "name": "python3",
      "display_name": "Python 3"
    },
    "language_info": {
      "name": "python"
    }
  },
  "cells": [
    {
      "cell_type": "markdown",
      "metadata": {
        "id": "view-in-github",
        "colab_type": "text"
      },
      "source": [
        "<a href=\"https://colab.research.google.com/github/ViktoriaM28/-Data-Science/blob/main/%D0%9B%D0%B0%D0%B1_6_1.ipynb\" target=\"_parent\"><img src=\"https://colab.research.google.com/assets/colab-badge.svg\" alt=\"Open In Colab\"/></a>"
      ]
    },
    {
      "cell_type": "markdown",
      "source": [
        "**Цель и задачи работы:**\n",
        "\n",
        "\n",
        "1.   Познакомиться с понятием «большие данные» и способами их обработки;\n",
        "2.   Познакомиться с инструментом Apache Spark и возможностями, которые он предоставляет для обработки больших данных;\n",
        "3.Получить навыки выполнения разведочного анализа данных использованием pyspark.\n",
        "\n"
      ],
      "metadata": {
        "id": "ZyZYj6DcjbDO"
      }
    },
    {
      "cell_type": "markdown",
      "source": [
        "Импорт необходимых библиотек"
      ],
      "metadata": {
        "id": "hV4ZklNXkKGF"
      }
    },
    {
      "cell_type": "code",
      "execution_count": null,
      "metadata": {
        "id": "MTN_OVb9jZ8n"
      },
      "outputs": [],
      "source": [
        "# import libraries\n",
        "import pyspark\n",
        "from pyspark import SparkConf\n",
        "from pyspark.sql import SparkSession\n",
        "\n",
        "from pyspark.sql.window import Window\n",
        "from pyspark.sql.functions import udf, isnan, min, max, sum, count, desc, expr, avg\n",
        "from pyspark.sql.types import IntegerType, LongType\n",
        "\n",
        "from pyspark.ml.feature import StandardScaler, VectorAssembler, MinMaxScaler\n",
        "from pyspark.ml.evaluation import MulticlassClassificationEvaluator\n",
        "from pyspark.ml.tuning import CrossValidator, ParamGridBuilder, CrossValidatorModel\n",
        "from pyspark.ml import Pipeline\n",
        "from pyspark.ml.classification import DecisionTreeClassifier, RandomForestClassifier, LogisticRegression, GBTClassifier, LogisticRegressionModel, GBTClassificationModel, RandomForestClassificationModel\n",
        "\n",
        "import matplotlib.pyplot as plt\n",
        "import seaborn as sns\n",
        "import datetime\n",
        "import numpy as np\n",
        "import pandas as pd"
      ]
    },
    {
      "cell_type": "markdown",
      "source": [
        "Установка Pyspark"
      ],
      "metadata": {
        "id": "CsTccZu9kT9v"
      }
    },
    {
      "cell_type": "code",
      "source": [
        "! pip install pyspark"
      ],
      "metadata": {
        "colab": {
          "base_uri": "https://localhost:8080/"
        },
        "id": "f_H4fSLKkYbL",
        "outputId": "bc08bc82-ba42-41a4-ad92-58bd63b27a04"
      },
      "execution_count": 1,
      "outputs": [
        {
          "output_type": "stream",
          "name": "stdout",
          "text": [
            "Requirement already satisfied: pyspark in /usr/local/lib/python3.10/dist-packages (3.5.3)\n",
            "Requirement already satisfied: py4j==0.10.9.7 in /usr/local/lib/python3.10/dist-packages (from pyspark) (0.10.9.7)\n"
          ]
        }
      ]
    },
    {
      "cell_type": "code",
      "source": [
        "# Импорт модулей, связанных с PySpark.\n",
        "import pyspark\n",
        "from pyspark.rdd import RDD\n",
        "from pyspark.sql import Row\n",
        "from pyspark.sql import DataFrame\n",
        "from pyspark.sql import SparkSession\n",
        "from pyspark.sql import SQLContext\n",
        "from pyspark.sql import functions\n",
        "from pyspark.sql.functions import lit, desc, col, size, array_contains\\\n",
        ", isnan, udf, hour, array_min, array_max, countDistinct\n",
        "from pyspark.sql.types import *\n",
        "\n",
        "MAX_MEMORY = '15G'\n",
        "# Инициализировать сеанс Spark.\n",
        "conf = pyspark.SparkConf().setMaster(\"local[*]\") \\\n",
        "        .set('spark.executor.heartbeatInterval', 10000) \\\n",
        "        .set('spark.network.timeout', 10000) \\\n",
        "        .set(\"spark.core.connection.ack.wait.timeout\", \"3600\") \\\n",
        "        .set(\"spark.executor.memory\", MAX_MEMORY) \\\n",
        "        .set(\"spark.driver.memory\", MAX_MEMORY)\n",
        "def init_spark():\n",
        "    spark = SparkSession \\\n",
        "        .builder \\\n",
        "        .appName(\"Pyspark guide\") \\\n",
        "        .config(conf=conf) \\\n",
        "        .getOrCreate()\n",
        "    return spark\n",
        "\n",
        "spark = init_spark()\n",
        "filename_data = 'online_sales_dataset.csv' # Загрузите данные в текущий каталог Colab.\n",
        "# filename_data = 'data/endomondoHR.json' # Загрузите данные в каталог data/  при работе в Docker.\n",
        "# Загрузите основной набор данных в фрейм данных pyspark.\n",
        "df = spark.read.csv(filename_data, mode=\"DROPMALFORMED\")\n",
        "print('Data frame type: ' + str(type(df)))"
      ],
      "metadata": {
        "colab": {
          "base_uri": "https://localhost:8080/"
        },
        "id": "XY64wFYqklBg",
        "outputId": "fd0c2f0d-2ccb-4f83-b664-eaa1ae449487"
      },
      "execution_count": 5,
      "outputs": [
        {
          "output_type": "stream",
          "name": "stdout",
          "text": [
            "Data frame type: <class 'pyspark.sql.dataframe.DataFrame'>\n"
          ]
        }
      ]
    },
    {
      "cell_type": "markdown",
      "source": [
        "**Просмотр набора данных**"
      ],
      "metadata": {
        "id": "VL6VvrdBmWz5"
      }
    },
    {
      "cell_type": "code",
      "source": [
        "df.show(5)"
      ],
      "metadata": {
        "colab": {
          "base_uri": "https://localhost:8080/"
        },
        "id": "oeSTbIpymj-i",
        "outputId": "c566eff5-be7a-4bf2-c145-46b238012b31"
      },
      "execution_count": 6,
      "outputs": [
        {
          "output_type": "stream",
          "name": "stdout",
          "text": [
            "+---------+---------+-----------+--------+----------------+---------+----------+-----------+--------+-------------+------------+-----------+------------+------------+----------------+-----------------+-------------+\n",
            "|      _c0|      _c1|        _c2|     _c3|             _c4|      _c5|       _c6|        _c7|     _c8|          _c9|        _c10|       _c11|        _c12|        _c13|            _c14|             _c15|         _c16|\n",
            "+---------+---------+-----------+--------+----------------+---------+----------+-----------+--------+-------------+------------+-----------+------------+------------+----------------+-----------------+-------------+\n",
            "|InvoiceNo|StockCode|Description|Quantity|     InvoiceDate|UnitPrice|CustomerID|    Country|Discount|PaymentMethod|ShippingCost|   Category|SalesChannel|ReturnStatus|ShipmentProvider|WarehouseLocation|OrderPriority|\n",
            "|   221958| SKU_1964|  White Mug|      38|2020-01-01 00:00|     1.71|   37039.0|  Australia|    0.47|Bank Transfer|       10.79|    Apparel|    In-store|Not Returned|             UPS|           London|       Medium|\n",
            "|   771155| SKU_1241|  White Mug|      18|2020-01-01 01:00|    41.25|   19144.0|      Spain|    0.19|      paypall|        9.51|Electronics|      Online|Not Returned|             UPS|             Rome|       Medium|\n",
            "|   231932| SKU_1501| Headphones|      49|2020-01-01 02:00|    29.11|   50472.0|    Germany|    0.35|Bank Transfer|       23.03|Electronics|      Online|    Returned|             UPS|           Berlin|         High|\n",
            "|   465838| SKU_1760|  Desk Lamp|      14|2020-01-01 03:00|    76.68|   96586.0|Netherlands|    0.14|      paypall|       11.08|Accessories|      Online|Not Returned|      Royal Mail|             Rome|          Low|\n",
            "+---------+---------+-----------+--------+----------------+---------+----------+-----------+--------+-------------+------------+-----------+------------+------------+----------------+-----------------+-------------+\n",
            "only showing top 5 rows\n",
            "\n"
          ]
        }
      ]
    },
    {
      "cell_type": "markdown",
      "source": [
        "### **Описание столбцов датасета:**"
      ],
      "metadata": {
        "id": "aUnz8OzbnTJY"
      }
    },
    {
      "cell_type": "markdown",
      "source": [
        "*InvoiceNo* -\n",
        "Уникальный идентификатор для каждой транзакции продажи (счета-фактуры)\n",
        "\n",
        "*StockCode* -\n",
        "Код, обозначающий единицу хранения товара на складе (SKU).\n",
        "\n",
        "*Description* -\n",
        "Краткое описание продукта.\n",
        "\n",
        "\n",
        "*Quantity* -\n",
        "Количество единиц товара, проданного в ходе транзакции.\n",
        "\n",
        "*InvoiceDate* -\n",
        "Дата и время, когда была зарегистрирована продажа.\n",
        "\n",
        "*UnitPrice* -\n",
        "Цена за единицу товара в валюте транзакции.\n",
        "\n",
        "\n",
        "*CustomerID* -\n",
        "Уникальный идентификатор для каждого клиента.\n",
        "\n",
        "*Country* -\n",
        "Страна клиента.\n",
        "\n",
        "*Discount* -\n",
        "Скидка, применяемая к сделке, если таковая имеется.\n",
        "\n",
        "*PaymentMethod* -\n",
        "Способ оплаты, использованный для транзакции (например, PayPal, банковский перевод).\n",
        "\n",
        "*ShippingCost* -\n",
        "Стоимость доставки по транзакции.\n",
        "\n",
        "*Category* -\n",
        "Категория, к которой относится товар (например, электроника, одежда).\n",
        "\n",
        "*SalesChannel* -\n",
        "Канал, через который была осуществлена продажа (например, онлайн, в магазине).\n",
        "\n",
        "*ReturnStatus* -\n",
        "Указывает, был ли товар возвращен или нет.\n",
        "\n",
        "*ShipmentProvider* -\n",
        "Поставщик, ответственный за доставку заказа (например, UPS, FedEx).\n",
        "\n",
        "*WarehouseLocation* -\n",
        "Местоположение склада, с которого был выполнен заказ.\n",
        "\n",
        "*OrderPriority* -\n",
        "Уровень приоритета заказа (например, Высокий, средний, низкий)."
      ],
      "metadata": {
        "id": "fyPKCBnQnebw"
      }
    },
    {
      "cell_type": "markdown",
      "source": [
        "Изменение наименования столбцов"
      ],
      "metadata": {
        "id": "jq3R2GtIpdPF"
      }
    },
    {
      "cell_type": "code",
      "source": [
        "df = df \\\n",
        "    .withColumnRenamed(\"_c0\", \"InvoiceNo\") \\\n",
        "    .withColumnRenamed(\"_c1\", \"StockCode\") \\\n",
        "    .withColumnRenamed(\"_c2\", \"Description\") \\\n",
        "    .withColumnRenamed(\"_c3\", \"Quantity\") \\\n",
        "    .withColumnRenamed(\"_c4\", \"InvoiceDate\") \\\n",
        "    .withColumnRenamed(\"_c5\", \"UnitPrice\") \\\n",
        "    .withColumnRenamed(\"_c6\", \"CustomerID\") \\\n",
        "    .withColumnRenamed(\"_c7\", \"Country\") \\\n",
        "    .withColumnRenamed(\"_c8\", \"Discount\") \\\n",
        "    .withColumnRenamed(\"_c9\", \"PaymentMethod\") \\\n",
        "    .withColumnRenamed(\"_c10\", \"ShippingCost\") \\\n",
        "    .withColumnRenamed(\"_c11\", \"Category\") \\\n",
        "    .withColumnRenamed(\"_c12\", \"SalesChannel\") \\\n",
        "    .withColumnRenamed(\"_c13\", \"ReturnStatus\") \\\n",
        "    .withColumnRenamed(\"_c14\", \"ShipmentProvider\") \\\n",
        "    .withColumnRenamed(\"_c15\", \"WarehouseLocation\") \\\n",
        "    .withColumnRenamed(\"_c16\", \"OrderPriority\")\n",
        "\n",
        "# Проверка нового наименования столбцов\n",
        "df.printSchema()\n",
        "df.show()"
      ],
      "metadata": {
        "colab": {
          "base_uri": "https://localhost:8080/"
        },
        "id": "mZKgvLRynDyu",
        "outputId": "572ef3ad-2865-4cff-d76e-1859527aa43e"
      },
      "execution_count": 11,
      "outputs": [
        {
          "output_type": "stream",
          "name": "stdout",
          "text": [
            "root\n",
            " |-- InvoiceNo: string (nullable = true)\n",
            " |-- StockCode: string (nullable = true)\n",
            " |-- Description: string (nullable = true)\n",
            " |-- Quantity: string (nullable = true)\n",
            " |-- InvoiceDate: string (nullable = true)\n",
            " |-- UnitPrice: string (nullable = true)\n",
            " |-- CustomerID: string (nullable = true)\n",
            " |-- Country: string (nullable = true)\n",
            " |-- Discount: string (nullable = true)\n",
            " |-- PaymentMethod: string (nullable = true)\n",
            " |-- ShippingCost: string (nullable = true)\n",
            " |-- Category: string (nullable = true)\n",
            " |-- SalesChannel: string (nullable = true)\n",
            " |-- ReturnStatus: string (nullable = true)\n",
            " |-- ShipmentProvider: string (nullable = true)\n",
            " |-- WarehouseLocation: string (nullable = true)\n",
            " |-- OrderPriority: string (nullable = true)\n",
            "\n",
            "+---------+---------+--------------+--------+----------------+---------+----------+--------------+-----------------+-------------+------------+-----------+------------+------------+----------------+-----------------+-------------+\n",
            "|InvoiceNo|StockCode|   Description|Quantity|     InvoiceDate|UnitPrice|CustomerID|       Country|         Discount|PaymentMethod|ShippingCost|   Category|SalesChannel|ReturnStatus|ShipmentProvider|WarehouseLocation|OrderPriority|\n",
            "+---------+---------+--------------+--------+----------------+---------+----------+--------------+-----------------+-------------+------------+-----------+------------+------------+----------------+-----------------+-------------+\n",
            "|InvoiceNo|StockCode|   Description|Quantity|     InvoiceDate|UnitPrice|CustomerID|       Country|         Discount|PaymentMethod|ShippingCost|   Category|SalesChannel|ReturnStatus|ShipmentProvider|WarehouseLocation|OrderPriority|\n",
            "|   221958| SKU_1964|     White Mug|      38|2020-01-01 00:00|     1.71|   37039.0|     Australia|             0.47|Bank Transfer|       10.79|    Apparel|    In-store|Not Returned|             UPS|           London|       Medium|\n",
            "|   771155| SKU_1241|     White Mug|      18|2020-01-01 01:00|    41.25|   19144.0|         Spain|             0.19|      paypall|        9.51|Electronics|      Online|Not Returned|             UPS|             Rome|       Medium|\n",
            "|   231932| SKU_1501|    Headphones|      49|2020-01-01 02:00|    29.11|   50472.0|       Germany|             0.35|Bank Transfer|       23.03|Electronics|      Online|    Returned|             UPS|           Berlin|         High|\n",
            "|   465838| SKU_1760|     Desk Lamp|      14|2020-01-01 03:00|    76.68|   96586.0|   Netherlands|             0.14|      paypall|       11.08|Accessories|      Online|Not Returned|      Royal Mail|             Rome|          Low|\n",
            "|   359178| SKU_1386|     USB Cable|     -30|2020-01-01 04:00|   -68.11|      NULL|United Kingdom|1.501433043360303|Bank Transfer|        NULL|Electronics|    In-store|Not Returned|           FedEx|             NULL|       Medium|\n",
            "|   744167| SKU_1006|  Office Chair|      47|2020-01-01 05:00|    70.16|   53887.0|        Sweden|             0.48|  Credit Card|       13.98|Electronics|      Online|Not Returned|             DHL|           London|       Medium|\n",
            "|   210268| SKU_1087|     USB Cable|      25|2020-01-01 06:00|    85.74|   46567.0|       Belgium|             0.15|Bank Transfer|       12.92| Stationery|      Online|Not Returned|           FedEx|        Amsterdam|         High|\n",
            "|   832180| SKU_1597|      Notebook|       8|2020-01-01 07:00|    95.65|   75098.0|        Norway|             0.04|Bank Transfer|        6.48|Electronics|    In-store|Not Returned|      Royal Mail|        Amsterdam|          Low|\n",
            "|   154886| SKU_1907|Wireless Mouse|      19|2020-01-01 08:00|    98.19|   87950.0|       Belgium|             0.05|      paypall|       12.56|    Apparel|      Online|Not Returned|             UPS|           Berlin|         High|\n",
            "|   237337| SKU_1866|    Headphones|      40|2020-01-01 09:00|    98.17|   39718.0|         Italy|             0.16|Bank Transfer|        7.71|    Apparel|      Online|Not Returned|      Royal Mail|           London|          Low|\n",
            "|   621430| SKU_1144|      Notebook|      49|2020-01-01 10:00|    87.56|   13030.0|United Kingdom|             0.19|      paypall|        9.83| Stationery|    In-store|    Returned|             UPS|            Paris|       Medium|\n",
            "|   187498| SKU_1450|  Office Chair|      41|2020-01-01 11:00|    59.51|   32466.0|     Australia|             0.39|Bank Transfer|        12.0|  Furniture|    In-store|Not Returned|           FedEx|        Amsterdam|          Low|\n",
            "|   999159| SKU_1330|      Blue Pen|      41|2020-01-01 12:00|    25.59|   89794.0|     Australia|             0.01|  Credit Card|       15.58|Electronics|    In-store|Not Returned|           FedEx|           Berlin|       Medium|\n",
            "|   275203| SKU_1709|    Headphones|       3|2020-01-01 13:00|     2.09|   97817.0|         Spain|             0.47|  Credit Card|       19.22| Stationery|      Online|Not Returned|      Royal Mail|            Paris|          Low|\n",
            "|   291335| SKU_1874|    Wall Clock|      29|2020-01-01 14:00|    35.88|   43017.0|      Portugal|             0.06|  Credit Card|       14.85|Electronics|      Online|Not Returned|      Royal Mail|        Amsterdam|         High|\n",
            "|   378167| SKU_1163|       T-shirt|      16|2020-01-01 15:00|    82.58|   85852.0|       Belgium|             0.41|Bank Transfer|       27.02|  Furniture|    In-store|Not Returned|             UPS|        Amsterdam|         High|\n",
            "|   141090| SKU_1656|  Office Chair|       7|2020-01-01 16:00|    70.85|   15473.0|       Germany|              0.0|Bank Transfer|       23.66|    Apparel|    In-store|Not Returned|           FedEx|            Paris|         High|\n",
            "|   429365| SKU_1341|    Headphones|      49|2020-01-01 17:00|    14.91|   55644.0|   Netherlands|             0.36|Bank Transfer|        5.32| Stationery|      Online|Not Returned|      Royal Mail|            Paris|       Medium|\n",
            "|   164820| SKU_1000|      Backpack|      21|2020-01-01 18:00|     1.07|   20566.0|        Sweden|             0.49|Bank Transfer|       15.09|Accessories|      Online|Not Returned|           FedEx|           London|       Medium|\n",
            "+---------+---------+--------------+--------+----------------+---------+----------+--------------+-----------------+-------------+------------+-----------+------------+------------+----------------+-----------------+-------------+\n",
            "only showing top 20 rows\n",
            "\n"
          ]
        }
      ]
    },
    {
      "cell_type": "markdown",
      "source": [
        "Удаление перовй строки, так как она содержит наименования столбцов"
      ],
      "metadata": {
        "id": "mJ8bTakEuRte"
      }
    },
    {
      "cell_type": "code",
      "source": [
        "first_row = df.limit(1)\n",
        "\n",
        "# Удаление первой строки\n",
        "df_filtered = df.exceptAll(first_row)\n",
        "\n",
        "# Показать результат\n",
        "print(\"DataFrame после удаления первой строки:\")\n",
        "df_filtered.show()"
      ],
      "metadata": {
        "colab": {
          "base_uri": "https://localhost:8080/"
        },
        "id": "9OTE5pQOuglK",
        "outputId": "6ea56204-9025-41f1-8d83-9ddd7b1640b1"
      },
      "execution_count": 13,
      "outputs": [
        {
          "output_type": "stream",
          "name": "stdout",
          "text": [
            "DataFrame после удаления первой строки:\n",
            "+---------+---------+--------------+--------+----------------+---------+----------+--------------+--------+-------------+------------+-----------+------------+------------+----------------+-----------------+-------------+\n",
            "|InvoiceNo|StockCode|   Description|Quantity|     InvoiceDate|UnitPrice|CustomerID|       Country|Discount|PaymentMethod|ShippingCost|   Category|SalesChannel|ReturnStatus|ShipmentProvider|WarehouseLocation|OrderPriority|\n",
            "+---------+---------+--------------+--------+----------------+---------+----------+--------------+--------+-------------+------------+-----------+------------+------------+----------------+-----------------+-------------+\n",
            "|   818315| SKU_1463|      Notebook|      14|2020-01-01 21:00|    66.89|   16604.0|        Norway|    0.42|      paypall|       15.05|  Furniture|      Online|Not Returned|           FedEx|           Berlin|         High|\n",
            "|   358795| SKU_1023|    Headphones|      30|2020-01-02 08:00|    99.31|   61358.0|United Kingdom|    0.31|  Credit Card|       22.31|Accessories|      Online|Not Returned|      Royal Mail|           Berlin|       Medium|\n",
            "|   979989| SKU_1228|Wireless Mouse|      22|2020-01-10 13:00|    87.31|   62769.0|   Netherlands|    0.19|  Credit Card|        14.6|  Furniture|      Online|Not Returned|             UPS|             Rome|          Low|\n",
            "|   990123| SKU_1884|      Backpack|      17|2020-01-27 06:00|    25.41|   57835.0|        Norway|    0.05|Bank Transfer|       28.31|Accessories|    In-store|Not Returned|      Royal Mail|            Paris|       Medium|\n",
            "|   746465| SKU_1736|     Desk Lamp|      15|2020-02-18 22:00|    66.54|   83772.0|        France|    0.02|Bank Transfer|       27.96|Accessories|    In-store|Not Returned|             UPS|           Berlin|       Medium|\n",
            "|   441383| SKU_1429|    Wall Clock|      44|2020-02-19 12:00|     2.69|   21596.0|        France|    0.11|  Credit Card|       28.27|    Apparel|    In-store|Not Returned|             DHL|            Paris|         High|\n",
            "|   164323| SKU_1517|     Desk Lamp|      33|2020-02-19 19:00|    93.79|   88643.0|       Germany|    0.32|Bank Transfer|       12.63|Electronics|    In-store|Not Returned|             DHL|            Paris|       Medium|\n",
            "|   446699| SKU_1383|Wireless Mouse|      23|2020-02-22 01:00|    81.04|   14346.0| United States|    0.29|      paypall|       26.64| Stationery|      Online|    Returned|           FedEx|           London|          Low|\n",
            "|   837334| SKU_1357|     USB Cable|      48|2020-03-03 16:00|    94.49|   61565.0|        France|     0.0|  Credit Card|        19.1| Stationery|    In-store|Not Returned|           FedEx|           Berlin|          Low|\n",
            "|   543676| SKU_1671|     USB Cable|       6|2020-03-05 17:00|    96.03|   11868.0|       Belgium|    0.07|Bank Transfer|        25.5|  Furniture|      Online|Not Returned|             UPS|            Paris|       Medium|\n",
            "|   423412| SKU_1875|    Headphones|      44|2020-03-08 01:00|    90.05|   84159.0|        Norway|    0.18|      paypall|       21.43|Accessories|      Online|Not Returned|             UPS|        Amsterdam|         High|\n",
            "|   714615| SKU_1580|      Blue Pen|      20|2020-03-12 15:00|     21.8|   16494.0|      Portugal|    0.48|Bank Transfer|       13.19|Accessories|      Online|Not Returned|             DHL|        Amsterdam|         High|\n",
            "|   591036| SKU_1672|      Backpack|      11|2020-03-20 19:00|    57.26|   74575.0|       Belgium|    0.25|Bank Transfer|       22.37|Accessories|    In-store|Not Returned|             UPS|           Berlin|         High|\n",
            "|   884838| SKU_1681|      Notebook|      23|2020-03-30 05:00|    90.26|   24801.0| United States|    0.09|      paypall|        9.49|    Apparel|      Online|Not Returned|           FedEx|        Amsterdam|          Low|\n",
            "|   722605| SKU_1752|     USB Cable|      22|2020-04-07 18:00|    58.43|   88882.0|         Spain|    0.44|      paypall|       13.94|Accessories|      Online|Not Returned|           FedEx|           Berlin|       Medium|\n",
            "|   470321| SKU_1252|     Desk Lamp|       5|2020-04-18 13:00|    22.88|   36186.0|         Italy|    0.15|  Credit Card|       29.62|Accessories|    In-store|Not Returned|             UPS|           Berlin|       Medium|\n",
            "|   508638| SKU_1509|     White Mug|      41|2020-05-02 19:00|    14.12|   81682.0| United States|    0.44|Bank Transfer|        10.6|Electronics|    In-store|Not Returned|           FedEx|        Amsterdam|       Medium|\n",
            "|   661931| SKU_1071|    Headphones|      48|2020-05-11 08:00|    22.62|   79485.0|       Belgium|    0.21|  Credit Card|       13.88| Stationery|      Online|    Returned|      Royal Mail|             Rome|          Low|\n",
            "|   745275| SKU_1935|Wireless Mouse|      27|2020-06-02 10:00|     54.5|   60027.0|         Spain|    0.14|Bank Transfer|       21.14|Accessories|      Online|Not Returned|             UPS|           London|         High|\n",
            "|   653083| SKU_1761|     White Mug|      33|2020-06-04 03:00|    72.72|   17933.0|      Portugal|    0.35|Bank Transfer|       17.67|  Furniture|      Online|Not Returned|           FedEx|        Amsterdam|       Medium|\n",
            "+---------+---------+--------------+--------+----------------+---------+----------+--------------+--------+-------------+------------+-----------+------------+------------+----------------+-----------------+-------------+\n",
            "only showing top 20 rows\n",
            "\n"
          ]
        }
      ]
    },
    {
      "cell_type": "markdown",
      "source": [
        "Проверка типа данных столбцов"
      ],
      "metadata": {
        "id": "V3YZTxr7vMb_"
      }
    },
    {
      "cell_type": "code",
      "source": [
        "import pandas as pd"
      ],
      "metadata": {
        "id": "gokrNBitvatv"
      },
      "execution_count": 16,
      "outputs": []
    },
    {
      "cell_type": "code",
      "source": [
        "\n",
        "df_filtered.printSchema()\n",
        "pd.DataFrame(df.dtypes, columns = ['Column Name','Data type'])"
      ],
      "metadata": {
        "colab": {
          "base_uri": "https://localhost:8080/",
          "height": 928
        },
        "id": "4e9uF4OQvPor",
        "outputId": "078400aa-ab6c-4180-f711-9a1f23cec55d"
      },
      "execution_count": 17,
      "outputs": [
        {
          "output_type": "stream",
          "name": "stdout",
          "text": [
            "root\n",
            " |-- InvoiceNo: string (nullable = true)\n",
            " |-- StockCode: string (nullable = true)\n",
            " |-- Description: string (nullable = true)\n",
            " |-- Quantity: string (nullable = true)\n",
            " |-- InvoiceDate: string (nullable = true)\n",
            " |-- UnitPrice: string (nullable = true)\n",
            " |-- CustomerID: string (nullable = true)\n",
            " |-- Country: string (nullable = true)\n",
            " |-- Discount: string (nullable = true)\n",
            " |-- PaymentMethod: string (nullable = true)\n",
            " |-- ShippingCost: string (nullable = true)\n",
            " |-- Category: string (nullable = true)\n",
            " |-- SalesChannel: string (nullable = true)\n",
            " |-- ReturnStatus: string (nullable = true)\n",
            " |-- ShipmentProvider: string (nullable = true)\n",
            " |-- WarehouseLocation: string (nullable = true)\n",
            " |-- OrderPriority: string (nullable = true)\n",
            "\n"
          ]
        },
        {
          "output_type": "execute_result",
          "data": {
            "text/plain": [
              "          Column Name Data type\n",
              "0           InvoiceNo    string\n",
              "1           StockCode    string\n",
              "2         Description    string\n",
              "3            Quantity    string\n",
              "4         InvoiceDate    string\n",
              "5           UnitPrice    string\n",
              "6          CustomerID    string\n",
              "7             Country    string\n",
              "8            Discount    string\n",
              "9       PaymentMethod    string\n",
              "10       ShippingCost    string\n",
              "11           Category    string\n",
              "12       SalesChannel    string\n",
              "13       ReturnStatus    string\n",
              "14   ShipmentProvider    string\n",
              "15  WarehouseLocation    string\n",
              "16      OrderPriority    string"
            ],
            "text/html": [
              "\n",
              "  <div id=\"df-1a02beca-47ce-4364-bebd-d91c3d3240ac\" class=\"colab-df-container\">\n",
              "    <div>\n",
              "<style scoped>\n",
              "    .dataframe tbody tr th:only-of-type {\n",
              "        vertical-align: middle;\n",
              "    }\n",
              "\n",
              "    .dataframe tbody tr th {\n",
              "        vertical-align: top;\n",
              "    }\n",
              "\n",
              "    .dataframe thead th {\n",
              "        text-align: right;\n",
              "    }\n",
              "</style>\n",
              "<table border=\"1\" class=\"dataframe\">\n",
              "  <thead>\n",
              "    <tr style=\"text-align: right;\">\n",
              "      <th></th>\n",
              "      <th>Column Name</th>\n",
              "      <th>Data type</th>\n",
              "    </tr>\n",
              "  </thead>\n",
              "  <tbody>\n",
              "    <tr>\n",
              "      <th>0</th>\n",
              "      <td>InvoiceNo</td>\n",
              "      <td>string</td>\n",
              "    </tr>\n",
              "    <tr>\n",
              "      <th>1</th>\n",
              "      <td>StockCode</td>\n",
              "      <td>string</td>\n",
              "    </tr>\n",
              "    <tr>\n",
              "      <th>2</th>\n",
              "      <td>Description</td>\n",
              "      <td>string</td>\n",
              "    </tr>\n",
              "    <tr>\n",
              "      <th>3</th>\n",
              "      <td>Quantity</td>\n",
              "      <td>string</td>\n",
              "    </tr>\n",
              "    <tr>\n",
              "      <th>4</th>\n",
              "      <td>InvoiceDate</td>\n",
              "      <td>string</td>\n",
              "    </tr>\n",
              "    <tr>\n",
              "      <th>5</th>\n",
              "      <td>UnitPrice</td>\n",
              "      <td>string</td>\n",
              "    </tr>\n",
              "    <tr>\n",
              "      <th>6</th>\n",
              "      <td>CustomerID</td>\n",
              "      <td>string</td>\n",
              "    </tr>\n",
              "    <tr>\n",
              "      <th>7</th>\n",
              "      <td>Country</td>\n",
              "      <td>string</td>\n",
              "    </tr>\n",
              "    <tr>\n",
              "      <th>8</th>\n",
              "      <td>Discount</td>\n",
              "      <td>string</td>\n",
              "    </tr>\n",
              "    <tr>\n",
              "      <th>9</th>\n",
              "      <td>PaymentMethod</td>\n",
              "      <td>string</td>\n",
              "    </tr>\n",
              "    <tr>\n",
              "      <th>10</th>\n",
              "      <td>ShippingCost</td>\n",
              "      <td>string</td>\n",
              "    </tr>\n",
              "    <tr>\n",
              "      <th>11</th>\n",
              "      <td>Category</td>\n",
              "      <td>string</td>\n",
              "    </tr>\n",
              "    <tr>\n",
              "      <th>12</th>\n",
              "      <td>SalesChannel</td>\n",
              "      <td>string</td>\n",
              "    </tr>\n",
              "    <tr>\n",
              "      <th>13</th>\n",
              "      <td>ReturnStatus</td>\n",
              "      <td>string</td>\n",
              "    </tr>\n",
              "    <tr>\n",
              "      <th>14</th>\n",
              "      <td>ShipmentProvider</td>\n",
              "      <td>string</td>\n",
              "    </tr>\n",
              "    <tr>\n",
              "      <th>15</th>\n",
              "      <td>WarehouseLocation</td>\n",
              "      <td>string</td>\n",
              "    </tr>\n",
              "    <tr>\n",
              "      <th>16</th>\n",
              "      <td>OrderPriority</td>\n",
              "      <td>string</td>\n",
              "    </tr>\n",
              "  </tbody>\n",
              "</table>\n",
              "</div>\n",
              "    <div class=\"colab-df-buttons\">\n",
              "\n",
              "  <div class=\"colab-df-container\">\n",
              "    <button class=\"colab-df-convert\" onclick=\"convertToInteractive('df-1a02beca-47ce-4364-bebd-d91c3d3240ac')\"\n",
              "            title=\"Convert this dataframe to an interactive table.\"\n",
              "            style=\"display:none;\">\n",
              "\n",
              "  <svg xmlns=\"http://www.w3.org/2000/svg\" height=\"24px\" viewBox=\"0 -960 960 960\">\n",
              "    <path d=\"M120-120v-720h720v720H120Zm60-500h600v-160H180v160Zm220 220h160v-160H400v160Zm0 220h160v-160H400v160ZM180-400h160v-160H180v160Zm440 0h160v-160H620v160ZM180-180h160v-160H180v160Zm440 0h160v-160H620v160Z\"/>\n",
              "  </svg>\n",
              "    </button>\n",
              "\n",
              "  <style>\n",
              "    .colab-df-container {\n",
              "      display:flex;\n",
              "      gap: 12px;\n",
              "    }\n",
              "\n",
              "    .colab-df-convert {\n",
              "      background-color: #E8F0FE;\n",
              "      border: none;\n",
              "      border-radius: 50%;\n",
              "      cursor: pointer;\n",
              "      display: none;\n",
              "      fill: #1967D2;\n",
              "      height: 32px;\n",
              "      padding: 0 0 0 0;\n",
              "      width: 32px;\n",
              "    }\n",
              "\n",
              "    .colab-df-convert:hover {\n",
              "      background-color: #E2EBFA;\n",
              "      box-shadow: 0px 1px 2px rgba(60, 64, 67, 0.3), 0px 1px 3px 1px rgba(60, 64, 67, 0.15);\n",
              "      fill: #174EA6;\n",
              "    }\n",
              "\n",
              "    .colab-df-buttons div {\n",
              "      margin-bottom: 4px;\n",
              "    }\n",
              "\n",
              "    [theme=dark] .colab-df-convert {\n",
              "      background-color: #3B4455;\n",
              "      fill: #D2E3FC;\n",
              "    }\n",
              "\n",
              "    [theme=dark] .colab-df-convert:hover {\n",
              "      background-color: #434B5C;\n",
              "      box-shadow: 0px 1px 3px 1px rgba(0, 0, 0, 0.15);\n",
              "      filter: drop-shadow(0px 1px 2px rgba(0, 0, 0, 0.3));\n",
              "      fill: #FFFFFF;\n",
              "    }\n",
              "  </style>\n",
              "\n",
              "    <script>\n",
              "      const buttonEl =\n",
              "        document.querySelector('#df-1a02beca-47ce-4364-bebd-d91c3d3240ac button.colab-df-convert');\n",
              "      buttonEl.style.display =\n",
              "        google.colab.kernel.accessAllowed ? 'block' : 'none';\n",
              "\n",
              "      async function convertToInteractive(key) {\n",
              "        const element = document.querySelector('#df-1a02beca-47ce-4364-bebd-d91c3d3240ac');\n",
              "        const dataTable =\n",
              "          await google.colab.kernel.invokeFunction('convertToInteractive',\n",
              "                                                    [key], {});\n",
              "        if (!dataTable) return;\n",
              "\n",
              "        const docLinkHtml = 'Like what you see? Visit the ' +\n",
              "          '<a target=\"_blank\" href=https://colab.research.google.com/notebooks/data_table.ipynb>data table notebook</a>'\n",
              "          + ' to learn more about interactive tables.';\n",
              "        element.innerHTML = '';\n",
              "        dataTable['output_type'] = 'display_data';\n",
              "        await google.colab.output.renderOutput(dataTable, element);\n",
              "        const docLink = document.createElement('div');\n",
              "        docLink.innerHTML = docLinkHtml;\n",
              "        element.appendChild(docLink);\n",
              "      }\n",
              "    </script>\n",
              "  </div>\n",
              "\n",
              "\n",
              "<div id=\"df-c524f6b4-4892-41bc-81a8-1039bf71d8cb\">\n",
              "  <button class=\"colab-df-quickchart\" onclick=\"quickchart('df-c524f6b4-4892-41bc-81a8-1039bf71d8cb')\"\n",
              "            title=\"Suggest charts\"\n",
              "            style=\"display:none;\">\n",
              "\n",
              "<svg xmlns=\"http://www.w3.org/2000/svg\" height=\"24px\"viewBox=\"0 0 24 24\"\n",
              "     width=\"24px\">\n",
              "    <g>\n",
              "        <path d=\"M19 3H5c-1.1 0-2 .9-2 2v14c0 1.1.9 2 2 2h14c1.1 0 2-.9 2-2V5c0-1.1-.9-2-2-2zM9 17H7v-7h2v7zm4 0h-2V7h2v10zm4 0h-2v-4h2v4z\"/>\n",
              "    </g>\n",
              "</svg>\n",
              "  </button>\n",
              "\n",
              "<style>\n",
              "  .colab-df-quickchart {\n",
              "      --bg-color: #E8F0FE;\n",
              "      --fill-color: #1967D2;\n",
              "      --hover-bg-color: #E2EBFA;\n",
              "      --hover-fill-color: #174EA6;\n",
              "      --disabled-fill-color: #AAA;\n",
              "      --disabled-bg-color: #DDD;\n",
              "  }\n",
              "\n",
              "  [theme=dark] .colab-df-quickchart {\n",
              "      --bg-color: #3B4455;\n",
              "      --fill-color: #D2E3FC;\n",
              "      --hover-bg-color: #434B5C;\n",
              "      --hover-fill-color: #FFFFFF;\n",
              "      --disabled-bg-color: #3B4455;\n",
              "      --disabled-fill-color: #666;\n",
              "  }\n",
              "\n",
              "  .colab-df-quickchart {\n",
              "    background-color: var(--bg-color);\n",
              "    border: none;\n",
              "    border-radius: 50%;\n",
              "    cursor: pointer;\n",
              "    display: none;\n",
              "    fill: var(--fill-color);\n",
              "    height: 32px;\n",
              "    padding: 0;\n",
              "    width: 32px;\n",
              "  }\n",
              "\n",
              "  .colab-df-quickchart:hover {\n",
              "    background-color: var(--hover-bg-color);\n",
              "    box-shadow: 0 1px 2px rgba(60, 64, 67, 0.3), 0 1px 3px 1px rgba(60, 64, 67, 0.15);\n",
              "    fill: var(--button-hover-fill-color);\n",
              "  }\n",
              "\n",
              "  .colab-df-quickchart-complete:disabled,\n",
              "  .colab-df-quickchart-complete:disabled:hover {\n",
              "    background-color: var(--disabled-bg-color);\n",
              "    fill: var(--disabled-fill-color);\n",
              "    box-shadow: none;\n",
              "  }\n",
              "\n",
              "  .colab-df-spinner {\n",
              "    border: 2px solid var(--fill-color);\n",
              "    border-color: transparent;\n",
              "    border-bottom-color: var(--fill-color);\n",
              "    animation:\n",
              "      spin 1s steps(1) infinite;\n",
              "  }\n",
              "\n",
              "  @keyframes spin {\n",
              "    0% {\n",
              "      border-color: transparent;\n",
              "      border-bottom-color: var(--fill-color);\n",
              "      border-left-color: var(--fill-color);\n",
              "    }\n",
              "    20% {\n",
              "      border-color: transparent;\n",
              "      border-left-color: var(--fill-color);\n",
              "      border-top-color: var(--fill-color);\n",
              "    }\n",
              "    30% {\n",
              "      border-color: transparent;\n",
              "      border-left-color: var(--fill-color);\n",
              "      border-top-color: var(--fill-color);\n",
              "      border-right-color: var(--fill-color);\n",
              "    }\n",
              "    40% {\n",
              "      border-color: transparent;\n",
              "      border-right-color: var(--fill-color);\n",
              "      border-top-color: var(--fill-color);\n",
              "    }\n",
              "    60% {\n",
              "      border-color: transparent;\n",
              "      border-right-color: var(--fill-color);\n",
              "    }\n",
              "    80% {\n",
              "      border-color: transparent;\n",
              "      border-right-color: var(--fill-color);\n",
              "      border-bottom-color: var(--fill-color);\n",
              "    }\n",
              "    90% {\n",
              "      border-color: transparent;\n",
              "      border-bottom-color: var(--fill-color);\n",
              "    }\n",
              "  }\n",
              "</style>\n",
              "\n",
              "  <script>\n",
              "    async function quickchart(key) {\n",
              "      const quickchartButtonEl =\n",
              "        document.querySelector('#' + key + ' button');\n",
              "      quickchartButtonEl.disabled = true;  // To prevent multiple clicks.\n",
              "      quickchartButtonEl.classList.add('colab-df-spinner');\n",
              "      try {\n",
              "        const charts = await google.colab.kernel.invokeFunction(\n",
              "            'suggestCharts', [key], {});\n",
              "      } catch (error) {\n",
              "        console.error('Error during call to suggestCharts:', error);\n",
              "      }\n",
              "      quickchartButtonEl.classList.remove('colab-df-spinner');\n",
              "      quickchartButtonEl.classList.add('colab-df-quickchart-complete');\n",
              "    }\n",
              "    (() => {\n",
              "      let quickchartButtonEl =\n",
              "        document.querySelector('#df-c524f6b4-4892-41bc-81a8-1039bf71d8cb button');\n",
              "      quickchartButtonEl.style.display =\n",
              "        google.colab.kernel.accessAllowed ? 'block' : 'none';\n",
              "    })();\n",
              "  </script>\n",
              "</div>\n",
              "    </div>\n",
              "  </div>\n"
            ],
            "application/vnd.google.colaboratory.intrinsic+json": {
              "type": "dataframe",
              "summary": "{\n  \"name\": \"pd\",\n  \"rows\": 17,\n  \"fields\": [\n    {\n      \"column\": \"Column Name\",\n      \"properties\": {\n        \"dtype\": \"string\",\n        \"num_unique_values\": 17,\n        \"samples\": [\n          \"InvoiceNo\",\n          \"StockCode\",\n          \"UnitPrice\"\n        ],\n        \"semantic_type\": \"\",\n        \"description\": \"\"\n      }\n    },\n    {\n      \"column\": \"Data type\",\n      \"properties\": {\n        \"dtype\": \"category\",\n        \"num_unique_values\": 1,\n        \"samples\": [\n          \"string\"\n        ],\n        \"semantic_type\": \"\",\n        \"description\": \"\"\n      }\n    }\n  ]\n}"
            }
          },
          "metadata": {},
          "execution_count": 17
        }
      ]
    },
    {
      "cell_type": "markdown",
      "source": [
        "Тип данных всех столбцов - строка. Следует заменить типы данных."
      ],
      "metadata": {
        "id": "9XH8NVN0vkDw"
      }
    },
    {
      "cell_type": "code",
      "source": [
        "df_filtered1 = df_filtered.withColumn(\"InvoiceDate\", df_filtered[\"InvoiceDate\"].cast(TimestampType())) \\\n",
        "       .withColumn(\"InvoiceNo\", df_filtered[\"InvoiceNo\"].cast(IntegerType())) \\\n",
        "       .withColumn(\"Quantity\", df_filtered[\"Quantity\"].cast(IntegerType())) \\\n",
        "       .withColumn(\"UnitPrice\", df_filtered[\"UnitPrice\"].cast(DoubleType())) \\\n",
        "       .withColumn(\"CustomerID\", df_filtered[\"CustomerID\"].cast(IntegerType())) \\\n",
        "       .withColumn(\"Discount\", df_filtered[\"Discount\"].cast(DoubleType())) \\\n",
        "       .withColumn(\"ShippingCost\", df_filtered[\"ShippingCost\"].cast(DoubleType()))\n",
        "\n",
        "# Показать DataFrame после изменения типов и новые типы столбцов\n",
        "print(\"DataFrame после изменения типов столбцов:\")\n",
        "df_filtered1.printSchema()\n",
        "pd.DataFrame(df_filtered1.dtypes, columns = ['Column Name','Data type'])"
      ],
      "metadata": {
        "colab": {
          "base_uri": "https://localhost:8080/",
          "height": 946
        },
        "id": "A8iLv3oqvs8M",
        "outputId": "2a1790f2-76d0-4430-889b-d4e503484f76"
      },
      "execution_count": 18,
      "outputs": [
        {
          "output_type": "stream",
          "name": "stdout",
          "text": [
            "DataFrame после изменения типов столбцов:\n",
            "root\n",
            " |-- InvoiceNo: integer (nullable = true)\n",
            " |-- StockCode: string (nullable = true)\n",
            " |-- Description: string (nullable = true)\n",
            " |-- Quantity: integer (nullable = true)\n",
            " |-- InvoiceDate: timestamp (nullable = true)\n",
            " |-- UnitPrice: double (nullable = true)\n",
            " |-- CustomerID: integer (nullable = true)\n",
            " |-- Country: string (nullable = true)\n",
            " |-- Discount: double (nullable = true)\n",
            " |-- PaymentMethod: string (nullable = true)\n",
            " |-- ShippingCost: double (nullable = true)\n",
            " |-- Category: string (nullable = true)\n",
            " |-- SalesChannel: string (nullable = true)\n",
            " |-- ReturnStatus: string (nullable = true)\n",
            " |-- ShipmentProvider: string (nullable = true)\n",
            " |-- WarehouseLocation: string (nullable = true)\n",
            " |-- OrderPriority: string (nullable = true)\n",
            "\n"
          ]
        },
        {
          "output_type": "execute_result",
          "data": {
            "text/plain": [
              "          Column Name  Data type\n",
              "0           InvoiceNo        int\n",
              "1           StockCode     string\n",
              "2         Description     string\n",
              "3            Quantity        int\n",
              "4         InvoiceDate  timestamp\n",
              "5           UnitPrice     double\n",
              "6          CustomerID        int\n",
              "7             Country     string\n",
              "8            Discount     double\n",
              "9       PaymentMethod     string\n",
              "10       ShippingCost     double\n",
              "11           Category     string\n",
              "12       SalesChannel     string\n",
              "13       ReturnStatus     string\n",
              "14   ShipmentProvider     string\n",
              "15  WarehouseLocation     string\n",
              "16      OrderPriority     string"
            ],
            "text/html": [
              "\n",
              "  <div id=\"df-ead19666-3f0c-46b9-b2a1-c945c81b38ed\" class=\"colab-df-container\">\n",
              "    <div>\n",
              "<style scoped>\n",
              "    .dataframe tbody tr th:only-of-type {\n",
              "        vertical-align: middle;\n",
              "    }\n",
              "\n",
              "    .dataframe tbody tr th {\n",
              "        vertical-align: top;\n",
              "    }\n",
              "\n",
              "    .dataframe thead th {\n",
              "        text-align: right;\n",
              "    }\n",
              "</style>\n",
              "<table border=\"1\" class=\"dataframe\">\n",
              "  <thead>\n",
              "    <tr style=\"text-align: right;\">\n",
              "      <th></th>\n",
              "      <th>Column Name</th>\n",
              "      <th>Data type</th>\n",
              "    </tr>\n",
              "  </thead>\n",
              "  <tbody>\n",
              "    <tr>\n",
              "      <th>0</th>\n",
              "      <td>InvoiceNo</td>\n",
              "      <td>int</td>\n",
              "    </tr>\n",
              "    <tr>\n",
              "      <th>1</th>\n",
              "      <td>StockCode</td>\n",
              "      <td>string</td>\n",
              "    </tr>\n",
              "    <tr>\n",
              "      <th>2</th>\n",
              "      <td>Description</td>\n",
              "      <td>string</td>\n",
              "    </tr>\n",
              "    <tr>\n",
              "      <th>3</th>\n",
              "      <td>Quantity</td>\n",
              "      <td>int</td>\n",
              "    </tr>\n",
              "    <tr>\n",
              "      <th>4</th>\n",
              "      <td>InvoiceDate</td>\n",
              "      <td>timestamp</td>\n",
              "    </tr>\n",
              "    <tr>\n",
              "      <th>5</th>\n",
              "      <td>UnitPrice</td>\n",
              "      <td>double</td>\n",
              "    </tr>\n",
              "    <tr>\n",
              "      <th>6</th>\n",
              "      <td>CustomerID</td>\n",
              "      <td>int</td>\n",
              "    </tr>\n",
              "    <tr>\n",
              "      <th>7</th>\n",
              "      <td>Country</td>\n",
              "      <td>string</td>\n",
              "    </tr>\n",
              "    <tr>\n",
              "      <th>8</th>\n",
              "      <td>Discount</td>\n",
              "      <td>double</td>\n",
              "    </tr>\n",
              "    <tr>\n",
              "      <th>9</th>\n",
              "      <td>PaymentMethod</td>\n",
              "      <td>string</td>\n",
              "    </tr>\n",
              "    <tr>\n",
              "      <th>10</th>\n",
              "      <td>ShippingCost</td>\n",
              "      <td>double</td>\n",
              "    </tr>\n",
              "    <tr>\n",
              "      <th>11</th>\n",
              "      <td>Category</td>\n",
              "      <td>string</td>\n",
              "    </tr>\n",
              "    <tr>\n",
              "      <th>12</th>\n",
              "      <td>SalesChannel</td>\n",
              "      <td>string</td>\n",
              "    </tr>\n",
              "    <tr>\n",
              "      <th>13</th>\n",
              "      <td>ReturnStatus</td>\n",
              "      <td>string</td>\n",
              "    </tr>\n",
              "    <tr>\n",
              "      <th>14</th>\n",
              "      <td>ShipmentProvider</td>\n",
              "      <td>string</td>\n",
              "    </tr>\n",
              "    <tr>\n",
              "      <th>15</th>\n",
              "      <td>WarehouseLocation</td>\n",
              "      <td>string</td>\n",
              "    </tr>\n",
              "    <tr>\n",
              "      <th>16</th>\n",
              "      <td>OrderPriority</td>\n",
              "      <td>string</td>\n",
              "    </tr>\n",
              "  </tbody>\n",
              "</table>\n",
              "</div>\n",
              "    <div class=\"colab-df-buttons\">\n",
              "\n",
              "  <div class=\"colab-df-container\">\n",
              "    <button class=\"colab-df-convert\" onclick=\"convertToInteractive('df-ead19666-3f0c-46b9-b2a1-c945c81b38ed')\"\n",
              "            title=\"Convert this dataframe to an interactive table.\"\n",
              "            style=\"display:none;\">\n",
              "\n",
              "  <svg xmlns=\"http://www.w3.org/2000/svg\" height=\"24px\" viewBox=\"0 -960 960 960\">\n",
              "    <path d=\"M120-120v-720h720v720H120Zm60-500h600v-160H180v160Zm220 220h160v-160H400v160Zm0 220h160v-160H400v160ZM180-400h160v-160H180v160Zm440 0h160v-160H620v160ZM180-180h160v-160H180v160Zm440 0h160v-160H620v160Z\"/>\n",
              "  </svg>\n",
              "    </button>\n",
              "\n",
              "  <style>\n",
              "    .colab-df-container {\n",
              "      display:flex;\n",
              "      gap: 12px;\n",
              "    }\n",
              "\n",
              "    .colab-df-convert {\n",
              "      background-color: #E8F0FE;\n",
              "      border: none;\n",
              "      border-radius: 50%;\n",
              "      cursor: pointer;\n",
              "      display: none;\n",
              "      fill: #1967D2;\n",
              "      height: 32px;\n",
              "      padding: 0 0 0 0;\n",
              "      width: 32px;\n",
              "    }\n",
              "\n",
              "    .colab-df-convert:hover {\n",
              "      background-color: #E2EBFA;\n",
              "      box-shadow: 0px 1px 2px rgba(60, 64, 67, 0.3), 0px 1px 3px 1px rgba(60, 64, 67, 0.15);\n",
              "      fill: #174EA6;\n",
              "    }\n",
              "\n",
              "    .colab-df-buttons div {\n",
              "      margin-bottom: 4px;\n",
              "    }\n",
              "\n",
              "    [theme=dark] .colab-df-convert {\n",
              "      background-color: #3B4455;\n",
              "      fill: #D2E3FC;\n",
              "    }\n",
              "\n",
              "    [theme=dark] .colab-df-convert:hover {\n",
              "      background-color: #434B5C;\n",
              "      box-shadow: 0px 1px 3px 1px rgba(0, 0, 0, 0.15);\n",
              "      filter: drop-shadow(0px 1px 2px rgba(0, 0, 0, 0.3));\n",
              "      fill: #FFFFFF;\n",
              "    }\n",
              "  </style>\n",
              "\n",
              "    <script>\n",
              "      const buttonEl =\n",
              "        document.querySelector('#df-ead19666-3f0c-46b9-b2a1-c945c81b38ed button.colab-df-convert');\n",
              "      buttonEl.style.display =\n",
              "        google.colab.kernel.accessAllowed ? 'block' : 'none';\n",
              "\n",
              "      async function convertToInteractive(key) {\n",
              "        const element = document.querySelector('#df-ead19666-3f0c-46b9-b2a1-c945c81b38ed');\n",
              "        const dataTable =\n",
              "          await google.colab.kernel.invokeFunction('convertToInteractive',\n",
              "                                                    [key], {});\n",
              "        if (!dataTable) return;\n",
              "\n",
              "        const docLinkHtml = 'Like what you see? Visit the ' +\n",
              "          '<a target=\"_blank\" href=https://colab.research.google.com/notebooks/data_table.ipynb>data table notebook</a>'\n",
              "          + ' to learn more about interactive tables.';\n",
              "        element.innerHTML = '';\n",
              "        dataTable['output_type'] = 'display_data';\n",
              "        await google.colab.output.renderOutput(dataTable, element);\n",
              "        const docLink = document.createElement('div');\n",
              "        docLink.innerHTML = docLinkHtml;\n",
              "        element.appendChild(docLink);\n",
              "      }\n",
              "    </script>\n",
              "  </div>\n",
              "\n",
              "\n",
              "<div id=\"df-f422e63b-423b-4cf3-8761-ba7826ddccb4\">\n",
              "  <button class=\"colab-df-quickchart\" onclick=\"quickchart('df-f422e63b-423b-4cf3-8761-ba7826ddccb4')\"\n",
              "            title=\"Suggest charts\"\n",
              "            style=\"display:none;\">\n",
              "\n",
              "<svg xmlns=\"http://www.w3.org/2000/svg\" height=\"24px\"viewBox=\"0 0 24 24\"\n",
              "     width=\"24px\">\n",
              "    <g>\n",
              "        <path d=\"M19 3H5c-1.1 0-2 .9-2 2v14c0 1.1.9 2 2 2h14c1.1 0 2-.9 2-2V5c0-1.1-.9-2-2-2zM9 17H7v-7h2v7zm4 0h-2V7h2v10zm4 0h-2v-4h2v4z\"/>\n",
              "    </g>\n",
              "</svg>\n",
              "  </button>\n",
              "\n",
              "<style>\n",
              "  .colab-df-quickchart {\n",
              "      --bg-color: #E8F0FE;\n",
              "      --fill-color: #1967D2;\n",
              "      --hover-bg-color: #E2EBFA;\n",
              "      --hover-fill-color: #174EA6;\n",
              "      --disabled-fill-color: #AAA;\n",
              "      --disabled-bg-color: #DDD;\n",
              "  }\n",
              "\n",
              "  [theme=dark] .colab-df-quickchart {\n",
              "      --bg-color: #3B4455;\n",
              "      --fill-color: #D2E3FC;\n",
              "      --hover-bg-color: #434B5C;\n",
              "      --hover-fill-color: #FFFFFF;\n",
              "      --disabled-bg-color: #3B4455;\n",
              "      --disabled-fill-color: #666;\n",
              "  }\n",
              "\n",
              "  .colab-df-quickchart {\n",
              "    background-color: var(--bg-color);\n",
              "    border: none;\n",
              "    border-radius: 50%;\n",
              "    cursor: pointer;\n",
              "    display: none;\n",
              "    fill: var(--fill-color);\n",
              "    height: 32px;\n",
              "    padding: 0;\n",
              "    width: 32px;\n",
              "  }\n",
              "\n",
              "  .colab-df-quickchart:hover {\n",
              "    background-color: var(--hover-bg-color);\n",
              "    box-shadow: 0 1px 2px rgba(60, 64, 67, 0.3), 0 1px 3px 1px rgba(60, 64, 67, 0.15);\n",
              "    fill: var(--button-hover-fill-color);\n",
              "  }\n",
              "\n",
              "  .colab-df-quickchart-complete:disabled,\n",
              "  .colab-df-quickchart-complete:disabled:hover {\n",
              "    background-color: var(--disabled-bg-color);\n",
              "    fill: var(--disabled-fill-color);\n",
              "    box-shadow: none;\n",
              "  }\n",
              "\n",
              "  .colab-df-spinner {\n",
              "    border: 2px solid var(--fill-color);\n",
              "    border-color: transparent;\n",
              "    border-bottom-color: var(--fill-color);\n",
              "    animation:\n",
              "      spin 1s steps(1) infinite;\n",
              "  }\n",
              "\n",
              "  @keyframes spin {\n",
              "    0% {\n",
              "      border-color: transparent;\n",
              "      border-bottom-color: var(--fill-color);\n",
              "      border-left-color: var(--fill-color);\n",
              "    }\n",
              "    20% {\n",
              "      border-color: transparent;\n",
              "      border-left-color: var(--fill-color);\n",
              "      border-top-color: var(--fill-color);\n",
              "    }\n",
              "    30% {\n",
              "      border-color: transparent;\n",
              "      border-left-color: var(--fill-color);\n",
              "      border-top-color: var(--fill-color);\n",
              "      border-right-color: var(--fill-color);\n",
              "    }\n",
              "    40% {\n",
              "      border-color: transparent;\n",
              "      border-right-color: var(--fill-color);\n",
              "      border-top-color: var(--fill-color);\n",
              "    }\n",
              "    60% {\n",
              "      border-color: transparent;\n",
              "      border-right-color: var(--fill-color);\n",
              "    }\n",
              "    80% {\n",
              "      border-color: transparent;\n",
              "      border-right-color: var(--fill-color);\n",
              "      border-bottom-color: var(--fill-color);\n",
              "    }\n",
              "    90% {\n",
              "      border-color: transparent;\n",
              "      border-bottom-color: var(--fill-color);\n",
              "    }\n",
              "  }\n",
              "</style>\n",
              "\n",
              "  <script>\n",
              "    async function quickchart(key) {\n",
              "      const quickchartButtonEl =\n",
              "        document.querySelector('#' + key + ' button');\n",
              "      quickchartButtonEl.disabled = true;  // To prevent multiple clicks.\n",
              "      quickchartButtonEl.classList.add('colab-df-spinner');\n",
              "      try {\n",
              "        const charts = await google.colab.kernel.invokeFunction(\n",
              "            'suggestCharts', [key], {});\n",
              "      } catch (error) {\n",
              "        console.error('Error during call to suggestCharts:', error);\n",
              "      }\n",
              "      quickchartButtonEl.classList.remove('colab-df-spinner');\n",
              "      quickchartButtonEl.classList.add('colab-df-quickchart-complete');\n",
              "    }\n",
              "    (() => {\n",
              "      let quickchartButtonEl =\n",
              "        document.querySelector('#df-f422e63b-423b-4cf3-8761-ba7826ddccb4 button');\n",
              "      quickchartButtonEl.style.display =\n",
              "        google.colab.kernel.accessAllowed ? 'block' : 'none';\n",
              "    })();\n",
              "  </script>\n",
              "</div>\n",
              "    </div>\n",
              "  </div>\n"
            ],
            "application/vnd.google.colaboratory.intrinsic+json": {
              "type": "dataframe",
              "summary": "{\n  \"name\": \"pd\",\n  \"rows\": 17,\n  \"fields\": [\n    {\n      \"column\": \"Column Name\",\n      \"properties\": {\n        \"dtype\": \"string\",\n        \"num_unique_values\": 17,\n        \"samples\": [\n          \"InvoiceNo\",\n          \"StockCode\",\n          \"UnitPrice\"\n        ],\n        \"semantic_type\": \"\",\n        \"description\": \"\"\n      }\n    },\n    {\n      \"column\": \"Data type\",\n      \"properties\": {\n        \"dtype\": \"category\",\n        \"num_unique_values\": 4,\n        \"samples\": [\n          \"string\",\n          \"double\",\n          \"int\"\n        ],\n        \"semantic_type\": \"\",\n        \"description\": \"\"\n      }\n    }\n  ]\n}"
            }
          },
          "metadata": {},
          "execution_count": 18
        }
      ]
    },
    {
      "cell_type": "code",
      "source": [
        "df_filtered.show()"
      ],
      "metadata": {
        "colab": {
          "base_uri": "https://localhost:8080/"
        },
        "id": "iEOVaZQaESz2",
        "outputId": "688f1ae9-29f9-4a73-cdef-24905d185df5"
      },
      "execution_count": 19,
      "outputs": [
        {
          "output_type": "stream",
          "name": "stdout",
          "text": [
            "+---------+---------+--------------+--------+----------------+---------+----------+--------------+--------+-------------+------------+-----------+------------+------------+----------------+-----------------+-------------+\n",
            "|InvoiceNo|StockCode|   Description|Quantity|     InvoiceDate|UnitPrice|CustomerID|       Country|Discount|PaymentMethod|ShippingCost|   Category|SalesChannel|ReturnStatus|ShipmentProvider|WarehouseLocation|OrderPriority|\n",
            "+---------+---------+--------------+--------+----------------+---------+----------+--------------+--------+-------------+------------+-----------+------------+------------+----------------+-----------------+-------------+\n",
            "|   818315| SKU_1463|      Notebook|      14|2020-01-01 21:00|    66.89|   16604.0|        Norway|    0.42|      paypall|       15.05|  Furniture|      Online|Not Returned|           FedEx|           Berlin|         High|\n",
            "|   358795| SKU_1023|    Headphones|      30|2020-01-02 08:00|    99.31|   61358.0|United Kingdom|    0.31|  Credit Card|       22.31|Accessories|      Online|Not Returned|      Royal Mail|           Berlin|       Medium|\n",
            "|   979989| SKU_1228|Wireless Mouse|      22|2020-01-10 13:00|    87.31|   62769.0|   Netherlands|    0.19|  Credit Card|        14.6|  Furniture|      Online|Not Returned|             UPS|             Rome|          Low|\n",
            "|   990123| SKU_1884|      Backpack|      17|2020-01-27 06:00|    25.41|   57835.0|        Norway|    0.05|Bank Transfer|       28.31|Accessories|    In-store|Not Returned|      Royal Mail|            Paris|       Medium|\n",
            "|   746465| SKU_1736|     Desk Lamp|      15|2020-02-18 22:00|    66.54|   83772.0|        France|    0.02|Bank Transfer|       27.96|Accessories|    In-store|Not Returned|             UPS|           Berlin|       Medium|\n",
            "|   441383| SKU_1429|    Wall Clock|      44|2020-02-19 12:00|     2.69|   21596.0|        France|    0.11|  Credit Card|       28.27|    Apparel|    In-store|Not Returned|             DHL|            Paris|         High|\n",
            "|   164323| SKU_1517|     Desk Lamp|      33|2020-02-19 19:00|    93.79|   88643.0|       Germany|    0.32|Bank Transfer|       12.63|Electronics|    In-store|Not Returned|             DHL|            Paris|       Medium|\n",
            "|   446699| SKU_1383|Wireless Mouse|      23|2020-02-22 01:00|    81.04|   14346.0| United States|    0.29|      paypall|       26.64| Stationery|      Online|    Returned|           FedEx|           London|          Low|\n",
            "|   837334| SKU_1357|     USB Cable|      48|2020-03-03 16:00|    94.49|   61565.0|        France|     0.0|  Credit Card|        19.1| Stationery|    In-store|Not Returned|           FedEx|           Berlin|          Low|\n",
            "|   543676| SKU_1671|     USB Cable|       6|2020-03-05 17:00|    96.03|   11868.0|       Belgium|    0.07|Bank Transfer|        25.5|  Furniture|      Online|Not Returned|             UPS|            Paris|       Medium|\n",
            "|   423412| SKU_1875|    Headphones|      44|2020-03-08 01:00|    90.05|   84159.0|        Norway|    0.18|      paypall|       21.43|Accessories|      Online|Not Returned|             UPS|        Amsterdam|         High|\n",
            "|   714615| SKU_1580|      Blue Pen|      20|2020-03-12 15:00|     21.8|   16494.0|      Portugal|    0.48|Bank Transfer|       13.19|Accessories|      Online|Not Returned|             DHL|        Amsterdam|         High|\n",
            "|   591036| SKU_1672|      Backpack|      11|2020-03-20 19:00|    57.26|   74575.0|       Belgium|    0.25|Bank Transfer|       22.37|Accessories|    In-store|Not Returned|             UPS|           Berlin|         High|\n",
            "|   884838| SKU_1681|      Notebook|      23|2020-03-30 05:00|    90.26|   24801.0| United States|    0.09|      paypall|        9.49|    Apparel|      Online|Not Returned|           FedEx|        Amsterdam|          Low|\n",
            "|   722605| SKU_1752|     USB Cable|      22|2020-04-07 18:00|    58.43|   88882.0|         Spain|    0.44|      paypall|       13.94|Accessories|      Online|Not Returned|           FedEx|           Berlin|       Medium|\n",
            "|   470321| SKU_1252|     Desk Lamp|       5|2020-04-18 13:00|    22.88|   36186.0|         Italy|    0.15|  Credit Card|       29.62|Accessories|    In-store|Not Returned|             UPS|           Berlin|       Medium|\n",
            "|   508638| SKU_1509|     White Mug|      41|2020-05-02 19:00|    14.12|   81682.0| United States|    0.44|Bank Transfer|        10.6|Electronics|    In-store|Not Returned|           FedEx|        Amsterdam|       Medium|\n",
            "|   661931| SKU_1071|    Headphones|      48|2020-05-11 08:00|    22.62|   79485.0|       Belgium|    0.21|  Credit Card|       13.88| Stationery|      Online|    Returned|      Royal Mail|             Rome|          Low|\n",
            "|   745275| SKU_1935|Wireless Mouse|      27|2020-06-02 10:00|     54.5|   60027.0|         Spain|    0.14|Bank Transfer|       21.14|Accessories|      Online|Not Returned|             UPS|           London|         High|\n",
            "|   653083| SKU_1761|     White Mug|      33|2020-06-04 03:00|    72.72|   17933.0|      Portugal|    0.35|Bank Transfer|       17.67|  Furniture|      Online|Not Returned|           FedEx|        Amsterdam|       Medium|\n",
            "+---------+---------+--------------+--------+----------------+---------+----------+--------------+--------+-------------+------------+-----------+------------+------------+----------------+-----------------+-------------+\n",
            "only showing top 20 rows\n",
            "\n"
          ]
        }
      ]
    },
    {
      "cell_type": "markdown",
      "source": [
        "**Поиск пропущенных значений**"
      ],
      "metadata": {
        "id": "S-EeDZ95FOMI"
      }
    },
    {
      "cell_type": "code",
      "source": [
        "import numpy as np"
      ],
      "metadata": {
        "id": "LbMwOYApGVX6"
      },
      "execution_count": 21,
      "outputs": []
    },
    {
      "cell_type": "code",
      "source": [
        "string_columns = ['StockCode', 'Description', 'Country', 'PaymentMethod', 'Category', 'SalesChannel', 'ReturnStatus', 'ShipmentProvider', 'WarehouseLocation', 'OrderPriority']\n",
        "numeric_columns = ['InvoiceNo','Quantity', 'UnitPrice','CustomerID','Discount','ShippingCost']\n",
        "array_columns = ['InvoiceDate']\n",
        "missing_values = {}\n",
        "for index, column in enumerate(df_filtered1.columns):\n",
        "    if column in string_columns:    # проверить столбцы строк со значениями None и Null\n",
        "#         missing_count = df.filter(col(column).eqNullSafe(None) | col(column).isNull()).count()\n",
        "#         missing_values.update({column: missing_count})\n",
        "        missing_count = df_filtered1.filter(col(column).eqNullSafe(None) | col(column).isNull()).count()\n",
        "        missing_values.update({column:missing_count})\n",
        "    if column in numeric_columns:  # check zeroes, None, NaN\n",
        "        missing_count = df_filtered1.where(col(column).isin([0,None,np.nan])).count()\n",
        "        missing_values.update({column:missing_count})\n",
        "\n",
        "missing_df = pd.DataFrame.from_dict([missing_values])\n",
        "missing_df"
      ],
      "metadata": {
        "colab": {
          "base_uri": "https://localhost:8080/",
          "height": 101
        },
        "id": "D2gC-cx5FTew",
        "outputId": "083e3a3b-e4ff-43d0-9c0d-60ce12127b58"
      },
      "execution_count": 22,
      "outputs": [
        {
          "output_type": "execute_result",
          "data": {
            "text/plain": [
              "   InvoiceNo  StockCode  Description  Quantity  UnitPrice  CustomerID  \\\n",
              "0          0          0            0         0          0           0   \n",
              "\n",
              "   Country  Discount  PaymentMethod  ShippingCost  Category  SalesChannel  \\\n",
              "0        0       498              0             0         0             0   \n",
              "\n",
              "   ReturnStatus  ShipmentProvider  WarehouseLocation  OrderPriority  \n",
              "0             0                 0               3485              0  "
            ],
            "text/html": [
              "\n",
              "  <div id=\"df-51a9e6b0-5946-4f14-8fed-dace33047cb1\" class=\"colab-df-container\">\n",
              "    <div>\n",
              "<style scoped>\n",
              "    .dataframe tbody tr th:only-of-type {\n",
              "        vertical-align: middle;\n",
              "    }\n",
              "\n",
              "    .dataframe tbody tr th {\n",
              "        vertical-align: top;\n",
              "    }\n",
              "\n",
              "    .dataframe thead th {\n",
              "        text-align: right;\n",
              "    }\n",
              "</style>\n",
              "<table border=\"1\" class=\"dataframe\">\n",
              "  <thead>\n",
              "    <tr style=\"text-align: right;\">\n",
              "      <th></th>\n",
              "      <th>InvoiceNo</th>\n",
              "      <th>StockCode</th>\n",
              "      <th>Description</th>\n",
              "      <th>Quantity</th>\n",
              "      <th>UnitPrice</th>\n",
              "      <th>CustomerID</th>\n",
              "      <th>Country</th>\n",
              "      <th>Discount</th>\n",
              "      <th>PaymentMethod</th>\n",
              "      <th>ShippingCost</th>\n",
              "      <th>Category</th>\n",
              "      <th>SalesChannel</th>\n",
              "      <th>ReturnStatus</th>\n",
              "      <th>ShipmentProvider</th>\n",
              "      <th>WarehouseLocation</th>\n",
              "      <th>OrderPriority</th>\n",
              "    </tr>\n",
              "  </thead>\n",
              "  <tbody>\n",
              "    <tr>\n",
              "      <th>0</th>\n",
              "      <td>0</td>\n",
              "      <td>0</td>\n",
              "      <td>0</td>\n",
              "      <td>0</td>\n",
              "      <td>0</td>\n",
              "      <td>0</td>\n",
              "      <td>0</td>\n",
              "      <td>498</td>\n",
              "      <td>0</td>\n",
              "      <td>0</td>\n",
              "      <td>0</td>\n",
              "      <td>0</td>\n",
              "      <td>0</td>\n",
              "      <td>0</td>\n",
              "      <td>3485</td>\n",
              "      <td>0</td>\n",
              "    </tr>\n",
              "  </tbody>\n",
              "</table>\n",
              "</div>\n",
              "    <div class=\"colab-df-buttons\">\n",
              "\n",
              "  <div class=\"colab-df-container\">\n",
              "    <button class=\"colab-df-convert\" onclick=\"convertToInteractive('df-51a9e6b0-5946-4f14-8fed-dace33047cb1')\"\n",
              "            title=\"Convert this dataframe to an interactive table.\"\n",
              "            style=\"display:none;\">\n",
              "\n",
              "  <svg xmlns=\"http://www.w3.org/2000/svg\" height=\"24px\" viewBox=\"0 -960 960 960\">\n",
              "    <path d=\"M120-120v-720h720v720H120Zm60-500h600v-160H180v160Zm220 220h160v-160H400v160Zm0 220h160v-160H400v160ZM180-400h160v-160H180v160Zm440 0h160v-160H620v160ZM180-180h160v-160H180v160Zm440 0h160v-160H620v160Z\"/>\n",
              "  </svg>\n",
              "    </button>\n",
              "\n",
              "  <style>\n",
              "    .colab-df-container {\n",
              "      display:flex;\n",
              "      gap: 12px;\n",
              "    }\n",
              "\n",
              "    .colab-df-convert {\n",
              "      background-color: #E8F0FE;\n",
              "      border: none;\n",
              "      border-radius: 50%;\n",
              "      cursor: pointer;\n",
              "      display: none;\n",
              "      fill: #1967D2;\n",
              "      height: 32px;\n",
              "      padding: 0 0 0 0;\n",
              "      width: 32px;\n",
              "    }\n",
              "\n",
              "    .colab-df-convert:hover {\n",
              "      background-color: #E2EBFA;\n",
              "      box-shadow: 0px 1px 2px rgba(60, 64, 67, 0.3), 0px 1px 3px 1px rgba(60, 64, 67, 0.15);\n",
              "      fill: #174EA6;\n",
              "    }\n",
              "\n",
              "    .colab-df-buttons div {\n",
              "      margin-bottom: 4px;\n",
              "    }\n",
              "\n",
              "    [theme=dark] .colab-df-convert {\n",
              "      background-color: #3B4455;\n",
              "      fill: #D2E3FC;\n",
              "    }\n",
              "\n",
              "    [theme=dark] .colab-df-convert:hover {\n",
              "      background-color: #434B5C;\n",
              "      box-shadow: 0px 1px 3px 1px rgba(0, 0, 0, 0.15);\n",
              "      filter: drop-shadow(0px 1px 2px rgba(0, 0, 0, 0.3));\n",
              "      fill: #FFFFFF;\n",
              "    }\n",
              "  </style>\n",
              "\n",
              "    <script>\n",
              "      const buttonEl =\n",
              "        document.querySelector('#df-51a9e6b0-5946-4f14-8fed-dace33047cb1 button.colab-df-convert');\n",
              "      buttonEl.style.display =\n",
              "        google.colab.kernel.accessAllowed ? 'block' : 'none';\n",
              "\n",
              "      async function convertToInteractive(key) {\n",
              "        const element = document.querySelector('#df-51a9e6b0-5946-4f14-8fed-dace33047cb1');\n",
              "        const dataTable =\n",
              "          await google.colab.kernel.invokeFunction('convertToInteractive',\n",
              "                                                    [key], {});\n",
              "        if (!dataTable) return;\n",
              "\n",
              "        const docLinkHtml = 'Like what you see? Visit the ' +\n",
              "          '<a target=\"_blank\" href=https://colab.research.google.com/notebooks/data_table.ipynb>data table notebook</a>'\n",
              "          + ' to learn more about interactive tables.';\n",
              "        element.innerHTML = '';\n",
              "        dataTable['output_type'] = 'display_data';\n",
              "        await google.colab.output.renderOutput(dataTable, element);\n",
              "        const docLink = document.createElement('div');\n",
              "        docLink.innerHTML = docLinkHtml;\n",
              "        element.appendChild(docLink);\n",
              "      }\n",
              "    </script>\n",
              "  </div>\n",
              "\n",
              "    </div>\n",
              "  </div>\n"
            ],
            "application/vnd.google.colaboratory.intrinsic+json": {
              "type": "dataframe",
              "variable_name": "missing_df",
              "summary": "{\n  \"name\": \"missing_df\",\n  \"rows\": 1,\n  \"fields\": [\n    {\n      \"column\": \"InvoiceNo\",\n      \"properties\": {\n        \"dtype\": \"number\",\n        \"std\": null,\n        \"min\": 0,\n        \"max\": 0,\n        \"num_unique_values\": 1,\n        \"samples\": [\n          0\n        ],\n        \"semantic_type\": \"\",\n        \"description\": \"\"\n      }\n    },\n    {\n      \"column\": \"StockCode\",\n      \"properties\": {\n        \"dtype\": \"number\",\n        \"std\": null,\n        \"min\": 0,\n        \"max\": 0,\n        \"num_unique_values\": 1,\n        \"samples\": [\n          0\n        ],\n        \"semantic_type\": \"\",\n        \"description\": \"\"\n      }\n    },\n    {\n      \"column\": \"Description\",\n      \"properties\": {\n        \"dtype\": \"number\",\n        \"std\": null,\n        \"min\": 0,\n        \"max\": 0,\n        \"num_unique_values\": 1,\n        \"samples\": [\n          0\n        ],\n        \"semantic_type\": \"\",\n        \"description\": \"\"\n      }\n    },\n    {\n      \"column\": \"Quantity\",\n      \"properties\": {\n        \"dtype\": \"number\",\n        \"std\": null,\n        \"min\": 0,\n        \"max\": 0,\n        \"num_unique_values\": 1,\n        \"samples\": [\n          0\n        ],\n        \"semantic_type\": \"\",\n        \"description\": \"\"\n      }\n    },\n    {\n      \"column\": \"UnitPrice\",\n      \"properties\": {\n        \"dtype\": \"number\",\n        \"std\": null,\n        \"min\": 0,\n        \"max\": 0,\n        \"num_unique_values\": 1,\n        \"samples\": [\n          0\n        ],\n        \"semantic_type\": \"\",\n        \"description\": \"\"\n      }\n    },\n    {\n      \"column\": \"CustomerID\",\n      \"properties\": {\n        \"dtype\": \"number\",\n        \"std\": null,\n        \"min\": 0,\n        \"max\": 0,\n        \"num_unique_values\": 1,\n        \"samples\": [\n          0\n        ],\n        \"semantic_type\": \"\",\n        \"description\": \"\"\n      }\n    },\n    {\n      \"column\": \"Country\",\n      \"properties\": {\n        \"dtype\": \"number\",\n        \"std\": null,\n        \"min\": 0,\n        \"max\": 0,\n        \"num_unique_values\": 1,\n        \"samples\": [\n          0\n        ],\n        \"semantic_type\": \"\",\n        \"description\": \"\"\n      }\n    },\n    {\n      \"column\": \"Discount\",\n      \"properties\": {\n        \"dtype\": \"number\",\n        \"std\": null,\n        \"min\": 498,\n        \"max\": 498,\n        \"num_unique_values\": 1,\n        \"samples\": [\n          498\n        ],\n        \"semantic_type\": \"\",\n        \"description\": \"\"\n      }\n    },\n    {\n      \"column\": \"PaymentMethod\",\n      \"properties\": {\n        \"dtype\": \"number\",\n        \"std\": null,\n        \"min\": 0,\n        \"max\": 0,\n        \"num_unique_values\": 1,\n        \"samples\": [\n          0\n        ],\n        \"semantic_type\": \"\",\n        \"description\": \"\"\n      }\n    },\n    {\n      \"column\": \"ShippingCost\",\n      \"properties\": {\n        \"dtype\": \"number\",\n        \"std\": null,\n        \"min\": 0,\n        \"max\": 0,\n        \"num_unique_values\": 1,\n        \"samples\": [\n          0\n        ],\n        \"semantic_type\": \"\",\n        \"description\": \"\"\n      }\n    },\n    {\n      \"column\": \"Category\",\n      \"properties\": {\n        \"dtype\": \"number\",\n        \"std\": null,\n        \"min\": 0,\n        \"max\": 0,\n        \"num_unique_values\": 1,\n        \"samples\": [\n          0\n        ],\n        \"semantic_type\": \"\",\n        \"description\": \"\"\n      }\n    },\n    {\n      \"column\": \"SalesChannel\",\n      \"properties\": {\n        \"dtype\": \"number\",\n        \"std\": null,\n        \"min\": 0,\n        \"max\": 0,\n        \"num_unique_values\": 1,\n        \"samples\": [\n          0\n        ],\n        \"semantic_type\": \"\",\n        \"description\": \"\"\n      }\n    },\n    {\n      \"column\": \"ReturnStatus\",\n      \"properties\": {\n        \"dtype\": \"number\",\n        \"std\": null,\n        \"min\": 0,\n        \"max\": 0,\n        \"num_unique_values\": 1,\n        \"samples\": [\n          0\n        ],\n        \"semantic_type\": \"\",\n        \"description\": \"\"\n      }\n    },\n    {\n      \"column\": \"ShipmentProvider\",\n      \"properties\": {\n        \"dtype\": \"number\",\n        \"std\": null,\n        \"min\": 0,\n        \"max\": 0,\n        \"num_unique_values\": 1,\n        \"samples\": [\n          0\n        ],\n        \"semantic_type\": \"\",\n        \"description\": \"\"\n      }\n    },\n    {\n      \"column\": \"WarehouseLocation\",\n      \"properties\": {\n        \"dtype\": \"number\",\n        \"std\": null,\n        \"min\": 3485,\n        \"max\": 3485,\n        \"num_unique_values\": 1,\n        \"samples\": [\n          3485\n        ],\n        \"semantic_type\": \"\",\n        \"description\": \"\"\n      }\n    },\n    {\n      \"column\": \"OrderPriority\",\n      \"properties\": {\n        \"dtype\": \"number\",\n        \"std\": null,\n        \"min\": 0,\n        \"max\": 0,\n        \"num_unique_values\": 1,\n        \"samples\": [\n          0\n        ],\n        \"semantic_type\": \"\",\n        \"description\": \"\"\n      }\n    }\n  ]\n}"
            }
          },
          "metadata": {},
          "execution_count": 22
        }
      ]
    },
    {
      "cell_type": "markdown",
      "source": [
        "Замена None и Null на 0 в столбце Discount"
      ],
      "metadata": {
        "id": "_aKPsf-KIZBE"
      }
    },
    {
      "cell_type": "code",
      "source": [
        "df_filtered1 = df_filtered.fillna({'Discount': 0})\n",
        "\n",
        "# Показать результат\n",
        "print(\"DataFrame после замены None и Null на 0 в столбце Discount:\")\n",
        "df_filtered1.show()"
      ],
      "metadata": {
        "colab": {
          "base_uri": "https://localhost:8080/"
        },
        "id": "z3VabGM-IQg7",
        "outputId": "ac4daeff-31cd-48cc-9782-971651aa47ca"
      },
      "execution_count": 23,
      "outputs": [
        {
          "output_type": "stream",
          "name": "stdout",
          "text": [
            "DataFrame после замены None и Null на 0 в столбце Discount:\n",
            "+---------+---------+--------------+--------+----------------+---------+----------+--------------+--------+-------------+------------+-----------+------------+------------+----------------+-----------------+-------------+\n",
            "|InvoiceNo|StockCode|   Description|Quantity|     InvoiceDate|UnitPrice|CustomerID|       Country|Discount|PaymentMethod|ShippingCost|   Category|SalesChannel|ReturnStatus|ShipmentProvider|WarehouseLocation|OrderPriority|\n",
            "+---------+---------+--------------+--------+----------------+---------+----------+--------------+--------+-------------+------------+-----------+------------+------------+----------------+-----------------+-------------+\n",
            "|   818315| SKU_1463|      Notebook|      14|2020-01-01 21:00|    66.89|   16604.0|        Norway|    0.42|      paypall|       15.05|  Furniture|      Online|Not Returned|           FedEx|           Berlin|         High|\n",
            "|   358795| SKU_1023|    Headphones|      30|2020-01-02 08:00|    99.31|   61358.0|United Kingdom|    0.31|  Credit Card|       22.31|Accessories|      Online|Not Returned|      Royal Mail|           Berlin|       Medium|\n",
            "|   979989| SKU_1228|Wireless Mouse|      22|2020-01-10 13:00|    87.31|   62769.0|   Netherlands|    0.19|  Credit Card|        14.6|  Furniture|      Online|Not Returned|             UPS|             Rome|          Low|\n",
            "|   990123| SKU_1884|      Backpack|      17|2020-01-27 06:00|    25.41|   57835.0|        Norway|    0.05|Bank Transfer|       28.31|Accessories|    In-store|Not Returned|      Royal Mail|            Paris|       Medium|\n",
            "|   746465| SKU_1736|     Desk Lamp|      15|2020-02-18 22:00|    66.54|   83772.0|        France|    0.02|Bank Transfer|       27.96|Accessories|    In-store|Not Returned|             UPS|           Berlin|       Medium|\n",
            "|   441383| SKU_1429|    Wall Clock|      44|2020-02-19 12:00|     2.69|   21596.0|        France|    0.11|  Credit Card|       28.27|    Apparel|    In-store|Not Returned|             DHL|            Paris|         High|\n",
            "|   164323| SKU_1517|     Desk Lamp|      33|2020-02-19 19:00|    93.79|   88643.0|       Germany|    0.32|Bank Transfer|       12.63|Electronics|    In-store|Not Returned|             DHL|            Paris|       Medium|\n",
            "|   446699| SKU_1383|Wireless Mouse|      23|2020-02-22 01:00|    81.04|   14346.0| United States|    0.29|      paypall|       26.64| Stationery|      Online|    Returned|           FedEx|           London|          Low|\n",
            "|   837334| SKU_1357|     USB Cable|      48|2020-03-03 16:00|    94.49|   61565.0|        France|     0.0|  Credit Card|        19.1| Stationery|    In-store|Not Returned|           FedEx|           Berlin|          Low|\n",
            "|   543676| SKU_1671|     USB Cable|       6|2020-03-05 17:00|    96.03|   11868.0|       Belgium|    0.07|Bank Transfer|        25.5|  Furniture|      Online|Not Returned|             UPS|            Paris|       Medium|\n",
            "|   423412| SKU_1875|    Headphones|      44|2020-03-08 01:00|    90.05|   84159.0|        Norway|    0.18|      paypall|       21.43|Accessories|      Online|Not Returned|             UPS|        Amsterdam|         High|\n",
            "|   714615| SKU_1580|      Blue Pen|      20|2020-03-12 15:00|     21.8|   16494.0|      Portugal|    0.48|Bank Transfer|       13.19|Accessories|      Online|Not Returned|             DHL|        Amsterdam|         High|\n",
            "|   591036| SKU_1672|      Backpack|      11|2020-03-20 19:00|    57.26|   74575.0|       Belgium|    0.25|Bank Transfer|       22.37|Accessories|    In-store|Not Returned|             UPS|           Berlin|         High|\n",
            "|   884838| SKU_1681|      Notebook|      23|2020-03-30 05:00|    90.26|   24801.0| United States|    0.09|      paypall|        9.49|    Apparel|      Online|Not Returned|           FedEx|        Amsterdam|          Low|\n",
            "|   722605| SKU_1752|     USB Cable|      22|2020-04-07 18:00|    58.43|   88882.0|         Spain|    0.44|      paypall|       13.94|Accessories|      Online|Not Returned|           FedEx|           Berlin|       Medium|\n",
            "|   470321| SKU_1252|     Desk Lamp|       5|2020-04-18 13:00|    22.88|   36186.0|         Italy|    0.15|  Credit Card|       29.62|Accessories|    In-store|Not Returned|             UPS|           Berlin|       Medium|\n",
            "|   508638| SKU_1509|     White Mug|      41|2020-05-02 19:00|    14.12|   81682.0| United States|    0.44|Bank Transfer|        10.6|Electronics|    In-store|Not Returned|           FedEx|        Amsterdam|       Medium|\n",
            "|   661931| SKU_1071|    Headphones|      48|2020-05-11 08:00|    22.62|   79485.0|       Belgium|    0.21|  Credit Card|       13.88| Stationery|      Online|    Returned|      Royal Mail|             Rome|          Low|\n",
            "|   745275| SKU_1935|Wireless Mouse|      27|2020-06-02 10:00|     54.5|   60027.0|         Spain|    0.14|Bank Transfer|       21.14|Accessories|      Online|Not Returned|             UPS|           London|         High|\n",
            "|   653083| SKU_1761|     White Mug|      33|2020-06-04 03:00|    72.72|   17933.0|      Portugal|    0.35|Bank Transfer|       17.67|  Furniture|      Online|Not Returned|           FedEx|        Amsterdam|       Medium|\n",
            "+---------+---------+--------------+--------+----------------+---------+----------+--------------+--------+-------------+------------+-----------+------------+------------+----------------+-----------------+-------------+\n",
            "only showing top 20 rows\n",
            "\n"
          ]
        }
      ]
    },
    {
      "cell_type": "markdown",
      "source": [
        "**Расчет статистических показателей**"
      ],
      "metadata": {
        "id": "M6ppJ784WsTb"
      }
    },
    {
      "cell_type": "code",
      "source": [
        "df_filtered1.describe().show()"
      ],
      "metadata": {
        "colab": {
          "base_uri": "https://localhost:8080/"
        },
        "id": "8Zdl53NuWspn",
        "outputId": "f8fa9a33-11de-4864-ef9a-5d160bb7eaac"
      },
      "execution_count": 67,
      "outputs": [
        {
          "output_type": "stream",
          "name": "stdout",
          "text": [
            "+-------+------------------+---------+--------------+------------------+----------------+------------------+------------------+-------------+-------------------+-------------+------------------+-----------+------------+------------+----------------+-----------------+-------------+\n",
            "|summary|         InvoiceNo|StockCode|   Description|          Quantity|     InvoiceDate|         UnitPrice|        CustomerID|      Country|           Discount|PaymentMethod|      ShippingCost|   Category|SalesChannel|ReturnStatus|ShipmentProvider|WarehouseLocation|OrderPriority|\n",
            "+-------+------------------+---------+--------------+------------------+----------------+------------------+------------------+-------------+-------------------+-------------+------------------+-----------+------------+------------+----------------+-----------------+-------------+\n",
            "|  count|             49782|    49782|         49782|             49782|           49782|             49782|             44804|        49782|              49782|        49782|             47293|      49782|       49782|       49782|           49782|            46297|        49782|\n",
            "|   mean| 550681.2399461652|     NULL|          NULL|22.372343417299426|            NULL| 47.53786167691122| 55032.87177484153|         NULL| 0.2757476680143877|         NULL|17.494529211511207|       NULL|        NULL|        NULL|            NULL|             NULL|         NULL|\n",
            "| stddev|260703.00994366436|     NULL|          NULL| 17.91777411074615|            NULL|33.479509703969555|25913.660156512793|         NULL|0.23007662205760207|         NULL| 7.220556563702854|       NULL|        NULL|        NULL|            NULL|             NULL|         NULL|\n",
            "|    min|            100005| SKU_1000|      Backpack|                -1|2020-01-01 00:00|             -1.02|           10001.0|    Australia|                0.0|Bank Transfer|              10.0|Accessories|    In-store|Not Returned|             DHL|        Amsterdam|         High|\n",
            "|    max|            999997| SKU_1999|Wireless Mouse|                 9|2025-09-05 05:00|             99.99|           99998.0|United States| 1.9997639480756852|      paypall|              9.99| Stationery|      Online|    Returned|             UPS|             Rome|       Medium|\n",
            "+-------+------------------+---------+--------------+------------------+----------------+------------------+------------------+-------------+-------------------+-------------+------------------+-----------+------------+------------+----------------+-----------------+-------------+\n",
            "\n"
          ]
        }
      ]
    },
    {
      "cell_type": "code",
      "source": [
        "from pyspark.sql.functions import col, avg, percentile_approx\n",
        "\n",
        "quartiles = df_filtered1.select(\n",
        "    percentile_approx(\"ShippingCost\", 0.25).alias(\"1st_quartile\"),\n",
        "    percentile_approx(\"ShippingCost\", 0.5).alias(\"2nd_quartile\"),\n",
        "    percentile_approx(\"ShippingCost\", 0.75).alias(\"3rd_quartile\")\n",
        ")\n",
        "\n",
        "quartiles.show()"
      ],
      "metadata": {
        "colab": {
          "base_uri": "https://localhost:8080/"
        },
        "id": "ocoH1JIsVApE",
        "outputId": "2b558370-f9ff-4133-a39e-d6c13a61ab1a"
      },
      "execution_count": 65,
      "outputs": [
        {
          "output_type": "stream",
          "name": "stdout",
          "text": [
            "+------------+------------+------------+\n",
            "|1st_quartile|2nd_quartile|3rd_quartile|\n",
            "+------------+------------+------------+\n",
            "|       11.22|       17.49|       23.72|\n",
            "+------------+------------+------------+\n",
            "\n"
          ]
        }
      ]
    },
    {
      "cell_type": "code",
      "source": [
        "import matplotlib as plt\n",
        "import math\n",
        "import matplotlib.pyplot as plt\n"
      ],
      "metadata": {
        "id": "gtKmikiLJZZo"
      },
      "execution_count": 31,
      "outputs": []
    },
    {
      "cell_type": "code",
      "source": [
        "category_counts = df_filtered1.groupBy('Category').count().toPandas()\n",
        "\n",
        "# Построение круговой диаграммы\n",
        "plt.figure(figsize=(8, 8))\n",
        "plt.pie(category_counts['count'], labels=category_counts['Category'], autopct='%1.1f%%', startangle=140)\n",
        "plt.title('Distribution of Categories')\n",
        "plt.axis('equal')\n",
        "plt.show()"
      ],
      "metadata": {
        "colab": {
          "base_uri": "https://localhost:8080/",
          "height": 675
        },
        "id": "HKws4l6lJWLa",
        "outputId": "bbd21ff8-2eef-4850-a18a-0b4038235915"
      },
      "execution_count": 48,
      "outputs": [
        {
          "output_type": "display_data",
          "data": {
            "text/plain": [
              "<Figure size 800x800 with 1 Axes>"
            ],
            "image/png": "[encoded data removed]"
          },
          "metadata": {}
        }
      ]
    },
    {
      "cell_type": "markdown",
      "source": [
        "Из графика видно что продажи по категориям распределены практически в равных долях"
      ],
      "metadata": {
        "id": "VTZyTzDiLEy5"
      }
    },
    {
      "cell_type": "code",
      "source": [
        "import plotly.express as px\n",
        "import seaborn as sns"
      ],
      "metadata": {
        "id": "GMNK-86IS4do"
      },
      "execution_count": 57,
      "outputs": []
    },
    {
      "cell_type": "markdown",
      "source": [],
      "metadata": {
        "id": "5YMDbwq1XqtW"
      }
    },
    {
      "cell_type": "code",
      "source": [
        "category_counts = df_filtered1.groupBy('Country').count().toPandas()\n",
        "\n",
        "# Построение круговой диаграммы\n",
        "plt.figure(figsize=(8, 8))\n",
        "plt.pie(category_counts['count'], labels=category_counts['Country'], autopct='%1.1f%%', startangle=140)\n",
        "plt.title('Distribution of Counries')\n",
        "plt.axis('equal')\n",
        "plt.show()"
      ],
      "metadata": {
        "colab": {
          "base_uri": "https://localhost:8080/",
          "height": 682
        },
        "id": "NWjgSWpiRI39",
        "outputId": "9632579c-13af-40e7-d51d-54b96efbd7dc"
      },
      "execution_count": 64,
      "outputs": [
        {
          "output_type": "display_data",
          "data": {
            "text/plain": [
              "<Figure size 800x800 with 1 Axes>"
            ],
            "image/png": "[encoded data removed]"
          },
          "metadata": {}
        }
      ]
    }
  ]
}