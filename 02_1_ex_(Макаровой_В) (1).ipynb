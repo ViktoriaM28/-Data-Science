{
  "cells": [
    {
      "cell_type": "markdown",
      "metadata": {
        "id": "V8tFDW8pU6JY"
      },
      "source": [
        "# Лабораторная работа 2-1"
      ]
    },
    {
      "cell_type": "markdown",
      "metadata": {
        "collapsed": true,
        "id": "xwfcBdkEU6Jb"
      },
      "source": [
        "## 2.1.1: Множества\n",
        "\n",
        "Напишите функцию, которая находит пересечение двух множеств и печатает их.\n",
        "Инициализируйте два множества, например, значениями {13, 25, 37, 45, 13} и {14, 25, 38, 8, 45} и вызовите  функцию."
      ]
    },
    {
      "cell_type": "code",
      "execution_count": null,
      "metadata": {
        "id": "18agQyFBU6Jc",
        "outputId": "42609b7b-c13c-4bc3-c26c-8607c678a8d9"
      },
      "outputs": [
        {
          "name": "stdout",
          "output_type": "stream",
          "text": [
            "{25, 45}\n"
          ]
        }
      ],
      "source": [
        "mn1 = {13, 25, 37, 45, 13}\n",
        "mn2 = {14, 25, 38, 8, 45}\n",
        "\n",
        "def mnojestva(mn1, mn2):\n",
        "    intersection = mn1.intersection(mn2)\n",
        "    print(intersection)\n",
        "\n",
        "mnojestva(mn1,mn2)"
      ]
    },
    {
      "cell_type": "markdown",
      "metadata": {
        "id": "ICqsbCkHU6Je"
      },
      "source": [
        "## 2.1.2: Dictionaries\n",
        "\n",
        "* Создайте словарь с двухбуквенными кодами двух федеральных округов России и полными названиями, например, ЦТ: \tЦентральный, ЮЖ: Южный.\n",
        "* После первоначального создания словаря добавьте в словарь еще два округа.\n",
        "* Создайте второй словарь, который сопоставляет коды федеральных округов России с массивом городов в этом округе, например, ЦТ: [Москва, Тверь, Химки, Мытищи].\n",
        "* Напишите функцию, которая принимает код федеральных округов, печатает полное название округа и выводит список городов в этом округе."
      ]
    },
    {
      "cell_type": "markdown",
      "metadata": {
        "id": "4aS2On_yU6Jf"
      },
      "source": [
        "Создание словаря с двухбуквенными кодами двух федеральных округов России и полными названиями"
      ]
    },
    {
      "cell_type": "code",
      "execution_count": null,
      "metadata": {
        "id": "rWlK915XU6Jg",
        "outputId": "cf87d328-0232-4792-b83c-f59d84434425"
      },
      "outputs": [
        {
          "data": {
            "text/plain": [
              "{'ЦТ': 'Центральный', 'ЮЖ': 'Южный'}"
            ]
          },
          "execution_count": 38,
          "metadata": {},
          "output_type": "execute_result"
        }
      ],
      "source": [
        "region =  {\"ЦТ\":\"Центральный\", \"ЮЖ\":\"Южный\"}\n",
        "region"
      ]
    },
    {
      "cell_type": "markdown",
      "metadata": {
        "id": "wsb617cKU6Jg"
      },
      "source": [
        "Добавление двух округов (Приволжский и Дальневосточный)"
      ]
    },
    {
      "cell_type": "code",
      "execution_count": null,
      "metadata": {
        "id": "5PJfJdU8U6Jh",
        "outputId": "9f97a4bc-17cd-4e5f-f896-890aedb63d06"
      },
      "outputs": [
        {
          "data": {
            "text/plain": [
              "{'ЦТ': 'Центральный', 'ЮЖ': 'Южный', 'Прив': 'Приволжский'}"
            ]
          },
          "execution_count": 39,
          "metadata": {},
          "output_type": "execute_result"
        }
      ],
      "source": [
        "region[\"Прив\"] = \"Приволжский\"\n",
        "region"
      ]
    },
    {
      "cell_type": "code",
      "execution_count": null,
      "metadata": {
        "id": "fBMuDJ6KU6Ji",
        "outputId": "2f621ea5-6b2d-438b-ffba-2b934b301c37"
      },
      "outputs": [
        {
          "data": {
            "text/plain": [
              "{'ЦТ': 'Центральный',\n",
              " 'ЮЖ': 'Южный',\n",
              " 'Прив': 'Приволжский',\n",
              " 'ДВ': 'Дальневосточный'}"
            ]
          },
          "execution_count": 40,
          "metadata": {},
          "output_type": "execute_result"
        }
      ],
      "source": [
        "region[\"ДВ\"] = \"Дальневосточный\"\n",
        "region"
      ]
    },
    {
      "cell_type": "markdown",
      "metadata": {
        "id": "OiTyCeUUU6Jj"
      },
      "source": [
        "Создание словаря, который сопоставляет коды федеральных округов России с массивом городов в этом округе"
      ]
    },
    {
      "cell_type": "code",
      "execution_count": null,
      "metadata": {
        "id": "Np2TJpitU6Jj",
        "outputId": "bed15260-e535-4eca-9f03-e8edda63d55b"
      },
      "outputs": [
        {
          "data": {
            "text/plain": [
              "{'ЦТ': 'Москва, Тверь, Химки, Мытищи',\n",
              " 'ЮЖ': 'Ростов, Краснодар, Сочи, Астрахань',\n",
              " 'Прив': 'Пермь, Казань, Уфа, Самара',\n",
              " 'ДВ': 'Магадан, Уссурийск, Краснокаменск, Амурск'}"
            ]
          },
          "execution_count": 41,
          "metadata": {},
          "output_type": "execute_result"
        }
      ],
      "source": [
        "region_city = {\"ЦТ\":\"Москва, Тверь, Химки, Мытищи\", \"ЮЖ\":\"Ростов, Краснодар, Сочи, Астрахань\",\"Прив\":\"Пермь, Казань, Уфа, Самара\",\"ДВ\":\"Магадан, Уссурийск, Краснокаменск, Амурск\"}\n",
        "region_city"
      ]
    },
    {
      "cell_type": "code",
      "execution_count": null,
      "metadata": {
        "id": "1Nn5FDfgU6Jk"
      },
      "outputs": [],
      "source": [
        "Функция, которая принимает код федеральных округов, печатает полное название округа и выводит список городов в этом округе"
      ]
    },
    {
      "cell_type": "code",
      "execution_count": null,
      "metadata": {
        "id": "WRlMTTfcU6Jk",
        "outputId": "a16f0cc9-6dde-4c32-8acb-096ebf9dea4f"
      },
      "outputs": [
        {
          "name": "stdout",
          "output_type": "stream",
          "text": [
            "ЦТ: Центральный\n",
            "Города:\n",
            "М\n",
            "о\n",
            "с\n",
            "к\n",
            "в\n",
            "а\n",
            ",\n",
            " \n",
            "Т\n",
            "в\n",
            "е\n",
            "р\n",
            "ь\n",
            ",\n",
            " \n",
            "Х\n",
            "и\n",
            "м\n",
            "к\n",
            "и\n",
            ",\n",
            " \n",
            "М\n",
            "ы\n",
            "т\n",
            "и\n",
            "щ\n",
            "и\n",
            "\n",
            "ЮЖ: Южный\n",
            "Города:\n",
            "Р\n",
            "о\n",
            "с\n",
            "т\n",
            "о\n",
            "в\n",
            ",\n",
            " \n",
            "К\n",
            "р\n",
            "а\n",
            "с\n",
            "н\n",
            "о\n",
            "д\n",
            "а\n",
            "р\n",
            ",\n",
            " \n",
            "С\n",
            "о\n",
            "ч\n",
            "и\n",
            ",\n",
            " \n",
            "А\n",
            "с\n",
            "т\n",
            "р\n",
            "а\n",
            "х\n",
            "а\n",
            "н\n",
            "ь\n",
            "\n",
            "Прив: Приволжский\n",
            "Города:\n",
            "П\n",
            "е\n",
            "р\n",
            "м\n",
            "ь\n",
            ",\n",
            " \n",
            "К\n",
            "а\n",
            "з\n",
            "а\n",
            "н\n",
            "ь\n",
            ",\n",
            " \n",
            "У\n",
            "ф\n",
            "а\n",
            ",\n",
            " \n",
            "С\n",
            "а\n",
            "м\n",
            "а\n",
            "р\n",
            "а\n",
            "\n",
            "ДВ: Дальневосточный\n",
            "Города:\n",
            "М\n",
            "а\n",
            "г\n",
            "а\n",
            "д\n",
            "а\n",
            "н\n",
            ",\n",
            " \n",
            "У\n",
            "с\n",
            "с\n",
            "у\n",
            "р\n",
            "и\n",
            "й\n",
            "с\n",
            "к\n",
            ",\n",
            " \n",
            "К\n",
            "р\n",
            "а\n",
            "с\n",
            "н\n",
            "о\n",
            "к\n",
            "а\n",
            "м\n",
            "е\n",
            "н\n",
            "с\n",
            "к\n",
            ",\n",
            " \n",
            "А\n",
            "м\n",
            "у\n",
            "р\n",
            "с\n",
            "к\n",
            "\n"
          ]
        }
      ],
      "source": [
        "def kod_reg_city():\n",
        "    for k, v in region.items():\n",
        "        print(f'{k}: {v}')\n",
        "        region_city[k]\n",
        "        print('Города:')\n",
        "        for city in region_city[k]:\n",
        "            print(city)\n",
        "        print()\n",
        "\n",
        "\n",
        "kod_reg_city()"
      ]
    },
    {
      "cell_type": "markdown",
      "metadata": {
        "id": "ljX-X_IpU6Jk"
      },
      "source": [
        "## 2.1.3: Objects\n",
        "\n",
        "Создайте класс `Pet` с параметрами `name, pronoun, animal,` и `pet_response`.\n",
        "\n",
        "Добавьте метод `pet()`, который печатает ответ, состоящий из элементов, например:\n",
        "\n",
        "` Лейла — кошка. Если ее погладить, Лейла мурчит».`\n",
        "` Скаут — собака. Если его погладить, Скаут виляет хвостом.`"
      ]
    },
    {
      "cell_type": "code",
      "execution_count": null,
      "metadata": {
        "id": "5Hygkm_cU6Jl"
      },
      "outputs": [],
      "source": [
        "class Pet:\n",
        "    # создание экземпляра\n",
        "    def __init__(a, name, pronoun, animal, pet_response):\n",
        "        # переменная экземпляра, уникальна для этого экземпляра\n",
        "        a.name = name\n",
        "        a.pronoun = pronoun\n",
        "        a.animal = animal\n",
        "        a.pet_response = pet_response\n",
        "\n",
        "    def pet(a):\n",
        "        print(f\"{a.name} - {a.animal}. Если {a.pronoun} погладить {a.name} {a.pet_response}\")\n",
        "\n",
        "\n"
      ]
    },
    {
      "cell_type": "markdown",
      "metadata": {
        "id": "G2dvDiP5U6Jl"
      },
      "source": [
        "Вот несколько примеров вызовов:"
      ]
    },
    {
      "cell_type": "code",
      "execution_count": null,
      "metadata": {
        "id": "kEHFKVJmU6Jl",
        "outputId": "a765e330-ac80-4d9e-b3b5-51932a4a7965"
      },
      "outputs": [
        {
          "name": "stdout",
          "output_type": "stream",
          "text": [
            "Layla - cat. Если her погладить Layla purrs\n",
            "Scout - dog. Если her погладить Scout wags her tail\n"
          ]
        }
      ],
      "source": [
        "layla = Pet(\"Layla\", \"her\", \"cat\", \"purrs\")\n",
        "scout = Pet(\"Scout\", \"her\", \"dog\", \"wags her tail\")\n",
        "\n",
        "layla.pet()\n",
        "scout.pet()"
      ]
    },
    {
      "cell_type": "markdown",
      "metadata": {
        "collapsed": true,
        "id": "cR9xq9ImU6Jm"
      },
      "source": [
        "## 2.1.4: Pandas Series"
      ]
    },
    {
      "cell_type": "markdown",
      "metadata": {
        "id": "_xEToAhQU6Jm"
      },
      "source": [
        "Создайте `pandas series`, используя приведенные ниже списки, содержащие названия команд [Российской премьер-лиги](https://ru.wikipedia.org/wiki/%D0%A0%D0%BE%D1%81%D1%81%D0%B8%D0%B9%D1%81%D0%BA%D0%B0%D1%8F_%D0%BF%D1%80%D0%B5%D0%BC%D1%8C%D0%B5%D1%80-%D0%BB%D0%B8%D0%B3%D0%B0) и количество выигранных ими кубка премьер-лиги. Используйте имена как индексы, а победы как данные.\n",
        "\n",
        "  * После создания списка отсортируйте данные в алфавитном порядке по индексу.\n",
        "  * Распечатать обзор статистических свойств ряда. Каково среднее количество побед?\n",
        "  * Отфильтровать все команды, выигравшие менее четырех кубков премьер-лиги.\n",
        "  * В футбольной команде 11 игроков. Обновите данные, чтобы вместо количества чемпионатов,  отражалось количество побед.\n",
        "  * Предположим, что каждая  победа приносила 50 000 долларов США. Обновите данные, чтобы они содержали строку суммы в долларах, включая знак \\$. Например, для `Локомотив` это будет соответствовать:\n",
        "  ```\n",
        "  Тренер Юрий Сёмин  Локомотив $ 600000\n",
        "  ```"
      ]
    },
    {
      "cell_type": "code",
      "execution_count": null,
      "metadata": {
        "id": "5xPZ75fhU6Jm",
        "outputId": "135780a9-7915-462e-894b-29587f5a203c"
      },
      "outputs": [
        {
          "data": {
            "text/plain": [
              "['Юрий Сёмин («Локомотив»)',\n",
              " 'Олег Романцев («Спартак»)',\n",
              " 'Сергей Семак («Зенит»)',\n",
              " 'Валерий Газзаев («Спартак-Алания»)',\n",
              " 'Леонид Слуцкий (ЦСКА)',\n",
              " 'Курбан Бердыев («Рубин»)',\n",
              " 'Лучано Спаллетти («Зенит»)',\n",
              " 'Андре Виллаш-Боаш («Зенит»)',\n",
              " 'Дик Адвокат («Зенит»)',\n",
              " 'Массимо Каррера («Спартак»)',\n",
              " 'Зико (ЦСКА)',\n",
              " 'Георгий Ярцев («Спартак»)']"
            ]
          },
          "execution_count": 9,
          "metadata": {},
          "output_type": "execute_result"
        }
      ],
      "source": [
        "teams = [\"Юрий Сёмин («Локомотив»)\",\n",
        "         \"Олег Романцев («Спартак»)\",\n",
        "         \"Сергей Семак («Зенит»)\",\n",
        "         \"Валерий Газзаев («Спартак-Алания»)\",\n",
        "         \"Леонид Слуцкий (ЦСКА)\",\n",
        "         \"Курбан Бердыев («Рубин»)\",\n",
        "         \"Лучано Спаллетти («Зенит»)\",\n",
        "         \"Андре Виллаш-Боаш («Зенит»)\",\n",
        "         \"Дик Адвокат («Зенит»)\",\n",
        "         \"Массимо Каррера («Спартак»)\",\n",
        "         \"Зико (ЦСКА)\",\n",
        "         \"Георгий Ярцев («Спартак»)\"]\n",
        "wins = [12,11,10,10,7,5,4,3,2,2,1,1]\n"
      ]
    },
    {
      "cell_type": "code",
      "execution_count": null,
      "metadata": {
        "id": "YH1-xj0fU6Jn"
      },
      "outputs": [],
      "source": [
        "import pandas as pd"
      ]
    },
    {
      "cell_type": "markdown",
      "metadata": {
        "id": "i-sPRV8OU6Jn"
      },
      "source": [
        "Создание Pandas Series"
      ]
    },
    {
      "cell_type": "code",
      "execution_count": null,
      "metadata": {
        "id": "Cwp-VzSKU6Jo",
        "outputId": "0409e521-a6c8-407f-eaea-43d83009b063"
      },
      "outputs": [
        {
          "data": {
            "text/plain": [
              "Юрий Сёмин («Локомотив»)              12\n",
              "Олег Романцев («Спартак»)             11\n",
              "Сергей Семак («Зенит»)                10\n",
              "Валерий Газзаев («Спартак-Алания»)    10\n",
              "Леонид Слуцкий (ЦСКА)                  7\n",
              "Курбан Бердыев («Рубин»)               5\n",
              "Лучано Спаллетти («Зенит»)             4\n",
              "Андре Виллаш-Боаш («Зенит»)            3\n",
              "Дик Адвокат («Зенит»)                  2\n",
              "Массимо Каррера («Спартак»)            2\n",
              "Зико (ЦСКА)                            1\n",
              "Георгий Ярцев («Спартак»)              1\n",
              "dtype: int64"
            ]
          },
          "execution_count": 11,
          "metadata": {},
          "output_type": "execute_result"
        }
      ],
      "source": [
        "teams = pd.Series([12,11,10,10,7,5,4,3,2,2,1,1],\n",
        "                          index=[\"Юрий Сёмин («Локомотив»)\",\n",
        "         \"Олег Романцев («Спартак»)\",\n",
        "         \"Сергей Семак («Зенит»)\",\n",
        "         \"Валерий Газзаев («Спартак-Алания»)\",\n",
        "         \"Леонид Слуцкий (ЦСКА)\",\n",
        "         \"Курбан Бердыев («Рубин»)\",\n",
        "         \"Лучано Спаллетти («Зенит»)\",\n",
        "         \"Андре Виллаш-Боаш («Зенит»)\",\n",
        "         \"Дик Адвокат («Зенит»)\",\n",
        "         \"Массимо Каррера («Спартак»)\",\n",
        "         \"Зико (ЦСКА)\",\n",
        "         \"Георгий Ярцев («Спартак»)\"])\n",
        "teams"
      ]
    },
    {
      "cell_type": "markdown",
      "metadata": {
        "id": "GOJykY_lU6Jo"
      },
      "source": [
        "Сортируем данные списка по индексу в алфавитном порядке"
      ]
    },
    {
      "cell_type": "code",
      "execution_count": null,
      "metadata": {
        "id": "mX0QF64hU6Jp",
        "outputId": "dbc0a222-8588-4c36-c0f7-dedcb3f1308e"
      },
      "outputs": [
        {
          "data": {
            "text/plain": [
              "Андре Виллаш-Боаш («Зенит»)            3\n",
              "Валерий Газзаев («Спартак-Алания»)    10\n",
              "Георгий Ярцев («Спартак»)              1\n",
              "Дик Адвокат («Зенит»)                  2\n",
              "Зико (ЦСКА)                            1\n",
              "Курбан Бердыев («Рубин»)               5\n",
              "Леонид Слуцкий (ЦСКА)                  7\n",
              "Лучано Спаллетти («Зенит»)             4\n",
              "Массимо Каррера («Спартак»)            2\n",
              "Олег Романцев («Спартак»)             11\n",
              "Сергей Семак («Зенит»)                10\n",
              "Юрий Сёмин («Локомотив»)              12\n",
              "dtype: int64"
            ]
          },
          "execution_count": 15,
          "metadata": {},
          "output_type": "execute_result"
        }
      ],
      "source": [
        "# сначала смешиваем индексы\n",
        "sorted_alph = teams.sort_values()\n",
        "sorted_alph.sort_index()"
      ]
    },
    {
      "cell_type": "markdown",
      "metadata": {
        "id": "VvKyhCmqU6Jp"
      },
      "source": [
        "Обзор статистических свойств ряда"
      ]
    },
    {
      "cell_type": "code",
      "execution_count": null,
      "metadata": {
        "id": "EXfAtqCZU6Jp",
        "outputId": "d6e3182e-b27a-4ff2-e71c-59b2bc90e63a"
      },
      "outputs": [
        {
          "data": {
            "text/plain": [
              "count    12.000000\n",
              "mean      5.666667\n",
              "std       4.141439\n",
              "min       1.000000\n",
              "25%       2.000000\n",
              "50%       4.500000\n",
              "75%      10.000000\n",
              "max      12.000000\n",
              "dtype: float64"
            ]
          },
          "execution_count": 16,
          "metadata": {},
          "output_type": "execute_result"
        }
      ],
      "source": [
        "teams.describe()"
      ]
    },
    {
      "cell_type": "markdown",
      "metadata": {
        "id": "kw6AbSfFU6Jq"
      },
      "source": [
        "Среднее кол-во побед"
      ]
    },
    {
      "cell_type": "code",
      "execution_count": null,
      "metadata": {
        "id": "Epkw-Cr7U6Jq",
        "outputId": "c6bf39be-7461-4361-caac-928dab1bc9c8"
      },
      "outputs": [
        {
          "data": {
            "text/plain": [
              "6"
            ]
          },
          "execution_count": 21,
          "metadata": {},
          "output_type": "execute_result"
        }
      ],
      "source": [
        "win=teams.mean()\n",
        "round(win)"
      ]
    },
    {
      "cell_type": "markdown",
      "metadata": {
        "id": "tY1pqCS5U6Jq"
      },
      "source": [
        " Команды, выигравшие менее четырех кубков премьер-лиги"
      ]
    },
    {
      "cell_type": "code",
      "execution_count": null,
      "metadata": {
        "id": "F0hl77JyU6Jq",
        "outputId": "c92242db-d6cd-4073-ffca-660c090beef1"
      },
      "outputs": [
        {
          "data": {
            "text/plain": [
              "Лучано Спаллетти («Зенит»)     4\n",
              "Андре Виллаш-Боаш («Зенит»)    3\n",
              "Дик Адвокат («Зенит»)          2\n",
              "Массимо Каррера («Спартак»)    2\n",
              "Зико (ЦСКА)                    1\n",
              "Георгий Ярцев («Спартак»)      1\n",
              "dtype: int64"
            ]
          },
          "execution_count": 25,
          "metadata": {},
          "output_type": "execute_result"
        }
      ],
      "source": [
        "team_win = teams[teams <= 4]\n",
        "team_win"
      ]
    },
    {
      "cell_type": "markdown",
      "metadata": {
        "id": "pf_vkMIxU6Jr"
      },
      "source": [
        "Обновление данных в таблице"
      ]
    },
    {
      "cell_type": "code",
      "execution_count": 5,
      "metadata": {
        "colab": {
          "base_uri": "https://localhost:8080/"
        },
        "id": "JelE84V3U6Jr",
        "outputId": "b005cac5-2973-4215-dd7d-77a26343a7e8"
      },
      "outputs": [
        {
          "output_type": "stream",
          "name": "stdout",
          "text": [
            "Collecting wikitable\n",
            "  Downloading wikitable-1.0.0-py3-none-any.whl (3.9 kB)\n",
            "Requirement already satisfied: requests in /usr/local/lib/python3.10/dist-packages (from wikitable) (2.31.0)\n",
            "Requirement already satisfied: pandas in /usr/local/lib/python3.10/dist-packages (from wikitable) (1.5.3)\n",
            "Requirement already satisfied: beautifulsoup4 in /usr/local/lib/python3.10/dist-packages (from wikitable) (4.12.3)\n",
            "Requirement already satisfied: lxml in /usr/local/lib/python3.10/dist-packages (from wikitable) (4.9.4)\n",
            "Requirement already satisfied: html5lib in /usr/local/lib/python3.10/dist-packages (from wikitable) (1.1)\n",
            "Requirement already satisfied: soupsieve>1.2 in /usr/local/lib/python3.10/dist-packages (from beautifulsoup4->wikitable) (2.5)\n",
            "Requirement already satisfied: six>=1.9 in /usr/local/lib/python3.10/dist-packages (from html5lib->wikitable) (1.16.0)\n",
            "Requirement already satisfied: webencodings in /usr/local/lib/python3.10/dist-packages (from html5lib->wikitable) (0.5.1)\n",
            "Requirement already satisfied: python-dateutil>=2.8.1 in /usr/local/lib/python3.10/dist-packages (from pandas->wikitable) (2.8.2)\n",
            "Requirement already satisfied: pytz>=2020.1 in /usr/local/lib/python3.10/dist-packages (from pandas->wikitable) (2023.4)\n",
            "Requirement already satisfied: numpy>=1.21.0 in /usr/local/lib/python3.10/dist-packages (from pandas->wikitable) (1.25.2)\n",
            "Requirement already satisfied: charset-normalizer<4,>=2 in /usr/local/lib/python3.10/dist-packages (from requests->wikitable) (3.3.2)\n",
            "Requirement already satisfied: idna<4,>=2.5 in /usr/local/lib/python3.10/dist-packages (from requests->wikitable) (3.6)\n",
            "Requirement already satisfied: urllib3<3,>=1.21.1 in /usr/local/lib/python3.10/dist-packages (from requests->wikitable) (2.0.7)\n",
            "Requirement already satisfied: certifi>=2017.4.17 in /usr/local/lib/python3.10/dist-packages (from requests->wikitable) (2024.2.2)\n",
            "Installing collected packages: wikitable\n",
            "Successfully installed wikitable-1.0.0\n"
          ]
        }
      ],
      "source": [
        "pip install wikitable"
      ]
    },
    {
      "cell_type": "code",
      "execution_count": 8,
      "metadata": {
        "id": "FSeMj1YCU6Jr"
      },
      "outputs": [],
      "source": [
        "from wikitable import wikitable\n",
        "url = 'https://ru.wikipedia.org/wiki/%D0%A0%D0%BE%D1%81%D1%81%D0%B8%D0%B9%D1%81%D0%BA%D0%B0%D1%8F_%D0%BF%D1%80%D0%B5%D0%BC%D1%8C%D0%B5%D1%80-%D0%BB%D0%B8%D0%B3%D0%B0'\n",
        "team = wikitable(url, to_csv=True, overwrite=True, table_number=3)\n"
      ]
    },
    {
      "cell_type": "code",
      "source": [
        "team1 = team.iloc [:, [0,1,2]]\n",
        "team1"
      ],
      "metadata": {
        "colab": {
          "base_uri": "https://localhost:8080/",
          "height": 896
        },
        "id": "_OmM7TCgE-xw",
        "outputId": "8dbbad66-9c3e-422a-9505-2a5396cf7d1b"
      },
      "execution_count": 9,
      "outputs": [
        {
          "output_type": "execute_result",
          "data": {
            "text/plain": [
              "     №                                    Тренер  Всего\n",
              "0    1                  Юрий Сёмин («Локомотив»)     12\n",
              "1    2                 Олег Романцев («Спартак»)     11\n",
              "2    3                    Сергей Семак («Зенит»)     10\n",
              "3    4  Валерий Газзаев («Спартак-Алания», ЦСКА)     10\n",
              "4    5                     Леонид Слуцкий (ЦСКА)      7\n",
              "5    6                  Курбан Бердыев («Рубин»)      5\n",
              "6    7                Лучано Спаллетти («Зенит»)      4\n",
              "7    8               Андре Виллаш-Боаш («Зенит»)      3\n",
              "8    9                     Дик Адвокат («Зенит»)      2\n",
              "9    9               Массимо Каррера («Спартак»)      2\n",
              "10  11                               Зико (ЦСКА)      2\n",
              "11  12                 Георгий Ярцев («Спартак»)      1\n",
              "12  13                  Юрий Миронов («Торпедо»)      1\n",
              "13  13              Константин Бесков («Динамо»)      1\n",
              "14  13                Анатолий Давыдов («Зенит»)      1\n",
              "15  13                    Ваит Талгаев («Терек»)      1\n",
              "16  13            Анатолий Бышовец («Локомотив»)      1\n",
              "17  13                Миодраг Божович («Ростов»)      1\n",
              "18  13            Игорь Черевченко («Локомотив»)      1\n",
              "19  13                Дмитрий Парфёнов («Тосно»)      1\n",
              "20  13               Марко Николич («Локомотив»)      1\n",
              "21  13                  Паоло Ваноли («Спартак»)      1\n",
              "22  13                   Владимир Федотов (ЦСКА)      1\n",
              "23  24              Властимил Петржела («Зенит»)      1\n",
              "24  25                        Артур Жорже (ЦСКА)      1\n",
              "25  25                   Мирча Луческу («Зенит»)      1\n",
              "26  25                  Виктор Гончаренко (ЦСКА)      1"
            ],
            "text/html": [
              "\n",
              "  <div id=\"df-5b323114-a53a-4210-ae07-c68ab929c608\" class=\"colab-df-container\">\n",
              "    <div>\n",
              "<style scoped>\n",
              "    .dataframe tbody tr th:only-of-type {\n",
              "        vertical-align: middle;\n",
              "    }\n",
              "\n",
              "    .dataframe tbody tr th {\n",
              "        vertical-align: top;\n",
              "    }\n",
              "\n",
              "    .dataframe thead th {\n",
              "        text-align: right;\n",
              "    }\n",
              "</style>\n",
              "<table border=\"1\" class=\"dataframe\">\n",
              "  <thead>\n",
              "    <tr style=\"text-align: right;\">\n",
              "      <th></th>\n",
              "      <th>№</th>\n",
              "      <th>Тренер</th>\n",
              "      <th>Всего</th>\n",
              "    </tr>\n",
              "  </thead>\n",
              "  <tbody>\n",
              "    <tr>\n",
              "      <th>0</th>\n",
              "      <td>1</td>\n",
              "      <td>Юрий Сёмин («Локомотив»)</td>\n",
              "      <td>12</td>\n",
              "    </tr>\n",
              "    <tr>\n",
              "      <th>1</th>\n",
              "      <td>2</td>\n",
              "      <td>Олег Романцев («Спартак»)</td>\n",
              "      <td>11</td>\n",
              "    </tr>\n",
              "    <tr>\n",
              "      <th>2</th>\n",
              "      <td>3</td>\n",
              "      <td>Сергей Семак («Зенит»)</td>\n",
              "      <td>10</td>\n",
              "    </tr>\n",
              "    <tr>\n",
              "      <th>3</th>\n",
              "      <td>4</td>\n",
              "      <td>Валерий Газзаев («Спартак-Алания», ЦСКА)</td>\n",
              "      <td>10</td>\n",
              "    </tr>\n",
              "    <tr>\n",
              "      <th>4</th>\n",
              "      <td>5</td>\n",
              "      <td>Леонид Слуцкий (ЦСКА)</td>\n",
              "      <td>7</td>\n",
              "    </tr>\n",
              "    <tr>\n",
              "      <th>5</th>\n",
              "      <td>6</td>\n",
              "      <td>Курбан Бердыев («Рубин»)</td>\n",
              "      <td>5</td>\n",
              "    </tr>\n",
              "    <tr>\n",
              "      <th>6</th>\n",
              "      <td>7</td>\n",
              "      <td>Лучано Спаллетти («Зенит»)</td>\n",
              "      <td>4</td>\n",
              "    </tr>\n",
              "    <tr>\n",
              "      <th>7</th>\n",
              "      <td>8</td>\n",
              "      <td>Андре Виллаш-Боаш («Зенит»)</td>\n",
              "      <td>3</td>\n",
              "    </tr>\n",
              "    <tr>\n",
              "      <th>8</th>\n",
              "      <td>9</td>\n",
              "      <td>Дик Адвокат («Зенит»)</td>\n",
              "      <td>2</td>\n",
              "    </tr>\n",
              "    <tr>\n",
              "      <th>9</th>\n",
              "      <td>9</td>\n",
              "      <td>Массимо Каррера («Спартак»)</td>\n",
              "      <td>2</td>\n",
              "    </tr>\n",
              "    <tr>\n",
              "      <th>10</th>\n",
              "      <td>11</td>\n",
              "      <td>Зико (ЦСКА)</td>\n",
              "      <td>2</td>\n",
              "    </tr>\n",
              "    <tr>\n",
              "      <th>11</th>\n",
              "      <td>12</td>\n",
              "      <td>Георгий Ярцев («Спартак»)</td>\n",
              "      <td>1</td>\n",
              "    </tr>\n",
              "    <tr>\n",
              "      <th>12</th>\n",
              "      <td>13</td>\n",
              "      <td>Юрий Миронов («Торпедо»)</td>\n",
              "      <td>1</td>\n",
              "    </tr>\n",
              "    <tr>\n",
              "      <th>13</th>\n",
              "      <td>13</td>\n",
              "      <td>Константин Бесков («Динамо»)</td>\n",
              "      <td>1</td>\n",
              "    </tr>\n",
              "    <tr>\n",
              "      <th>14</th>\n",
              "      <td>13</td>\n",
              "      <td>Анатолий Давыдов («Зенит»)</td>\n",
              "      <td>1</td>\n",
              "    </tr>\n",
              "    <tr>\n",
              "      <th>15</th>\n",
              "      <td>13</td>\n",
              "      <td>Ваит Талгаев («Терек»)</td>\n",
              "      <td>1</td>\n",
              "    </tr>\n",
              "    <tr>\n",
              "      <th>16</th>\n",
              "      <td>13</td>\n",
              "      <td>Анатолий Бышовец («Локомотив»)</td>\n",
              "      <td>1</td>\n",
              "    </tr>\n",
              "    <tr>\n",
              "      <th>17</th>\n",
              "      <td>13</td>\n",
              "      <td>Миодраг Божович («Ростов»)</td>\n",
              "      <td>1</td>\n",
              "    </tr>\n",
              "    <tr>\n",
              "      <th>18</th>\n",
              "      <td>13</td>\n",
              "      <td>Игорь Черевченко («Локомотив»)</td>\n",
              "      <td>1</td>\n",
              "    </tr>\n",
              "    <tr>\n",
              "      <th>19</th>\n",
              "      <td>13</td>\n",
              "      <td>Дмитрий Парфёнов («Тосно»)</td>\n",
              "      <td>1</td>\n",
              "    </tr>\n",
              "    <tr>\n",
              "      <th>20</th>\n",
              "      <td>13</td>\n",
              "      <td>Марко Николич («Локомотив»)</td>\n",
              "      <td>1</td>\n",
              "    </tr>\n",
              "    <tr>\n",
              "      <th>21</th>\n",
              "      <td>13</td>\n",
              "      <td>Паоло Ваноли («Спартак»)</td>\n",
              "      <td>1</td>\n",
              "    </tr>\n",
              "    <tr>\n",
              "      <th>22</th>\n",
              "      <td>13</td>\n",
              "      <td>Владимир Федотов (ЦСКА)</td>\n",
              "      <td>1</td>\n",
              "    </tr>\n",
              "    <tr>\n",
              "      <th>23</th>\n",
              "      <td>24</td>\n",
              "      <td>Властимил Петржела («Зенит»)</td>\n",
              "      <td>1</td>\n",
              "    </tr>\n",
              "    <tr>\n",
              "      <th>24</th>\n",
              "      <td>25</td>\n",
              "      <td>Артур Жорже (ЦСКА)</td>\n",
              "      <td>1</td>\n",
              "    </tr>\n",
              "    <tr>\n",
              "      <th>25</th>\n",
              "      <td>25</td>\n",
              "      <td>Мирча Луческу («Зенит»)</td>\n",
              "      <td>1</td>\n",
              "    </tr>\n",
              "    <tr>\n",
              "      <th>26</th>\n",
              "      <td>25</td>\n",
              "      <td>Виктор Гончаренко (ЦСКА)</td>\n",
              "      <td>1</td>\n",
              "    </tr>\n",
              "  </tbody>\n",
              "</table>\n",
              "</div>\n",
              "    <div class=\"colab-df-buttons\">\n",
              "\n",
              "  <div class=\"colab-df-container\">\n",
              "    <button class=\"colab-df-convert\" onclick=\"convertToInteractive('df-5b323114-a53a-4210-ae07-c68ab929c608')\"\n",
              "            title=\"Convert this dataframe to an interactive table.\"\n",
              "            style=\"display:none;\">\n",
              "\n",
              "  <svg xmlns=\"http://www.w3.org/2000/svg\" height=\"24px\" viewBox=\"0 -960 960 960\">\n",
              "    <path d=\"M120-120v-720h720v720H120Zm60-500h600v-160H180v160Zm220 220h160v-160H400v160Zm0 220h160v-160H400v160ZM180-400h160v-160H180v160Zm440 0h160v-160H620v160ZM180-180h160v-160H180v160Zm440 0h160v-160H620v160Z\"/>\n",
              "  </svg>\n",
              "    </button>\n",
              "\n",
              "  <style>\n",
              "    .colab-df-container {\n",
              "      display:flex;\n",
              "      gap: 12px;\n",
              "    }\n",
              "\n",
              "    .colab-df-convert {\n",
              "      background-color: #E8F0FE;\n",
              "      border: none;\n",
              "      border-radius: 50%;\n",
              "      cursor: pointer;\n",
              "      display: none;\n",
              "      fill: #1967D2;\n",
              "      height: 32px;\n",
              "      padding: 0 0 0 0;\n",
              "      width: 32px;\n",
              "    }\n",
              "\n",
              "    .colab-df-convert:hover {\n",
              "      background-color: #E2EBFA;\n",
              "      box-shadow: 0px 1px 2px rgba(60, 64, 67, 0.3), 0px 1px 3px 1px rgba(60, 64, 67, 0.15);\n",
              "      fill: #174EA6;\n",
              "    }\n",
              "\n",
              "    .colab-df-buttons div {\n",
              "      margin-bottom: 4px;\n",
              "    }\n",
              "\n",
              "    [theme=dark] .colab-df-convert {\n",
              "      background-color: #3B4455;\n",
              "      fill: #D2E3FC;\n",
              "    }\n",
              "\n",
              "    [theme=dark] .colab-df-convert:hover {\n",
              "      background-color: #434B5C;\n",
              "      box-shadow: 0px 1px 3px 1px rgba(0, 0, 0, 0.15);\n",
              "      filter: drop-shadow(0px 1px 2px rgba(0, 0, 0, 0.3));\n",
              "      fill: #FFFFFF;\n",
              "    }\n",
              "  </style>\n",
              "\n",
              "    <script>\n",
              "      const buttonEl =\n",
              "        document.querySelector('#df-5b323114-a53a-4210-ae07-c68ab929c608 button.colab-df-convert');\n",
              "      buttonEl.style.display =\n",
              "        google.colab.kernel.accessAllowed ? 'block' : 'none';\n",
              "\n",
              "      async function convertToInteractive(key) {\n",
              "        const element = document.querySelector('#df-5b323114-a53a-4210-ae07-c68ab929c608');\n",
              "        const dataTable =\n",
              "          await google.colab.kernel.invokeFunction('convertToInteractive',\n",
              "                                                    [key], {});\n",
              "        if (!dataTable) return;\n",
              "\n",
              "        const docLinkHtml = 'Like what you see? Visit the ' +\n",
              "          '<a target=\"_blank\" href=https://colab.research.google.com/notebooks/data_table.ipynb>data table notebook</a>'\n",
              "          + ' to learn more about interactive tables.';\n",
              "        element.innerHTML = '';\n",
              "        dataTable['output_type'] = 'display_data';\n",
              "        await google.colab.output.renderOutput(dataTable, element);\n",
              "        const docLink = document.createElement('div');\n",
              "        docLink.innerHTML = docLinkHtml;\n",
              "        element.appendChild(docLink);\n",
              "      }\n",
              "    </script>\n",
              "  </div>\n",
              "\n",
              "\n",
              "<div id=\"df-476bf4bf-9dce-43b1-8a51-57fba485686c\">\n",
              "  <button class=\"colab-df-quickchart\" onclick=\"quickchart('df-476bf4bf-9dce-43b1-8a51-57fba485686c')\"\n",
              "            title=\"Suggest charts\"\n",
              "            style=\"display:none;\">\n",
              "\n",
              "<svg xmlns=\"http://www.w3.org/2000/svg\" height=\"24px\"viewBox=\"0 0 24 24\"\n",
              "     width=\"24px\">\n",
              "    <g>\n",
              "        <path d=\"M19 3H5c-1.1 0-2 .9-2 2v14c0 1.1.9 2 2 2h14c1.1 0 2-.9 2-2V5c0-1.1-.9-2-2-2zM9 17H7v-7h2v7zm4 0h-2V7h2v10zm4 0h-2v-4h2v4z\"/>\n",
              "    </g>\n",
              "</svg>\n",
              "  </button>\n",
              "\n",
              "<style>\n",
              "  .colab-df-quickchart {\n",
              "      --bg-color: #E8F0FE;\n",
              "      --fill-color: #1967D2;\n",
              "      --hover-bg-color: #E2EBFA;\n",
              "      --hover-fill-color: #174EA6;\n",
              "      --disabled-fill-color: #AAA;\n",
              "      --disabled-bg-color: #DDD;\n",
              "  }\n",
              "\n",
              "  [theme=dark] .colab-df-quickchart {\n",
              "      --bg-color: #3B4455;\n",
              "      --fill-color: #D2E3FC;\n",
              "      --hover-bg-color: #434B5C;\n",
              "      --hover-fill-color: #FFFFFF;\n",
              "      --disabled-bg-color: #3B4455;\n",
              "      --disabled-fill-color: #666;\n",
              "  }\n",
              "\n",
              "  .colab-df-quickchart {\n",
              "    background-color: var(--bg-color);\n",
              "    border: none;\n",
              "    border-radius: 50%;\n",
              "    cursor: pointer;\n",
              "    display: none;\n",
              "    fill: var(--fill-color);\n",
              "    height: 32px;\n",
              "    padding: 0;\n",
              "    width: 32px;\n",
              "  }\n",
              "\n",
              "  .colab-df-quickchart:hover {\n",
              "    background-color: var(--hover-bg-color);\n",
              "    box-shadow: 0 1px 2px rgba(60, 64, 67, 0.3), 0 1px 3px 1px rgba(60, 64, 67, 0.15);\n",
              "    fill: var(--button-hover-fill-color);\n",
              "  }\n",
              "\n",
              "  .colab-df-quickchart-complete:disabled,\n",
              "  .colab-df-quickchart-complete:disabled:hover {\n",
              "    background-color: var(--disabled-bg-color);\n",
              "    fill: var(--disabled-fill-color);\n",
              "    box-shadow: none;\n",
              "  }\n",
              "\n",
              "  .colab-df-spinner {\n",
              "    border: 2px solid var(--fill-color);\n",
              "    border-color: transparent;\n",
              "    border-bottom-color: var(--fill-color);\n",
              "    animation:\n",
              "      spin 1s steps(1) infinite;\n",
              "  }\n",
              "\n",
              "  @keyframes spin {\n",
              "    0% {\n",
              "      border-color: transparent;\n",
              "      border-bottom-color: var(--fill-color);\n",
              "      border-left-color: var(--fill-color);\n",
              "    }\n",
              "    20% {\n",
              "      border-color: transparent;\n",
              "      border-left-color: var(--fill-color);\n",
              "      border-top-color: var(--fill-color);\n",
              "    }\n",
              "    30% {\n",
              "      border-color: transparent;\n",
              "      border-left-color: var(--fill-color);\n",
              "      border-top-color: var(--fill-color);\n",
              "      border-right-color: var(--fill-color);\n",
              "    }\n",
              "    40% {\n",
              "      border-color: transparent;\n",
              "      border-right-color: var(--fill-color);\n",
              "      border-top-color: var(--fill-color);\n",
              "    }\n",
              "    60% {\n",
              "      border-color: transparent;\n",
              "      border-right-color: var(--fill-color);\n",
              "    }\n",
              "    80% {\n",
              "      border-color: transparent;\n",
              "      border-right-color: var(--fill-color);\n",
              "      border-bottom-color: var(--fill-color);\n",
              "    }\n",
              "    90% {\n",
              "      border-color: transparent;\n",
              "      border-bottom-color: var(--fill-color);\n",
              "    }\n",
              "  }\n",
              "</style>\n",
              "\n",
              "  <script>\n",
              "    async function quickchart(key) {\n",
              "      const quickchartButtonEl =\n",
              "        document.querySelector('#' + key + ' button');\n",
              "      quickchartButtonEl.disabled = true;  // To prevent multiple clicks.\n",
              "      quickchartButtonEl.classList.add('colab-df-spinner');\n",
              "      try {\n",
              "        const charts = await google.colab.kernel.invokeFunction(\n",
              "            'suggestCharts', [key], {});\n",
              "      } catch (error) {\n",
              "        console.error('Error during call to suggestCharts:', error);\n",
              "      }\n",
              "      quickchartButtonEl.classList.remove('colab-df-spinner');\n",
              "      quickchartButtonEl.classList.add('colab-df-quickchart-complete');\n",
              "    }\n",
              "    (() => {\n",
              "      let quickchartButtonEl =\n",
              "        document.querySelector('#df-476bf4bf-9dce-43b1-8a51-57fba485686c button');\n",
              "      quickchartButtonEl.style.display =\n",
              "        google.colab.kernel.accessAllowed ? 'block' : 'none';\n",
              "    })();\n",
              "  </script>\n",
              "</div>\n",
              "    </div>\n",
              "  </div>\n"
            ],
            "application/vnd.google.colaboratory.intrinsic+json": {
              "type": "dataframe",
              "variable_name": "team1",
              "summary": "{\n  \"name\": \"team1\",\n  \"rows\": 27,\n  \"fields\": [\n    {\n      \"column\": \"\\u2116\",\n      \"properties\": {\n        \"dtype\": \"number\",\n        \"std\": 6,\n        \"min\": 1,\n        \"max\": 25,\n        \"num_unique_values\": 14,\n        \"samples\": [\n          11,\n          13,\n          1\n        ],\n        \"semantic_type\": \"\",\n        \"description\": \"\"\n      }\n    },\n    {\n      \"column\": \"\\u0422\\u0440\\u0435\\u043d\\u0435\\u0440\",\n      \"properties\": {\n        \"dtype\": \"string\",\n        \"num_unique_values\": 27,\n        \"samples\": [\n          \"\\u0414\\u0438\\u043a \\u0410\\u0434\\u0432\\u043e\\u043a\\u0430\\u0442 (\\u00ab\\u0417\\u0435\\u043d\\u0438\\u0442\\u00bb)\",\n          \"\\u041a\\u043e\\u043d\\u0441\\u0442\\u0430\\u043d\\u0442\\u0438\\u043d \\u0411\\u0435\\u0441\\u043a\\u043e\\u0432 (\\u00ab\\u0414\\u0438\\u043d\\u0430\\u043c\\u043e\\u00bb)\",\n          \"\\u041c\\u0430\\u0441\\u0441\\u0438\\u043c\\u043e \\u041a\\u0430\\u0440\\u0440\\u0435\\u0440\\u0430 (\\u00ab\\u0421\\u043f\\u0430\\u0440\\u0442\\u0430\\u043a\\u00bb)\"\n        ],\n        \"semantic_type\": \"\",\n        \"description\": \"\"\n      }\n    },\n    {\n      \"column\": \"\\u0412\\u0441\\u0435\\u0433\\u043e\",\n      \"properties\": {\n        \"dtype\": \"number\",\n        \"std\": 3,\n        \"min\": 1,\n        \"max\": 12,\n        \"num_unique_values\": 9,\n        \"samples\": [\n          2,\n          11,\n          4\n        ],\n        \"semantic_type\": \"\",\n        \"description\": \"\"\n      }\n    }\n  ]\n}"
            }
          },
          "metadata": {},
          "execution_count": 9
        }
      ]
    },
    {
      "cell_type": "markdown",
      "metadata": {
        "id": "_BqOYs1lU6Js"
      },
      "source": [
        "Обновление данных, чтобы они содержали строку суммы в долларах, включая знак $"
      ]
    },
    {
      "cell_type": "code",
      "execution_count": null,
      "metadata": {
        "id": "bqhbKMswU6Js"
      },
      "outputs": [],
      "source": []
    }
  ],
  "metadata": {
    "anaconda-cloud": {},
    "kernelspec": {
      "display_name": "Python 3 (ipykernel)",
      "language": "python",
      "name": "python3"
    },
    "language_info": {
      "codemirror_mode": {
        "name": "ipython",
        "version": 3
      },
      "file_extension": ".py",
      "mimetype": "text/x-python",
      "name": "python",
      "nbconvert_exporter": "python",
      "pygments_lexer": "ipython3",
      "version": "3.11.5"
    },
    "colab": {
      "provenance": []
    }
  },
  "nbformat": 4,
  "nbformat_minor": 0
}