{
 "cells": [
  {
   "cell_type": "markdown",
   "metadata": {
    "id": "Jyrf8xk3k6Ys"
   },
   "source": [
    "# Лабораторная работа к лекции 1\n",
    "Ваше имя:Макарова Виктория\n",
    "Ваш адрес электронной почты:makarova_vs@mgpu.ru"
   ]
  },
  {
   "cell_type": "markdown",
   "metadata": {
    "id": "86N7viRzk6Yt"
   },
   "source": [
    "## Упражнение 1.1. Типы данных и операции\n",
    "1. Определите две переменные и присвойте первой целое число, а второй — число с плавающей запятой. Определите новую переменную и присвойте сумму двух предыдущих переменных. Каков тип данных третьей переменной?\n",
    "2. Переназначьте переменную с другим типом данных, например, возьмите одну из числовых переменных и присвойте ей строку. Какой новый тип данных?\n",
    "3. Посмотрите, что произойдет, если вы попытаетесь добавить строку к строке.\n",
    "4. Посмотрите, что произойдет, если вы добавите строку к числу с плавающей запятой или целому числу."
   ]
  },
  {
   "cell_type": "code",
   "execution_count": 1,
   "metadata": {
    "id": "9ZgZCUPNk6Yt"
   },
   "outputs": [
    {
     "name": "stdout",
     "output_type": "stream",
     "text": [
      "16.78 <class 'float'>\n"
     ]
    }
   ],
   "source": [
    "a = 15\n",
    "b = 1.78\n",
    "c = a + b\n",
    "print(c,type(c))"
   ]
  },
  {
   "cell_type": "code",
   "execution_count": 3,
   "metadata": {},
   "outputs": [
    {
     "name": "stdout",
     "output_type": "stream",
     "text": [
      "<class 'str'>\n"
     ]
    }
   ],
   "source": [
    "x = \"99\"\n",
    "print(type(x))"
   ]
  },
  {
   "cell_type": "code",
   "execution_count": 4,
   "metadata": {},
   "outputs": [
    {
     "name": "stdout",
     "output_type": "stream",
     "text": [
      "MoscowRussia\n"
     ]
    }
   ],
   "source": [
    "a = \"Moscow\"\n",
    "b = \"Russia\"\n",
    "c = a + b\n",
    "print(c)"
   ]
  },
  {
   "cell_type": "code",
   "execution_count": 5,
   "metadata": {},
   "outputs": [
    {
     "ename": "TypeError",
     "evalue": "can only concatenate str (not \"float\") to str",
     "output_type": "error",
     "traceback": [
      "\u001b[1;31m---------------------------------------------------------------------------\u001b[0m",
      "\u001b[1;31mTypeError\u001b[0m                                 Traceback (most recent call last)",
      "Cell \u001b[1;32mIn[5], line 5\u001b[0m\n\u001b[0;32m      3\u001b[0m c \u001b[38;5;241m=\u001b[39m \u001b[38;5;241m67.9\u001b[39m\n\u001b[0;32m      4\u001b[0m \u001b[38;5;66;03m#q = a + b  #добавление строки к целому числу\u001b[39;00m\n\u001b[1;32m----> 5\u001b[0m x \u001b[38;5;241m=\u001b[39m a \u001b[38;5;241m+\u001b[39m c  \u001b[38;5;66;03m#добавление строки к числу с плавающей точкой\u001b[39;00m\n\u001b[0;32m      6\u001b[0m \u001b[38;5;66;03m#print(q)\u001b[39;00m\n\u001b[0;32m      7\u001b[0m \u001b[38;5;28mprint\u001b[39m(x)\n",
      "\u001b[1;31mTypeError\u001b[0m: can only concatenate str (not \"float\") to str"
     ]
    }
   ],
   "source": [
    "a = \"Moscow\"\n",
    "b = 67.9\n",
    "x = a + b  \n",
    "print(x)"
   ]
  },
  {
   "cell_type": "code",
   "execution_count": 6,
   "metadata": {},
   "outputs": [
    {
     "ename": "TypeError",
     "evalue": "can only concatenate str (not \"int\") to str",
     "output_type": "error",
     "traceback": [
      "\u001b[1;31m---------------------------------------------------------------------------\u001b[0m",
      "\u001b[1;31mTypeError\u001b[0m                                 Traceback (most recent call last)",
      "Cell \u001b[1;32mIn[6], line 3\u001b[0m\n\u001b[0;32m      1\u001b[0m a \u001b[38;5;241m=\u001b[39m \u001b[38;5;124m\"\u001b[39m\u001b[38;5;124mMoscow\u001b[39m\u001b[38;5;124m\"\u001b[39m\n\u001b[0;32m      2\u001b[0m c \u001b[38;5;241m=\u001b[39m \u001b[38;5;241m912\u001b[39m\n\u001b[1;32m----> 3\u001b[0m y \u001b[38;5;241m=\u001b[39m a \u001b[38;5;241m+\u001b[39m c\n\u001b[0;32m      4\u001b[0m \u001b[38;5;28mprint\u001b[39m(y)\n",
      "\u001b[1;31mTypeError\u001b[0m: can only concatenate str (not \"int\") to str"
     ]
    }
   ],
   "source": [
    "a = \"Moscow\"\n",
    "c = 912\n",
    "y = a + c\n",
    "print(y)"
   ]
  },
  {
   "cell_type": "markdown",
   "metadata": {
    "id": "ZMoobyT-k6Yu"
   },
   "source": [
    "## Упражнение 1.2. Запуск программ\n",
    "\n",
    "  * Создайте новый файл Python(или файл с расширением `.ipynb`) и используйте функцию `double_number` в качестве шаблона. Измените код, чтобы добавить два числа вместо удвоения одного числа.\n",
    "  * Можете ли вы догадаться, что произойдет, если изменить отступ? Выполните данное действие.\n",
    "  * Попробуйте, что произойдет, если вы напечатаете `a` в самом конце программы. Пояснить, что происходит?\n",
    " [Текст ссылки](https://)"
   ]
  },
  {
   "cell_type": "code",
   "execution_count": 14,
   "metadata": {},
   "outputs": [
    {
     "name": "stdout",
     "output_type": "stream",
     "text": [
      "168\n",
      "11.32\n"
     ]
    }
   ],
   "source": [
    "def double_number(a):\n",
    "    a *= 2\n",
    "    return a\n",
    "\n",
    "print(double_number(84))\n",
    "print(double_number(5.66))"
   ]
  },
  {
   "cell_type": "code",
   "execution_count": 16,
   "metadata": {},
   "outputs": [
    {
     "ename": "IndentationError",
     "evalue": "unindent does not match any outer indentation level (<tokenize>, line 3)",
     "output_type": "error",
     "traceback": [
      "\u001b[1;36m  File \u001b[1;32m<tokenize>:3\u001b[1;36m\u001b[0m\n\u001b[1;33m    return a\u001b[0m\n\u001b[1;37m    ^\u001b[0m\n\u001b[1;31mIndentationError\u001b[0m\u001b[1;31m:\u001b[0m unindent does not match any outer indentation level\n"
     ]
    }
   ],
   "source": [
    "def double_number(a):\n",
    "    a *= 2\n",
    " return a  #изменение отступа\n",
    "\n",
    "print(double_number(84))\n",
    "print(double_number(5.66))"
   ]
  },
  {
   "cell_type": "code",
   "execution_count": 19,
   "metadata": {},
   "outputs": [
    {
     "name": "stdout",
     "output_type": "stream",
     "text": [
      "168\n",
      "11.32\n"
     ]
    },
    {
     "data": {
      "text/plain": [
       "'Moscow'"
      ]
     },
     "execution_count": 19,
     "metadata": {},
     "output_type": "execute_result"
    }
   ],
   "source": [
    "def double_number(a):\n",
    "    a *= 2\n",
    "    return a\n",
    "\n",
    "print(double_number(84))\n",
    "print(double_number(5.66))\n",
    "a"
   ]
  },
  {
   "cell_type": "markdown",
   "metadata": {
    "id": "15GtjpzGk6Yu"
   },
   "source": [
    "## Упражнение 1.3. Создание ячеек, выполнение кода\n",
    "\n",
    "1. Создайте новую ячейку кода ниже, где вы определите переменные, содержащие ваше имя, ваш возраст  и вашу специальность.\n",
    "2. Создайте еще одну ячейку, использующую эти переменные, и выведите объединенную строку с указанием вашего имени, специальности и возраста в годах, месяцах и днях (при условии, что сегодня ваш день рождения). Вывод должен выглядеть так:\n",
    "\n",
    "```\n",
    "Имя: Кот-ученый, Специальность: Бизнес-Информатика, Возраст: 18 лет, или 216 месяцев, или 6480 дней..\n",
    "```"
   ]
  },
  {
   "cell_type": "code",
   "execution_count": 21,
   "metadata": {
    "id": "z7DKIUQCk6Yu"
   },
   "outputs": [
    {
     "name": "stdout",
     "output_type": "stream",
     "text": [
      "Имя: Viktoria, Специальность: Бизнес-информатика, Возраст: 20 год, или 240 месяцев, или 7300 дней\n"
     ]
    }
   ],
   "source": [
    "name = \"Viktoria\"\n",
    "spec = \"Бизнес-информатика\"\n",
    "age = 20\n",
    "\n",
    "age_m = age * 12\n",
    "age_d= age * 365\n",
    "\n",
    "print(f\"Имя: {name}, Специальность: {spec}, Возраст: {age} год, или {age_m} месяцев, или {age_d} дней\")\n",
    "\n"
   ]
  },
  {
   "cell_type": "markdown",
   "metadata": {
    "id": "bPTBzjXhk6Yu"
   },
   "source": [
    "## Упражнение 1.4: Функции\n",
    "Напишите функцию, которая\n",
    "  * принимает две числовые переменные\n",
    "  * умножает их друг на друга\n",
    "  * делит их на числовую переменную, определенную в области видимости вне функции\n",
    "  * и возвращает результат.\n",
    "\n",
    "Выведите результат функции для трех разных наборов входных переменных."
   ]
  },
  {
   "cell_type": "code",
   "execution_count": 24,
   "metadata": {},
   "outputs": [
    {
     "name": "stdout",
     "output_type": "stream",
     "text": [
      "150.28000000000003\n",
      "241.9\n",
      "275.65999999999997\n"
     ]
    }
   ],
   "source": [
    "def calc(x, y):\n",
    "    global r\n",
    "    res = (x * y) / r\n",
    "    return res\n",
    "\n",
    "r = 10\n",
    "\n",
    "res1 = calc(88.4, 17)\n",
    "print(res1)\n",
    "\n",
    "res2 = calc(41, 59)\n",
    "print(res2)\n",
    "\n",
    "res3 = calc(77, 35.8)\n",
    "print(res3)"
   ]
  },
  {
   "cell_type": "markdown",
   "metadata": {},
   "source": [
    "## Упражнение 1.5*\n",
    "\n",
    "Есть некоторые данные о количестве книг, прочитанных разными людьми, работающими в книжном магазине Владимира. Создайте код Python, который учитывает каждого человека и выводит, сколько книг он прочитал. Если кто-то прочитал 0 книг, выведите «___ не читал ни одной книги!» вместо количества книг."
   ]
  },
  {
   "cell_type": "code",
   "execution_count": 28,
   "metadata": {},
   "outputs": [],
   "source": [
    "people = ['Krishnang', 'Steve', 'Jimmy', 'Mary', 'Divya', 'Robert', 'Yulia']\n",
    "books_read = [12, 6, 0, 7, 4, 10, 15]"
   ]
  },
  {
   "cell_type": "markdown",
   "metadata": {},
   "source": [
    "Существует несколько способов решить эту задачу: можно изучить функцию `zip()`, использовать `enumerate()`, `range` и `len` или использовать другие методы. Чтобы напечатать имена и значения, вы можете использовать конкатенацию строк (+), форматирование f-строки или другие методы."
   ]
  },
  {
   "cell_type": "code",
   "execution_count": 32,
   "metadata": {},
   "outputs": [
    {
     "name": "stdout",
     "output_type": "stream",
     "text": [
      "Krishnang прочитал 12 книг\n",
      "Steve прочитал 6 книг\n",
      "Jimmy не читал ни одной книги!\n",
      "Mary прочитал 7 книг\n",
      "Divya прочитал 4 книг\n",
      "Robert прочитал 10 книг\n",
      "Yulia прочитал 15 книг\n"
     ]
    }
   ],
   "source": [
    "for peoples, books in zip(people, books_read):\n",
    "  if books == 0 :\n",
    "    print(f\"{peoples} не читал ни одной книги!\")\n",
    "  else:\n",
    "    print(f\"{peoples} прочитал {books} книг\")"
   ]
  },
  {
   "cell_type": "markdown",
   "metadata": {},
   "source": [
    "Преобразуйте только что созданный цикл в функцию, которая принимает два списка (прочитанные книги и людей) в качестве аргументов."
   ]
  },
  {
   "cell_type": "code",
   "execution_count": 41,
   "metadata": {},
   "outputs": [],
   "source": [
    "def peoples_read_books(p, r_b):\n",
    "  for peoples, books in zip(p, r_b):\n",
    "    if books == 0 :\n",
    "      print(f\"{peoples} не читал ни одной книги!\")\n",
    "    else:\n",
    "      print(f\"{peoples} прочитал {books} книг\")"
   ]
  },
  {
   "cell_type": "code",
   "execution_count": 42,
   "metadata": {},
   "outputs": [
    {
     "name": "stdout",
     "output_type": "stream",
     "text": [
      "Mary прочитал 7 книг\n",
      "Robert прочитал 10 книг\n",
      "Jimmy не читал ни одной книги!\n",
      "Steve прочитал 6 книг\n"
     ]
    }
   ],
   "source": [
    "p = [\"Mary\", \"Robert\", \"Jimmy\", \"Steve\"]\n",
    "r_b = [7, 10, 0, 6]\n",
    "\n",
    "peoples_read_books(p, r_b)"
   ]
  },
  {
   "cell_type": "markdown",
   "metadata": {},
   "source": [
    "Отсортируйте значения `books_read` от большего к меньшему и выведите трех первых людей с количеством прочитанных ими книг. Некоторые возможные способы решения этой задачи включают использование сортировки аргументов `NumPy`, создание словаря и создание кортежей."
   ]
  },
  {
   "cell_type": "code",
   "execution_count": 51,
   "metadata": {},
   "outputs": [
    {
     "name": "stdout",
     "output_type": "stream",
     "text": [
      "Yulia: 15 книг\n",
      "Krishnang: 12 книг\n",
      "Robert: 10 книг\n"
     ]
    }
   ],
   "source": [
    "import numpy as np\n",
    "\n",
    "people = ['Krishnang', 'Steve', 'Jimmy', 'Mary', 'Divya', 'Robert', 'Yulia']\n",
    "books_read = [12, 6, 0, 7, 4, 10, 15]\n",
    "\n",
    "\n",
    "# Создаем список кортежей из имен и количества прочитанных книг\n",
    "people_books = list(zip(people, books_read))\n",
    "\n",
    "# Сортируем список по количеству прочитанных книг\n",
    "sorted_people_books = sorted(people_books, key=lambda x: x[1], reverse=True)\n",
    "\n",
    "# Выводим первые три элемента\n",
    "for name, count in sorted_people_books[:3]:\n",
    "    print(f\"{name}: {count} книг\")\n",
    "\n"
   ]
  }
 ],
 "metadata": {
  "colab": {
   "provenance": []
  },
  "kernelspec": {
   "display_name": "Python 3 (ipykernel)",
   "language": "python",
   "name": "python3"
  },
  "language_info": {
   "codemirror_mode": {
    "name": "ipython",
    "version": 3
   },
   "file_extension": ".py",
   "mimetype": "text/x-python",
   "name": "python",
   "nbconvert_exporter": "python",
   "pygments_lexer": "ipython3",
   "version": "3.11.5"
  }
 },
 "nbformat": 4,
 "nbformat_minor": 1
}
